{
  "cells": [
    {
      "cell_type": "markdown",
      "metadata": {
        "id": "view-in-github",
        "colab_type": "text"
      },
      "source": [
        "<a href=\"https://colab.research.google.com/github/JiananAlvin/ee411_fundamentals_of_inference_and_learning/blob/main/FoIL_ex6.ipynb\" target=\"_parent\"><img src=\"https://colab.research.google.com/assets/colab-badge.svg\" alt=\"Open In Colab\"/></a>"
      ]
    },
    {
      "cell_type": "markdown",
      "metadata": {
        "id": "roGVKmtmaGSK"
      },
      "source": [
        "# EE-411 Fundamentals of inference and learning, EPFL\n",
        "## Exercise Session 6: Ridge Regression and Lasso on real datasets\n",
        "\n",
        "In this sixth set of exercises, we will see how to implement the methods introduced in the last exercise session and discussed in the last lecture to work with some real datasets. We will see which are the differences between these regularized least-square methods and the standard OLS solution.\n",
        "\n",
        "**What you will learn today:**  In this sixth notebook, we shall see how to use scikit-learn to implement Ridge and Lasso. We also introduce `pipelines`, an important tool which is frequently used in Machine Learning. Furthermore, we will linger on the important concept of sparsity."
      ]
    },
    {
      "cell_type": "code",
      "execution_count": 94,
      "metadata": {
        "collapsed": true,
        "id": "-Eg-9Ps6aAwW"
      },
      "outputs": [],
      "source": [
        "#We import the usual packages\n",
        "%matplotlib inline\n",
        "import pandas as pd\n",
        "import numpy as np\n",
        "import matplotlib.pyplot as plt"
      ]
    },
    {
      "cell_type": "markdown",
      "metadata": {
        "id": "dto2wKg95Y-y"
      },
      "source": [
        "# A) Ozone\n",
        "---\n",
        "Let us look at a particular real-life data problem. In the following example we take the prediction of ozone concentration as a factor of other weather-based features. As with all data problems, it behooves us to take a look at all of the information that we have about the dataset.\n",
        "\n",
        "#### Dataset loading"
      ]
    },
    {
      "cell_type": "code",
      "execution_count": 95,
      "metadata": {
        "id": "IwmAl9MS6PgU",
        "colab": {
          "base_uri": "https://localhost:8080/",
          "height": 206
        },
        "outputId": "278fa227-21e4-467c-c2fa-de63aad4df91"
      },
      "outputs": [
        {
          "output_type": "execute_result",
          "data": {
            "text/plain": [
              "   ozone    vh  wind  humidity  temp   ibh  dpg  ibt  vis  doy\n",
              "0      3  5710     4        28    40  2693  -25   87  250    3\n",
              "1      5  5700     3        37    45   590  -24  128  100    4\n",
              "2      5  5760     3        51    54  1450   25  139   60    5\n",
              "3      6  5720     4        69    35  1568   15  121   60    6\n",
              "4      4  5790     6        19    45  2631  -33  123  100    7"
            ],
            "text/html": [
              "\n",
              "  <div id=\"df-06ba1a37-fa8b-4815-879d-c50324c4b06e\" class=\"colab-df-container\">\n",
              "    <div>\n",
              "<style scoped>\n",
              "    .dataframe tbody tr th:only-of-type {\n",
              "        vertical-align: middle;\n",
              "    }\n",
              "\n",
              "    .dataframe tbody tr th {\n",
              "        vertical-align: top;\n",
              "    }\n",
              "\n",
              "    .dataframe thead th {\n",
              "        text-align: right;\n",
              "    }\n",
              "</style>\n",
              "<table border=\"1\" class=\"dataframe\">\n",
              "  <thead>\n",
              "    <tr style=\"text-align: right;\">\n",
              "      <th></th>\n",
              "      <th>ozone</th>\n",
              "      <th>vh</th>\n",
              "      <th>wind</th>\n",
              "      <th>humidity</th>\n",
              "      <th>temp</th>\n",
              "      <th>ibh</th>\n",
              "      <th>dpg</th>\n",
              "      <th>ibt</th>\n",
              "      <th>vis</th>\n",
              "      <th>doy</th>\n",
              "    </tr>\n",
              "  </thead>\n",
              "  <tbody>\n",
              "    <tr>\n",
              "      <th>0</th>\n",
              "      <td>3</td>\n",
              "      <td>5710</td>\n",
              "      <td>4</td>\n",
              "      <td>28</td>\n",
              "      <td>40</td>\n",
              "      <td>2693</td>\n",
              "      <td>-25</td>\n",
              "      <td>87</td>\n",
              "      <td>250</td>\n",
              "      <td>3</td>\n",
              "    </tr>\n",
              "    <tr>\n",
              "      <th>1</th>\n",
              "      <td>5</td>\n",
              "      <td>5700</td>\n",
              "      <td>3</td>\n",
              "      <td>37</td>\n",
              "      <td>45</td>\n",
              "      <td>590</td>\n",
              "      <td>-24</td>\n",
              "      <td>128</td>\n",
              "      <td>100</td>\n",
              "      <td>4</td>\n",
              "    </tr>\n",
              "    <tr>\n",
              "      <th>2</th>\n",
              "      <td>5</td>\n",
              "      <td>5760</td>\n",
              "      <td>3</td>\n",
              "      <td>51</td>\n",
              "      <td>54</td>\n",
              "      <td>1450</td>\n",
              "      <td>25</td>\n",
              "      <td>139</td>\n",
              "      <td>60</td>\n",
              "      <td>5</td>\n",
              "    </tr>\n",
              "    <tr>\n",
              "      <th>3</th>\n",
              "      <td>6</td>\n",
              "      <td>5720</td>\n",
              "      <td>4</td>\n",
              "      <td>69</td>\n",
              "      <td>35</td>\n",
              "      <td>1568</td>\n",
              "      <td>15</td>\n",
              "      <td>121</td>\n",
              "      <td>60</td>\n",
              "      <td>6</td>\n",
              "    </tr>\n",
              "    <tr>\n",
              "      <th>4</th>\n",
              "      <td>4</td>\n",
              "      <td>5790</td>\n",
              "      <td>6</td>\n",
              "      <td>19</td>\n",
              "      <td>45</td>\n",
              "      <td>2631</td>\n",
              "      <td>-33</td>\n",
              "      <td>123</td>\n",
              "      <td>100</td>\n",
              "      <td>7</td>\n",
              "    </tr>\n",
              "  </tbody>\n",
              "</table>\n",
              "</div>\n",
              "    <div class=\"colab-df-buttons\">\n",
              "\n",
              "  <div class=\"colab-df-container\">\n",
              "    <button class=\"colab-df-convert\" onclick=\"convertToInteractive('df-06ba1a37-fa8b-4815-879d-c50324c4b06e')\"\n",
              "            title=\"Convert this dataframe to an interactive table.\"\n",
              "            style=\"display:none;\">\n",
              "\n",
              "  <svg xmlns=\"http://www.w3.org/2000/svg\" height=\"24px\" viewBox=\"0 -960 960 960\">\n",
              "    <path d=\"M120-120v-720h720v720H120Zm60-500h600v-160H180v160Zm220 220h160v-160H400v160Zm0 220h160v-160H400v160ZM180-400h160v-160H180v160Zm440 0h160v-160H620v160ZM180-180h160v-160H180v160Zm440 0h160v-160H620v160Z\"/>\n",
              "  </svg>\n",
              "    </button>\n",
              "\n",
              "  <style>\n",
              "    .colab-df-container {\n",
              "      display:flex;\n",
              "      gap: 12px;\n",
              "    }\n",
              "\n",
              "    .colab-df-convert {\n",
              "      background-color: #E8F0FE;\n",
              "      border: none;\n",
              "      border-radius: 50%;\n",
              "      cursor: pointer;\n",
              "      display: none;\n",
              "      fill: #1967D2;\n",
              "      height: 32px;\n",
              "      padding: 0 0 0 0;\n",
              "      width: 32px;\n",
              "    }\n",
              "\n",
              "    .colab-df-convert:hover {\n",
              "      background-color: #E2EBFA;\n",
              "      box-shadow: 0px 1px 2px rgba(60, 64, 67, 0.3), 0px 1px 3px 1px rgba(60, 64, 67, 0.15);\n",
              "      fill: #174EA6;\n",
              "    }\n",
              "\n",
              "    .colab-df-buttons div {\n",
              "      margin-bottom: 4px;\n",
              "    }\n",
              "\n",
              "    [theme=dark] .colab-df-convert {\n",
              "      background-color: #3B4455;\n",
              "      fill: #D2E3FC;\n",
              "    }\n",
              "\n",
              "    [theme=dark] .colab-df-convert:hover {\n",
              "      background-color: #434B5C;\n",
              "      box-shadow: 0px 1px 3px 1px rgba(0, 0, 0, 0.15);\n",
              "      filter: drop-shadow(0px 1px 2px rgba(0, 0, 0, 0.3));\n",
              "      fill: #FFFFFF;\n",
              "    }\n",
              "  </style>\n",
              "\n",
              "    <script>\n",
              "      const buttonEl =\n",
              "        document.querySelector('#df-06ba1a37-fa8b-4815-879d-c50324c4b06e button.colab-df-convert');\n",
              "      buttonEl.style.display =\n",
              "        google.colab.kernel.accessAllowed ? 'block' : 'none';\n",
              "\n",
              "      async function convertToInteractive(key) {\n",
              "        const element = document.querySelector('#df-06ba1a37-fa8b-4815-879d-c50324c4b06e');\n",
              "        const dataTable =\n",
              "          await google.colab.kernel.invokeFunction('convertToInteractive',\n",
              "                                                    [key], {});\n",
              "        if (!dataTable) return;\n",
              "\n",
              "        const docLinkHtml = 'Like what you see? Visit the ' +\n",
              "          '<a target=\"_blank\" href=https://colab.research.google.com/notebooks/data_table.ipynb>data table notebook</a>'\n",
              "          + ' to learn more about interactive tables.';\n",
              "        element.innerHTML = '';\n",
              "        dataTable['output_type'] = 'display_data';\n",
              "        await google.colab.output.renderOutput(dataTable, element);\n",
              "        const docLink = document.createElement('div');\n",
              "        docLink.innerHTML = docLinkHtml;\n",
              "        element.appendChild(docLink);\n",
              "      }\n",
              "    </script>\n",
              "  </div>\n",
              "\n",
              "\n",
              "<div id=\"df-eea8ce78-1464-4c72-80ea-d5619cc7ec53\">\n",
              "  <button class=\"colab-df-quickchart\" onclick=\"quickchart('df-eea8ce78-1464-4c72-80ea-d5619cc7ec53')\"\n",
              "            title=\"Suggest charts\"\n",
              "            style=\"display:none;\">\n",
              "\n",
              "<svg xmlns=\"http://www.w3.org/2000/svg\" height=\"24px\"viewBox=\"0 0 24 24\"\n",
              "     width=\"24px\">\n",
              "    <g>\n",
              "        <path d=\"M19 3H5c-1.1 0-2 .9-2 2v14c0 1.1.9 2 2 2h14c1.1 0 2-.9 2-2V5c0-1.1-.9-2-2-2zM9 17H7v-7h2v7zm4 0h-2V7h2v10zm4 0h-2v-4h2v4z\"/>\n",
              "    </g>\n",
              "</svg>\n",
              "  </button>\n",
              "\n",
              "<style>\n",
              "  .colab-df-quickchart {\n",
              "      --bg-color: #E8F0FE;\n",
              "      --fill-color: #1967D2;\n",
              "      --hover-bg-color: #E2EBFA;\n",
              "      --hover-fill-color: #174EA6;\n",
              "      --disabled-fill-color: #AAA;\n",
              "      --disabled-bg-color: #DDD;\n",
              "  }\n",
              "\n",
              "  [theme=dark] .colab-df-quickchart {\n",
              "      --bg-color: #3B4455;\n",
              "      --fill-color: #D2E3FC;\n",
              "      --hover-bg-color: #434B5C;\n",
              "      --hover-fill-color: #FFFFFF;\n",
              "      --disabled-bg-color: #3B4455;\n",
              "      --disabled-fill-color: #666;\n",
              "  }\n",
              "\n",
              "  .colab-df-quickchart {\n",
              "    background-color: var(--bg-color);\n",
              "    border: none;\n",
              "    border-radius: 50%;\n",
              "    cursor: pointer;\n",
              "    display: none;\n",
              "    fill: var(--fill-color);\n",
              "    height: 32px;\n",
              "    padding: 0;\n",
              "    width: 32px;\n",
              "  }\n",
              "\n",
              "  .colab-df-quickchart:hover {\n",
              "    background-color: var(--hover-bg-color);\n",
              "    box-shadow: 0 1px 2px rgba(60, 64, 67, 0.3), 0 1px 3px 1px rgba(60, 64, 67, 0.15);\n",
              "    fill: var(--button-hover-fill-color);\n",
              "  }\n",
              "\n",
              "  .colab-df-quickchart-complete:disabled,\n",
              "  .colab-df-quickchart-complete:disabled:hover {\n",
              "    background-color: var(--disabled-bg-color);\n",
              "    fill: var(--disabled-fill-color);\n",
              "    box-shadow: none;\n",
              "  }\n",
              "\n",
              "  .colab-df-spinner {\n",
              "    border: 2px solid var(--fill-color);\n",
              "    border-color: transparent;\n",
              "    border-bottom-color: var(--fill-color);\n",
              "    animation:\n",
              "      spin 1s steps(1) infinite;\n",
              "  }\n",
              "\n",
              "  @keyframes spin {\n",
              "    0% {\n",
              "      border-color: transparent;\n",
              "      border-bottom-color: var(--fill-color);\n",
              "      border-left-color: var(--fill-color);\n",
              "    }\n",
              "    20% {\n",
              "      border-color: transparent;\n",
              "      border-left-color: var(--fill-color);\n",
              "      border-top-color: var(--fill-color);\n",
              "    }\n",
              "    30% {\n",
              "      border-color: transparent;\n",
              "      border-left-color: var(--fill-color);\n",
              "      border-top-color: var(--fill-color);\n",
              "      border-right-color: var(--fill-color);\n",
              "    }\n",
              "    40% {\n",
              "      border-color: transparent;\n",
              "      border-right-color: var(--fill-color);\n",
              "      border-top-color: var(--fill-color);\n",
              "    }\n",
              "    60% {\n",
              "      border-color: transparent;\n",
              "      border-right-color: var(--fill-color);\n",
              "    }\n",
              "    80% {\n",
              "      border-color: transparent;\n",
              "      border-right-color: var(--fill-color);\n",
              "      border-bottom-color: var(--fill-color);\n",
              "    }\n",
              "    90% {\n",
              "      border-color: transparent;\n",
              "      border-bottom-color: var(--fill-color);\n",
              "    }\n",
              "  }\n",
              "</style>\n",
              "\n",
              "  <script>\n",
              "    async function quickchart(key) {\n",
              "      const quickchartButtonEl =\n",
              "        document.querySelector('#' + key + ' button');\n",
              "      quickchartButtonEl.disabled = true;  // To prevent multiple clicks.\n",
              "      quickchartButtonEl.classList.add('colab-df-spinner');\n",
              "      try {\n",
              "        const charts = await google.colab.kernel.invokeFunction(\n",
              "            'suggestCharts', [key], {});\n",
              "      } catch (error) {\n",
              "        console.error('Error during call to suggestCharts:', error);\n",
              "      }\n",
              "      quickchartButtonEl.classList.remove('colab-df-spinner');\n",
              "      quickchartButtonEl.classList.add('colab-df-quickchart-complete');\n",
              "    }\n",
              "    (() => {\n",
              "      let quickchartButtonEl =\n",
              "        document.querySelector('#df-eea8ce78-1464-4c72-80ea-d5619cc7ec53 button');\n",
              "      quickchartButtonEl.style.display =\n",
              "        google.colab.kernel.accessAllowed ? 'block' : 'none';\n",
              "    })();\n",
              "  </script>\n",
              "</div>\n",
              "\n",
              "    </div>\n",
              "  </div>\n"
            ],
            "application/vnd.google.colaboratory.intrinsic+json": {
              "type": "dataframe",
              "variable_name": "data",
              "summary": "{\n  \"name\": \"data\",\n  \"rows\": 330,\n  \"fields\": [\n    {\n      \"column\": \"ozone\",\n      \"properties\": {\n        \"dtype\": \"number\",\n        \"std\": 8,\n        \"min\": 1,\n        \"max\": 38,\n        \"num_unique_values\": 35,\n        \"samples\": [\n          25,\n          23,\n          27\n        ],\n        \"semantic_type\": \"\",\n        \"description\": \"\"\n      }\n    },\n    {\n      \"column\": \"vh\",\n      \"properties\": {\n        \"dtype\": \"number\",\n        \"std\": 105,\n        \"min\": 5320,\n        \"max\": 5950,\n        \"num_unique_values\": 53,\n        \"samples\": [\n          5350,\n          5750,\n          5900\n        ],\n        \"semantic_type\": \"\",\n        \"description\": \"\"\n      }\n    },\n    {\n      \"column\": \"wind\",\n      \"properties\": {\n        \"dtype\": \"number\",\n        \"std\": 2,\n        \"min\": 0,\n        \"max\": 21,\n        \"num_unique_values\": 12,\n        \"samples\": [\n          0,\n          10,\n          4\n        ],\n        \"semantic_type\": \"\",\n        \"description\": \"\"\n      }\n    },\n    {\n      \"column\": \"humidity\",\n      \"properties\": {\n        \"dtype\": \"number\",\n        \"std\": 19,\n        \"min\": 19,\n        \"max\": 93,\n        \"num_unique_values\": 65,\n        \"samples\": [\n          38,\n          23,\n          28\n        ],\n        \"semantic_type\": \"\",\n        \"description\": \"\"\n      }\n    },\n    {\n      \"column\": \"temp\",\n      \"properties\": {\n        \"dtype\": \"number\",\n        \"std\": 14,\n        \"min\": 25,\n        \"max\": 93,\n        \"num_unique_values\": 63,\n        \"samples\": [\n          92,\n          86,\n          40\n        ],\n        \"semantic_type\": \"\",\n        \"description\": \"\"\n      }\n    },\n    {\n      \"column\": \"ibh\",\n      \"properties\": {\n        \"dtype\": \"number\",\n        \"std\": 1803,\n        \"min\": 111,\n        \"max\": 5000,\n        \"num_unique_values\": 196,\n        \"samples\": [\n          1545,\n          1486,\n          597\n        ],\n        \"semantic_type\": \"\",\n        \"description\": \"\"\n      }\n    },\n    {\n      \"column\": \"dpg\",\n      \"properties\": {\n        \"dtype\": \"number\",\n        \"std\": 35,\n        \"min\": -69,\n        \"max\": 107,\n        \"num_unique_values\": 128,\n        \"samples\": [\n          -27,\n          26,\n          18\n        ],\n        \"semantic_type\": \"\",\n        \"description\": \"\"\n      }\n    },\n    {\n      \"column\": \"ibt\",\n      \"properties\": {\n        \"dtype\": \"number\",\n        \"std\": 76,\n        \"min\": -25,\n        \"max\": 332,\n        \"num_unique_values\": 193,\n        \"samples\": [\n          -25,\n          251,\n          -4\n        ],\n        \"semantic_type\": \"\",\n        \"description\": \"\"\n      }\n    },\n    {\n      \"column\": \"vis\",\n      \"properties\": {\n        \"dtype\": \"number\",\n        \"std\": 79,\n        \"min\": 0,\n        \"max\": 350,\n        \"num_unique_values\": 24,\n        \"samples\": [\n          140,\n          2,\n          250\n        ],\n        \"semantic_type\": \"\",\n        \"description\": \"\"\n      }\n    },\n    {\n      \"column\": \"doy\",\n      \"properties\": {\n        \"dtype\": \"number\",\n        \"std\": 106,\n        \"min\": 3,\n        \"max\": 365,\n        \"num_unique_values\": 330,\n        \"samples\": [\n          12,\n          177,\n          152\n        ],\n        \"semantic_type\": \"\",\n        \"description\": \"\"\n      }\n    }\n  ]\n}"
            }
          },
          "metadata": {},
          "execution_count": 95
        }
      ],
      "source": [
        "data =   pd.read_csv('https://web.stanford.edu/~hastie/ElemStatLearn/datasets/LAozone.data')\n",
        "data.head()"
      ]
    },
    {
      "cell_type": "markdown",
      "metadata": {
        "id": "A8tnJPM35Y-z"
      },
      "source": [
        "Alright, we're ready to get started ! Now, before we touch anything, we need to follow best practices. When faced with a new dataset, we need to split it into three parts: **Training**(and within that, **Validation**), and **Testing** sets.\n",
        "\n",
        "The best practice here is to take the test data and lock it away somewhere. It is always tempting to tune your algorithms to give the best test performance. However, even if the regression isn't explicitly *trained* on the test data, as practitioners, we could be continually making changes in an effort to get our numbers up.\n",
        "\n",
        "Instead, we should deep-freeze the test data, and then tune as much as we can via **cross-validation (CV)** on our training data.\n",
        "\n",
        "#### Train/Test splitting"
      ]
    },
    {
      "cell_type": "code",
      "execution_count": 96,
      "metadata": {
        "id": "oQyEsGDt5Y-z",
        "colab": {
          "base_uri": "https://localhost:8080/"
        },
        "outputId": "60a58e8d-19db-410a-fbcc-d2e4c526797a"
      },
      "outputs": [
        {
          "output_type": "stream",
          "name": "stdout",
          "text": [
            "Training Samples:  247\n",
            "Testing  Samples:  83\n"
          ]
        }
      ],
      "source": [
        "from sklearn.model_selection import train_test_split\n",
        "\n",
        "#--- Convert from DataFrame to NDArray ---#\n",
        "# We also ensure that we load in all data as floating point values\n",
        "# so that we don't miss anything to truncations.\n",
        "y = data['ozone'].to_numpy().astype(float)\n",
        "X = data[data.columns[1:]].to_numpy()\n",
        "\n",
        "#--- Split Dataset ---#\n",
        "XTrain, XTest, yTrain, yTest = train_test_split(X,y,test_size = 0.25, random_state=1)\n",
        "\n",
        "print(\"Training Samples: \", len(yTrain))\n",
        "print(\"Testing  Samples: \", len(yTest))"
      ]
    },
    {
      "cell_type": "markdown",
      "metadata": {
        "id": "XxP_xg625Y-z"
      },
      "source": [
        "Now, before we start attempting to fit models, lets take a bit of care and apply some pre-processing to our dataset. The de-facto pre-processing is *centering and normalization*. Specifically, many flavors of estimators (OLS, RR, etc.) can be thrown off by large differences in scale and variations between the features. We can easily account for this in our estimators by simply normalizing the feature columns and removing averages. Scikit-Learn has some features to do this automatically!\n",
        "\n",
        "#### Preprocessing"
      ]
    },
    {
      "cell_type": "code",
      "execution_count": 97,
      "metadata": {
        "collapsed": true,
        "id": "hlyrRvAQ5Y-0"
      },
      "outputs": [],
      "source": [
        "from sklearn import preprocessing\n",
        "\n",
        "#--- Scaling ---#\n",
        "scaler = preprocessing.StandardScaler().fit(XTrain)\n",
        "XTest_scaled = scaler.transform(XTest)\n",
        "XTrain_scaled = scaler.transform(XTrain)\n",
        "\n",
        "#--- Center observations (simplify the OLS)---#\n",
        "yTrain_mean = np.mean(yTrain)\n",
        "yTrain_centered = yTrain - yTrain_mean"
      ]
    },
    {
      "cell_type": "markdown",
      "metadata": {
        "id": "Cu6wR7tr5Y-0"
      },
      "source": [
        "Now it is time for us to choose our estimator. What should we choose?"
      ]
    },
    {
      "cell_type": "markdown",
      "metadata": {
        "id": "XJY7nEEq5Y-0"
      },
      "source": [
        "## Attempt 1: ordinary least squares (OLS)\n",
        "---\n",
        "\n"
      ]
    },
    {
      "cell_type": "markdown",
      "metadata": {
        "id": "EBOVGZ58TeGC"
      },
      "source": [
        "If you remember last exercise session, the equation to solve is of the type\n",
        "\n",
        "$$\n",
        "(X^T X) \\hat {\\mathbf w} = X^T {\\mathbf y}\n",
        "$$\n",
        "\n",
        "The function `linalg.solve(a,b)` can be used to solve a system of linear scalar equations $ax=b$, thus we can use it to compute the prediction of the model both on the train and on the test datasets"
      ]
    },
    {
      "cell_type": "code",
      "execution_count": 98,
      "metadata": {
        "id": "cMYULuaMZlTq"
      },
      "outputs": [],
      "source": [
        "#--- Compute the OLS Estimate ---#\n",
        "regOLS = np.linalg.solve(np.dot(XTrain_scaled.T,XTrain_scaled), np.dot(XTrain_scaled.T,yTrain))\n",
        "\n",
        "yp = np.dot(XTrain_scaled, regOLS)\n",
        "ypTest = np.dot(XTest_scaled, regOLS)"
      ]
    },
    {
      "cell_type": "markdown",
      "metadata": {
        "id": "Ol32ddnsZmKS"
      },
      "source": [
        "Let's see now how well the prediction performance looks and which are the learned parameters corresponding to the OLS solution"
      ]
    },
    {
      "cell_type": "code",
      "execution_count": 99,
      "metadata": {
        "id": "imRZjEBS5Y-0",
        "colab": {
          "base_uri": "https://localhost:8080/",
          "height": 685
        },
        "outputId": "c6e4bc8d-9a4d-4a8d-a299-30e425197d62"
      },
      "outputs": [
        {
          "output_type": "display_data",
          "data": {
            "text/plain": [
              "<Figure size 1400x700 with 2 Axes>"
            ],
            "image/png": "[encoded data removed]"
          },
          "metadata": {}
        }
      ],
      "source": [
        "#--- Visualize ---#\n",
        "plt.figure(figsize=(14,7))\n",
        "plt.subplot(121)\n",
        "plt.plot(yTrain, yp + yTrain_mean,'.', label='Training') #remember to add again the mean when you plot\n",
        "plt.plot(yTest, ypTest + yTrain_mean, label='Testing', marker='x')\n",
        "plt.plot([0, 40], [0, 40], '-k', linewidth=0.7, label=\"Perfect\")\n",
        "# plt.axis([0, 40, 0, 40])\n",
        "plt.xlabel('Ozone (True)', fontsize=16)\n",
        "plt.ylabel('Ozone (Predicted)', fontsize=16)\n",
        "plt.legend(loc=2, fontsize=16)\n",
        "plt.title('Prediction Performance', fontsize=18)\n",
        "# Plot the learned model\n",
        "plt.subplot(122)\n",
        "plt.stem(regOLS)\n",
        "plt.title('Learned Model $\\\\hat{\\\\beta}$', fontsize=18)\n",
        "plt.xticks(range(9),data.keys()[1:10], rotation='vertical');"
      ]
    },
    {
      "cell_type": "markdown",
      "metadata": {
        "id": "dS8icHBvax9I"
      },
      "source": [
        "Finally, to see how well the model is performing, we can compute the Residual Sum of Squares (RSS) for both the train and the test set"
      ]
    },
    {
      "cell_type": "code",
      "execution_count": 100,
      "metadata": {
        "id": "QeMhKtMPaxc-",
        "colab": {
          "base_uri": "https://localhost:8080/"
        },
        "outputId": "23692987-8243-4046-fcd1-7656a282ac1b"
      },
      "outputs": [
        {
          "output_type": "stream",
          "name": "stdout",
          "text": [
            "Normalized RSS (Train): 18.28\n",
            "Normalized RSS  (Test): 22.53\n"
          ]
        }
      ],
      "source": [
        "#--- Print RSS ---#\n",
        "rss_train = np.mean(np.power(yTrain_centered - yp,2))\n",
        "rss_test = np.mean(np.power(yTest - yTrain_mean - ypTest,2))\n",
        "print(\"Normalized RSS (Train): %0.2f\" % rss_train)\n",
        "print(\"Normalized RSS  (Test): %0.2f\" % rss_test)"
      ]
    },
    {
      "cell_type": "markdown",
      "metadata": {
        "id": "59UtPKSScN4-"
      },
      "source": [
        "The same thing could have been done using the packages present in **Scikit-Learn**"
      ]
    },
    {
      "cell_type": "code",
      "execution_count": 101,
      "metadata": {
        "id": "z-Ac4GBccNrW"
      },
      "outputs": [],
      "source": [
        "from sklearn import linear_model\n",
        "\n",
        "#--- Define OLS Estimator ---#\n",
        "regL = linear_model.LinearRegression()\n",
        "#--- Fit the parameters ---#\n",
        "regL.fit(XTrain_scaled,yTrain_centered)\n",
        "#--- Use the learned coefficients to predict the y ---#\n",
        "yp_L = regL.predict(XTrain)\n",
        "ypTest_L = regL.predict(XTest)"
      ]
    },
    {
      "cell_type": "markdown",
      "metadata": {
        "id": "Nag9kam2sXKe"
      },
      "source": [
        "**Note:** the standard value `fit_intercept=True` in `LinearRegression`, but also in `Ridge` and in `Lasso`, allows us not to think about the intercept, since it is automatically considered by the method."
      ]
    },
    {
      "cell_type": "markdown",
      "metadata": {
        "id": "vWNK9T1euPgd"
      },
      "source": [
        "#### 1) Compare these estimates to the preivious ones, computed without considering the intercept. Why they are so similar?\n",
        " - Is the intercept fitted by `LinearRegression` big?\n",
        " - What's the difference in the MSE of the two prediction?\n",
        " - (bonus) Make a plot!"
      ]
    },
    {
      "cell_type": "markdown",
      "metadata": {
        "id": "ghHC5OhOohu2"
      },
      "source": [
        "#### 2) Prove that fitting the intercept (as `LinearRegression`) is equivalent to what we did (subtracting the mean). (Hint: remember that the inpunts are scaled!)"
      ]
    },
    {
      "cell_type": "markdown",
      "metadata": {
        "id": "jXF5xTlL5Y-1"
      },
      "source": [
        "## Attempt 2: Ridge Regression\n",
        "---"
      ]
    },
    {
      "cell_type": "markdown",
      "metadata": {
        "id": "8-Jnh6PZb9VU"
      },
      "source": [
        "For RR, that we implemented by hand in the last notebook, we can use directly Scikit-learn. First of all, we import as always the model, choosing for now the regularization constant $\\alpha = 0.01$"
      ]
    },
    {
      "cell_type": "code",
      "execution_count": 102,
      "metadata": {
        "id": "0PYMdFRI5Y-1"
      },
      "outputs": [],
      "source": [
        "#--- Define Regression Estimator ---#\n",
        "regRR = linear_model.Ridge(alpha=0.01)"
      ]
    },
    {
      "cell_type": "markdown",
      "metadata": {
        "id": "WjLPItMs5Y-1"
      },
      "source": [
        "Now, we need to perform some kind of cross-validation (CV) to find the best set of parameters for our model. We will do this by constructing a **Pipeline**. A pipeline is a useful way of handling pre-processing on separate data partitions when performing CV. Let's take a look at that.\n",
        "\n",
        "In the next cell we use the pipeline to do two things:\n",
        "\n",
        "* We standardize features by removing the mean and scaling to unit variance (it is done by `preprocessing.StandardScaler()`)\n",
        "\n",
        "* We implement the fitting strategy; namely Ridge Regression\n",
        "\n",
        "#### Pipeline"
      ]
    },
    {
      "cell_type": "code",
      "execution_count": 103,
      "metadata": {
        "id": "csCkghRKNz6n"
      },
      "outputs": [],
      "source": [
        "from sklearn.pipeline import make_pipeline\n",
        "\n",
        "#--- Make a Pre-processing + Fitting Pipeline ---#\n",
        "pipe_regRR = make_pipeline(preprocessing.StandardScaler(), regRR)"
      ]
    },
    {
      "cell_type": "markdown",
      "metadata": {
        "id": "8-iK6g6WgGi5"
      },
      "source": [
        "After that, we have  to define a Scoring Metric. In this case, to compare the fits we look at the prediction error via the RSS."
      ]
    },
    {
      "cell_type": "code",
      "execution_count": 104,
      "metadata": {
        "id": "2pDzNtPVgK9a"
      },
      "outputs": [],
      "source": [
        "#--- Define a Scoring Metric (Residual Sum of Squares) ---#\n",
        "def neg_rss(reg, X, y):\n",
        "    yp = reg.predict(X)\n",
        "    return -np.mean(np.power(y - yp,2))"
      ]
    },
    {
      "cell_type": "markdown",
      "metadata": {
        "id": "DeqdYNurgk0h"
      },
      "source": [
        " We can then create an iterator which performs a set of **randomized splits on the dataset into \"train\" and \"validation\"**.\n",
        "\n",
        "Obviously, we have a trade-off between the test set size and the number of splits we should perform."
      ]
    },
    {
      "cell_type": "code",
      "execution_count": 105,
      "metadata": {
        "id": "8RJertM25Y-1"
      },
      "outputs": [],
      "source": [
        "from sklearn.model_selection import ShuffleSplit\n",
        "from sklearn.model_selection import GridSearchCV\n",
        "\n",
        "#--- Define CV Splitting ---#\n",
        "cv = ShuffleSplit(n_splits=30, test_size=0.05, random_state=1)\n",
        "\n",
        "#--- Define the Parameters to Search ---#\n",
        "param_grid = [\n",
        "    {'ridge__alpha': np.logspace(-5,3,100)} # we do CV for values of alpha between 0.0001 and 1000\n",
        "]"
      ]
    },
    {
      "cell_type": "markdown",
      "metadata": {
        "id": "3qbVB4sWjyqL"
      },
      "source": [
        "Finally, we use `GradSearchCV` to find which is the best value of the parameter $\\alpha$"
      ]
    },
    {
      "cell_type": "code",
      "execution_count": 106,
      "metadata": {
        "id": "sQaDNH1ujzRa"
      },
      "outputs": [],
      "source": [
        "#--- Define CV ---#\n",
        "cv_regRR = GridSearchCV(pipe_regRR, param_grid, scoring=neg_rss, cv=cv,return_train_score=True) #Note that we need to use the RSS with a minus sign!"
      ]
    },
    {
      "cell_type": "code",
      "execution_count": 107,
      "metadata": {
        "id": "-tI2oIThohu2",
        "colab": {
          "base_uri": "https://localhost:8080/",
          "height": 177
        },
        "outputId": "e6b25d4a-59b2-48aa-e7cf-13a3b89e5095"
      },
      "outputs": [
        {
          "output_type": "execute_result",
          "data": {
            "text/plain": [
              "GridSearchCV(cv=ShuffleSplit(n_splits=30, random_state=1, test_size=0.05, train_size=None),\n",
              "             estimator=Pipeline(steps=[('standardscaler', StandardScaler()),\n",
              "                                       ('ridge', Ridge(alpha=0.01))]),\n",
              "             param_grid=[{'ridge__alpha': array([1.00000000e-05, 1.20450354e-05, 1.45082878e-05, 1.74752840e-05,\n",
              "       2.10490414e-05, 2.53536449e-05, 3.05385551e-05, 3.67837977e-05,\n",
              "       4.43062146e-05,...\n",
              "       2.91505306e+01, 3.51119173e+01, 4.22924287e+01, 5.09413801e+01,\n",
              "       6.13590727e+01, 7.39072203e+01, 8.90215085e+01, 1.07226722e+02,\n",
              "       1.29154967e+02, 1.55567614e+02, 1.87381742e+02, 2.25701972e+02,\n",
              "       2.71858824e+02, 3.27454916e+02, 3.94420606e+02, 4.75081016e+02,\n",
              "       5.72236766e+02, 6.89261210e+02, 8.30217568e+02, 1.00000000e+03])}],\n",
              "             return_train_score=True,\n",
              "             scoring=<function neg_rss at 0x79b0122c72e0>)"
            ],
            "text/html": [
              "<style>#sk-container-id-6 {\n",
              "  /* Definition of color scheme common for light and dark mode */\n",
              "  --sklearn-color-text: black;\n",
              "  --sklearn-color-line: gray;\n",
              "  /* Definition of color scheme for unfitted estimators */\n",
              "  --sklearn-color-unfitted-level-0: #fff5e6;\n",
              "  --sklearn-color-unfitted-level-1: #f6e4d2;\n",
              "  --sklearn-color-unfitted-level-2: #ffe0b3;\n",
              "  --sklearn-color-unfitted-level-3: chocolate;\n",
              "  /* Definition of color scheme for fitted estimators */\n",
              "  --sklearn-color-fitted-level-0: #f0f8ff;\n",
              "  --sklearn-color-fitted-level-1: #d4ebff;\n",
              "  --sklearn-color-fitted-level-2: #b3dbfd;\n",
              "  --sklearn-color-fitted-level-3: cornflowerblue;\n",
              "\n",
              "  /* Specific color for light theme */\n",
              "  --sklearn-color-text-on-default-background: var(--sg-text-color, var(--theme-code-foreground, var(--jp-content-font-color1, black)));\n",
              "  --sklearn-color-background: var(--sg-background-color, var(--theme-background, var(--jp-layout-color0, white)));\n",
              "  --sklearn-color-border-box: var(--sg-text-color, var(--theme-code-foreground, var(--jp-content-font-color1, black)));\n",
              "  --sklearn-color-icon: #696969;\n",
              "\n",
              "  @media (prefers-color-scheme: dark) {\n",
              "    /* Redefinition of color scheme for dark theme */\n",
              "    --sklearn-color-text-on-default-background: var(--sg-text-color, var(--theme-code-foreground, var(--jp-content-font-color1, white)));\n",
              "    --sklearn-color-background: var(--sg-background-color, var(--theme-background, var(--jp-layout-color0, #111)));\n",
              "    --sklearn-color-border-box: var(--sg-text-color, var(--theme-code-foreground, var(--jp-content-font-color1, white)));\n",
              "    --sklearn-color-icon: #878787;\n",
              "  }\n",
              "}\n",
              "\n",
              "#sk-container-id-6 {\n",
              "  color: var(--sklearn-color-text);\n",
              "}\n",
              "\n",
              "#sk-container-id-6 pre {\n",
              "  padding: 0;\n",
              "}\n",
              "\n",
              "#sk-container-id-6 input.sk-hidden--visually {\n",
              "  border: 0;\n",
              "  clip: rect(1px 1px 1px 1px);\n",
              "  clip: rect(1px, 1px, 1px, 1px);\n",
              "  height: 1px;\n",
              "  margin: -1px;\n",
              "  overflow: hidden;\n",
              "  padding: 0;\n",
              "  position: absolute;\n",
              "  width: 1px;\n",
              "}\n",
              "\n",
              "#sk-container-id-6 div.sk-dashed-wrapped {\n",
              "  border: 1px dashed var(--sklearn-color-line);\n",
              "  margin: 0 0.4em 0.5em 0.4em;\n",
              "  box-sizing: border-box;\n",
              "  padding-bottom: 0.4em;\n",
              "  background-color: var(--sklearn-color-background);\n",
              "}\n",
              "\n",
              "#sk-container-id-6 div.sk-container {\n",
              "  /* jupyter's `normalize.less` sets `[hidden] { display: none; }`\n",
              "     but bootstrap.min.css set `[hidden] { display: none !important; }`\n",
              "     so we also need the `!important` here to be able to override the\n",
              "     default hidden behavior on the sphinx rendered scikit-learn.org.\n",
              "     See: https://github.com/scikit-learn/scikit-learn/issues/21755 */\n",
              "  display: inline-block !important;\n",
              "  position: relative;\n",
              "}\n",
              "\n",
              "#sk-container-id-6 div.sk-text-repr-fallback {\n",
              "  display: none;\n",
              "}\n",
              "\n",
              "div.sk-parallel-item,\n",
              "div.sk-serial,\n",
              "div.sk-item {\n",
              "  /* draw centered vertical line to link estimators */\n",
              "  background-image: linear-gradient(var(--sklearn-color-text-on-default-background), var(--sklearn-color-text-on-default-background));\n",
              "  background-size: 2px 100%;\n",
              "  background-repeat: no-repeat;\n",
              "  background-position: center center;\n",
              "}\n",
              "\n",
              "/* Parallel-specific style estimator block */\n",
              "\n",
              "#sk-container-id-6 div.sk-parallel-item::after {\n",
              "  content: \"\";\n",
              "  width: 100%;\n",
              "  border-bottom: 2px solid var(--sklearn-color-text-on-default-background);\n",
              "  flex-grow: 1;\n",
              "}\n",
              "\n",
              "#sk-container-id-6 div.sk-parallel {\n",
              "  display: flex;\n",
              "  align-items: stretch;\n",
              "  justify-content: center;\n",
              "  background-color: var(--sklearn-color-background);\n",
              "  position: relative;\n",
              "}\n",
              "\n",
              "#sk-container-id-6 div.sk-parallel-item {\n",
              "  display: flex;\n",
              "  flex-direction: column;\n",
              "}\n",
              "\n",
              "#sk-container-id-6 div.sk-parallel-item:first-child::after {\n",
              "  align-self: flex-end;\n",
              "  width: 50%;\n",
              "}\n",
              "\n",
              "#sk-container-id-6 div.sk-parallel-item:last-child::after {\n",
              "  align-self: flex-start;\n",
              "  width: 50%;\n",
              "}\n",
              "\n",
              "#sk-container-id-6 div.sk-parallel-item:only-child::after {\n",
              "  width: 0;\n",
              "}\n",
              "\n",
              "/* Serial-specific style estimator block */\n",
              "\n",
              "#sk-container-id-6 div.sk-serial {\n",
              "  display: flex;\n",
              "  flex-direction: column;\n",
              "  align-items: center;\n",
              "  background-color: var(--sklearn-color-background);\n",
              "  padding-right: 1em;\n",
              "  padding-left: 1em;\n",
              "}\n",
              "\n",
              "\n",
              "/* Toggleable style: style used for estimator/Pipeline/ColumnTransformer box that is\n",
              "clickable and can be expanded/collapsed.\n",
              "- Pipeline and ColumnTransformer use this feature and define the default style\n",
              "- Estimators will overwrite some part of the style using the `sk-estimator` class\n",
              "*/\n",
              "\n",
              "/* Pipeline and ColumnTransformer style (default) */\n",
              "\n",
              "#sk-container-id-6 div.sk-toggleable {\n",
              "  /* Default theme specific background. It is overwritten whether we have a\n",
              "  specific estimator or a Pipeline/ColumnTransformer */\n",
              "  background-color: var(--sklearn-color-background);\n",
              "}\n",
              "\n",
              "/* Toggleable label */\n",
              "#sk-container-id-6 label.sk-toggleable__label {\n",
              "  cursor: pointer;\n",
              "  display: block;\n",
              "  width: 100%;\n",
              "  margin-bottom: 0;\n",
              "  padding: 0.5em;\n",
              "  box-sizing: border-box;\n",
              "  text-align: center;\n",
              "}\n",
              "\n",
              "#sk-container-id-6 label.sk-toggleable__label-arrow:before {\n",
              "  /* Arrow on the left of the label */\n",
              "  content: \"▸\";\n",
              "  float: left;\n",
              "  margin-right: 0.25em;\n",
              "  color: var(--sklearn-color-icon);\n",
              "}\n",
              "\n",
              "#sk-container-id-6 label.sk-toggleable__label-arrow:hover:before {\n",
              "  color: var(--sklearn-color-text);\n",
              "}\n",
              "\n",
              "/* Toggleable content - dropdown */\n",
              "\n",
              "#sk-container-id-6 div.sk-toggleable__content {\n",
              "  max-height: 0;\n",
              "  max-width: 0;\n",
              "  overflow: hidden;\n",
              "  text-align: left;\n",
              "  /* unfitted */\n",
              "  background-color: var(--sklearn-color-unfitted-level-0);\n",
              "}\n",
              "\n",
              "#sk-container-id-6 div.sk-toggleable__content.fitted {\n",
              "  /* fitted */\n",
              "  background-color: var(--sklearn-color-fitted-level-0);\n",
              "}\n",
              "\n",
              "#sk-container-id-6 div.sk-toggleable__content pre {\n",
              "  margin: 0.2em;\n",
              "  border-radius: 0.25em;\n",
              "  color: var(--sklearn-color-text);\n",
              "  /* unfitted */\n",
              "  background-color: var(--sklearn-color-unfitted-level-0);\n",
              "}\n",
              "\n",
              "#sk-container-id-6 div.sk-toggleable__content.fitted pre {\n",
              "  /* unfitted */\n",
              "  background-color: var(--sklearn-color-fitted-level-0);\n",
              "}\n",
              "\n",
              "#sk-container-id-6 input.sk-toggleable__control:checked~div.sk-toggleable__content {\n",
              "  /* Expand drop-down */\n",
              "  max-height: 200px;\n",
              "  max-width: 100%;\n",
              "  overflow: auto;\n",
              "}\n",
              "\n",
              "#sk-container-id-6 input.sk-toggleable__control:checked~label.sk-toggleable__label-arrow:before {\n",
              "  content: \"▾\";\n",
              "}\n",
              "\n",
              "/* Pipeline/ColumnTransformer-specific style */\n",
              "\n",
              "#sk-container-id-6 div.sk-label input.sk-toggleable__control:checked~label.sk-toggleable__label {\n",
              "  color: var(--sklearn-color-text);\n",
              "  background-color: var(--sklearn-color-unfitted-level-2);\n",
              "}\n",
              "\n",
              "#sk-container-id-6 div.sk-label.fitted input.sk-toggleable__control:checked~label.sk-toggleable__label {\n",
              "  background-color: var(--sklearn-color-fitted-level-2);\n",
              "}\n",
              "\n",
              "/* Estimator-specific style */\n",
              "\n",
              "/* Colorize estimator box */\n",
              "#sk-container-id-6 div.sk-estimator input.sk-toggleable__control:checked~label.sk-toggleable__label {\n",
              "  /* unfitted */\n",
              "  background-color: var(--sklearn-color-unfitted-level-2);\n",
              "}\n",
              "\n",
              "#sk-container-id-6 div.sk-estimator.fitted input.sk-toggleable__control:checked~label.sk-toggleable__label {\n",
              "  /* fitted */\n",
              "  background-color: var(--sklearn-color-fitted-level-2);\n",
              "}\n",
              "\n",
              "#sk-container-id-6 div.sk-label label.sk-toggleable__label,\n",
              "#sk-container-id-6 div.sk-label label {\n",
              "  /* The background is the default theme color */\n",
              "  color: var(--sklearn-color-text-on-default-background);\n",
              "}\n",
              "\n",
              "/* On hover, darken the color of the background */\n",
              "#sk-container-id-6 div.sk-label:hover label.sk-toggleable__label {\n",
              "  color: var(--sklearn-color-text);\n",
              "  background-color: var(--sklearn-color-unfitted-level-2);\n",
              "}\n",
              "\n",
              "/* Label box, darken color on hover, fitted */\n",
              "#sk-container-id-6 div.sk-label.fitted:hover label.sk-toggleable__label.fitted {\n",
              "  color: var(--sklearn-color-text);\n",
              "  background-color: var(--sklearn-color-fitted-level-2);\n",
              "}\n",
              "\n",
              "/* Estimator label */\n",
              "\n",
              "#sk-container-id-6 div.sk-label label {\n",
              "  font-family: monospace;\n",
              "  font-weight: bold;\n",
              "  display: inline-block;\n",
              "  line-height: 1.2em;\n",
              "}\n",
              "\n",
              "#sk-container-id-6 div.sk-label-container {\n",
              "  text-align: center;\n",
              "}\n",
              "\n",
              "/* Estimator-specific */\n",
              "#sk-container-id-6 div.sk-estimator {\n",
              "  font-family: monospace;\n",
              "  border: 1px dotted var(--sklearn-color-border-box);\n",
              "  border-radius: 0.25em;\n",
              "  box-sizing: border-box;\n",
              "  margin-bottom: 0.5em;\n",
              "  /* unfitted */\n",
              "  background-color: var(--sklearn-color-unfitted-level-0);\n",
              "}\n",
              "\n",
              "#sk-container-id-6 div.sk-estimator.fitted {\n",
              "  /* fitted */\n",
              "  background-color: var(--sklearn-color-fitted-level-0);\n",
              "}\n",
              "\n",
              "/* on hover */\n",
              "#sk-container-id-6 div.sk-estimator:hover {\n",
              "  /* unfitted */\n",
              "  background-color: var(--sklearn-color-unfitted-level-2);\n",
              "}\n",
              "\n",
              "#sk-container-id-6 div.sk-estimator.fitted:hover {\n",
              "  /* fitted */\n",
              "  background-color: var(--sklearn-color-fitted-level-2);\n",
              "}\n",
              "\n",
              "/* Specification for estimator info (e.g. \"i\" and \"?\") */\n",
              "\n",
              "/* Common style for \"i\" and \"?\" */\n",
              "\n",
              ".sk-estimator-doc-link,\n",
              "a:link.sk-estimator-doc-link,\n",
              "a:visited.sk-estimator-doc-link {\n",
              "  float: right;\n",
              "  font-size: smaller;\n",
              "  line-height: 1em;\n",
              "  font-family: monospace;\n",
              "  background-color: var(--sklearn-color-background);\n",
              "  border-radius: 1em;\n",
              "  height: 1em;\n",
              "  width: 1em;\n",
              "  text-decoration: none !important;\n",
              "  margin-left: 1ex;\n",
              "  /* unfitted */\n",
              "  border: var(--sklearn-color-unfitted-level-1) 1pt solid;\n",
              "  color: var(--sklearn-color-unfitted-level-1);\n",
              "}\n",
              "\n",
              ".sk-estimator-doc-link.fitted,\n",
              "a:link.sk-estimator-doc-link.fitted,\n",
              "a:visited.sk-estimator-doc-link.fitted {\n",
              "  /* fitted */\n",
              "  border: var(--sklearn-color-fitted-level-1) 1pt solid;\n",
              "  color: var(--sklearn-color-fitted-level-1);\n",
              "}\n",
              "\n",
              "/* On hover */\n",
              "div.sk-estimator:hover .sk-estimator-doc-link:hover,\n",
              ".sk-estimator-doc-link:hover,\n",
              "div.sk-label-container:hover .sk-estimator-doc-link:hover,\n",
              ".sk-estimator-doc-link:hover {\n",
              "  /* unfitted */\n",
              "  background-color: var(--sklearn-color-unfitted-level-3);\n",
              "  color: var(--sklearn-color-background);\n",
              "  text-decoration: none;\n",
              "}\n",
              "\n",
              "div.sk-estimator.fitted:hover .sk-estimator-doc-link.fitted:hover,\n",
              ".sk-estimator-doc-link.fitted:hover,\n",
              "div.sk-label-container:hover .sk-estimator-doc-link.fitted:hover,\n",
              ".sk-estimator-doc-link.fitted:hover {\n",
              "  /* fitted */\n",
              "  background-color: var(--sklearn-color-fitted-level-3);\n",
              "  color: var(--sklearn-color-background);\n",
              "  text-decoration: none;\n",
              "}\n",
              "\n",
              "/* Span, style for the box shown on hovering the info icon */\n",
              ".sk-estimator-doc-link span {\n",
              "  display: none;\n",
              "  z-index: 9999;\n",
              "  position: relative;\n",
              "  font-weight: normal;\n",
              "  right: .2ex;\n",
              "  padding: .5ex;\n",
              "  margin: .5ex;\n",
              "  width: min-content;\n",
              "  min-width: 20ex;\n",
              "  max-width: 50ex;\n",
              "  color: var(--sklearn-color-text);\n",
              "  box-shadow: 2pt 2pt 4pt #999;\n",
              "  /* unfitted */\n",
              "  background: var(--sklearn-color-unfitted-level-0);\n",
              "  border: .5pt solid var(--sklearn-color-unfitted-level-3);\n",
              "}\n",
              "\n",
              ".sk-estimator-doc-link.fitted span {\n",
              "  /* fitted */\n",
              "  background: var(--sklearn-color-fitted-level-0);\n",
              "  border: var(--sklearn-color-fitted-level-3);\n",
              "}\n",
              "\n",
              ".sk-estimator-doc-link:hover span {\n",
              "  display: block;\n",
              "}\n",
              "\n",
              "/* \"?\"-specific style due to the `<a>` HTML tag */\n",
              "\n",
              "#sk-container-id-6 a.estimator_doc_link {\n",
              "  float: right;\n",
              "  font-size: 1rem;\n",
              "  line-height: 1em;\n",
              "  font-family: monospace;\n",
              "  background-color: var(--sklearn-color-background);\n",
              "  border-radius: 1rem;\n",
              "  height: 1rem;\n",
              "  width: 1rem;\n",
              "  text-decoration: none;\n",
              "  /* unfitted */\n",
              "  color: var(--sklearn-color-unfitted-level-1);\n",
              "  border: var(--sklearn-color-unfitted-level-1) 1pt solid;\n",
              "}\n",
              "\n",
              "#sk-container-id-6 a.estimator_doc_link.fitted {\n",
              "  /* fitted */\n",
              "  border: var(--sklearn-color-fitted-level-1) 1pt solid;\n",
              "  color: var(--sklearn-color-fitted-level-1);\n",
              "}\n",
              "\n",
              "/* On hover */\n",
              "#sk-container-id-6 a.estimator_doc_link:hover {\n",
              "  /* unfitted */\n",
              "  background-color: var(--sklearn-color-unfitted-level-3);\n",
              "  color: var(--sklearn-color-background);\n",
              "  text-decoration: none;\n",
              "}\n",
              "\n",
              "#sk-container-id-6 a.estimator_doc_link.fitted:hover {\n",
              "  /* fitted */\n",
              "  background-color: var(--sklearn-color-fitted-level-3);\n",
              "}\n",
              "</style><div id=\"sk-container-id-6\" class=\"sk-top-container\"><div class=\"sk-text-repr-fallback\"><pre>GridSearchCV(cv=ShuffleSplit(n_splits=30, random_state=1, test_size=0.05, train_size=None),\n",
              "             estimator=Pipeline(steps=[(&#x27;standardscaler&#x27;, StandardScaler()),\n",
              "                                       (&#x27;ridge&#x27;, Ridge(alpha=0.01))]),\n",
              "             param_grid=[{&#x27;ridge__alpha&#x27;: array([1.00000000e-05, 1.20450354e-05, 1.45082878e-05, 1.74752840e-05,\n",
              "       2.10490414e-05, 2.53536449e-05, 3.05385551e-05, 3.67837977e-05,\n",
              "       4.43062146e-05,...\n",
              "       2.91505306e+01, 3.51119173e+01, 4.22924287e+01, 5.09413801e+01,\n",
              "       6.13590727e+01, 7.39072203e+01, 8.90215085e+01, 1.07226722e+02,\n",
              "       1.29154967e+02, 1.55567614e+02, 1.87381742e+02, 2.25701972e+02,\n",
              "       2.71858824e+02, 3.27454916e+02, 3.94420606e+02, 4.75081016e+02,\n",
              "       5.72236766e+02, 6.89261210e+02, 8.30217568e+02, 1.00000000e+03])}],\n",
              "             return_train_score=True,\n",
              "             scoring=&lt;function neg_rss at 0x79b0122c72e0&gt;)</pre><b>In a Jupyter environment, please rerun this cell to show the HTML representation or trust the notebook. <br />On GitHub, the HTML representation is unable to render, please try loading this page with nbviewer.org.</b></div><div class=\"sk-container\" hidden><div class=\"sk-item sk-dashed-wrapped\"><div class=\"sk-label-container\"><div class=\"sk-label fitted sk-toggleable\"><input class=\"sk-toggleable__control sk-hidden--visually\" id=\"sk-estimator-id-21\" type=\"checkbox\" ><label for=\"sk-estimator-id-21\" class=\"sk-toggleable__label fitted sk-toggleable__label-arrow fitted\">&nbsp;&nbsp;GridSearchCV<a class=\"sk-estimator-doc-link fitted\" rel=\"noreferrer\" target=\"_blank\" href=\"https://scikit-learn.org/1.5/modules/generated/sklearn.model_selection.GridSearchCV.html\">?<span>Documentation for GridSearchCV</span></a><span class=\"sk-estimator-doc-link fitted\">i<span>Fitted</span></span></label><div class=\"sk-toggleable__content fitted\"><pre>GridSearchCV(cv=ShuffleSplit(n_splits=30, random_state=1, test_size=0.05, train_size=None),\n",
              "             estimator=Pipeline(steps=[(&#x27;standardscaler&#x27;, StandardScaler()),\n",
              "                                       (&#x27;ridge&#x27;, Ridge(alpha=0.01))]),\n",
              "             param_grid=[{&#x27;ridge__alpha&#x27;: array([1.00000000e-05, 1.20450354e-05, 1.45082878e-05, 1.74752840e-05,\n",
              "       2.10490414e-05, 2.53536449e-05, 3.05385551e-05, 3.67837977e-05,\n",
              "       4.43062146e-05,...\n",
              "       2.91505306e+01, 3.51119173e+01, 4.22924287e+01, 5.09413801e+01,\n",
              "       6.13590727e+01, 7.39072203e+01, 8.90215085e+01, 1.07226722e+02,\n",
              "       1.29154967e+02, 1.55567614e+02, 1.87381742e+02, 2.25701972e+02,\n",
              "       2.71858824e+02, 3.27454916e+02, 3.94420606e+02, 4.75081016e+02,\n",
              "       5.72236766e+02, 6.89261210e+02, 8.30217568e+02, 1.00000000e+03])}],\n",
              "             return_train_score=True,\n",
              "             scoring=&lt;function neg_rss at 0x79b0122c72e0&gt;)</pre></div> </div></div><div class=\"sk-parallel\"><div class=\"sk-parallel-item\"><div class=\"sk-item\"><div class=\"sk-label-container\"><div class=\"sk-label fitted sk-toggleable\"><input class=\"sk-toggleable__control sk-hidden--visually\" id=\"sk-estimator-id-22\" type=\"checkbox\" ><label for=\"sk-estimator-id-22\" class=\"sk-toggleable__label fitted sk-toggleable__label-arrow fitted\">best_estimator_: Pipeline</label><div class=\"sk-toggleable__content fitted\"><pre>Pipeline(steps=[(&#x27;standardscaler&#x27;, StandardScaler()),\n",
              "                (&#x27;ridge&#x27;, Ridge(alpha=11.49756995397738))])</pre></div> </div></div><div class=\"sk-serial\"><div class=\"sk-item\"><div class=\"sk-serial\"><div class=\"sk-item\"><div class=\"sk-estimator fitted sk-toggleable\"><input class=\"sk-toggleable__control sk-hidden--visually\" id=\"sk-estimator-id-23\" type=\"checkbox\" ><label for=\"sk-estimator-id-23\" class=\"sk-toggleable__label fitted sk-toggleable__label-arrow fitted\">&nbsp;StandardScaler<a class=\"sk-estimator-doc-link fitted\" rel=\"noreferrer\" target=\"_blank\" href=\"https://scikit-learn.org/1.5/modules/generated/sklearn.preprocessing.StandardScaler.html\">?<span>Documentation for StandardScaler</span></a></label><div class=\"sk-toggleable__content fitted\"><pre>StandardScaler()</pre></div> </div></div><div class=\"sk-item\"><div class=\"sk-estimator fitted sk-toggleable\"><input class=\"sk-toggleable__control sk-hidden--visually\" id=\"sk-estimator-id-24\" type=\"checkbox\" ><label for=\"sk-estimator-id-24\" class=\"sk-toggleable__label fitted sk-toggleable__label-arrow fitted\">&nbsp;Ridge<a class=\"sk-estimator-doc-link fitted\" rel=\"noreferrer\" target=\"_blank\" href=\"https://scikit-learn.org/1.5/modules/generated/sklearn.linear_model.Ridge.html\">?<span>Documentation for Ridge</span></a></label><div class=\"sk-toggleable__content fitted\"><pre>Ridge(alpha=11.49756995397738)</pre></div> </div></div></div></div></div></div></div></div></div></div></div>"
            ]
          },
          "metadata": {},
          "execution_count": 107
        }
      ],
      "source": [
        "#--- Run CV ---#\n",
        "cv_regRR.fit(XTrain,yTrain)"
      ]
    },
    {
      "cell_type": "markdown",
      "metadata": {
        "id": "Grg5pkob5Y-2"
      },
      "source": [
        "Great! Now lets take a look at the performance of our estimator. Here, for example of Ridge regression, we chart over the $\\alpha$ parameter that we perform CV against."
      ]
    },
    {
      "cell_type": "markdown",
      "metadata": {
        "id": "iQyf1VWNihF7"
      },
      "source": [
        "First of all, we save in `cvOptAlpha` the optimal regularization parameter $\\alpha$ found by the grid search, and in `cvOptParams` the corresponding parameters"
      ]
    },
    {
      "cell_type": "code",
      "execution_count": 108,
      "metadata": {
        "id": "MmKc8a9ojjft"
      },
      "outputs": [],
      "source": [
        "#--- Record CV Optimizing Hyper-Params ---#\n",
        "cvOptAlpha = cv_regRR.cv_results_['param_ridge__alpha'][cv_regRR.best_index_]\n",
        "cvOptParams = cv_regRR.best_estimator_['ridge'].coef_"
      ]
    },
    {
      "cell_type": "code",
      "execution_count": 109,
      "metadata": {
        "id": "mZpO4BaTohu2",
        "colab": {
          "base_uri": "https://localhost:8080/"
        },
        "outputId": "b8842eb3-2fa6-4c28-f39e-6dae6fa04c1a"
      },
      "outputs": [
        {
          "output_type": "execute_result",
          "data": {
            "text/plain": [
              "11.49756995397738"
            ]
          },
          "metadata": {},
          "execution_count": 109
        }
      ],
      "source": [
        "cvOptAlpha"
      ]
    },
    {
      "cell_type": "markdown",
      "metadata": {
        "id": "NuZLOf_qjkaH"
      },
      "source": [
        "Then, we can plot the performance versus the regularization parameter $\\alpha$"
      ]
    },
    {
      "cell_type": "code",
      "execution_count": 110,
      "metadata": {
        "id": "5vsg98jK5Y-2",
        "colab": {
          "base_uri": "https://localhost:8080/",
          "height": 523
        },
        "outputId": "546842ad-4657-4ad3-cd8a-29b02729a93d"
      },
      "outputs": [
        {
          "output_type": "execute_result",
          "data": {
            "text/plain": [
              "<matplotlib.legend.Legend at 0x79b0118e8b80>"
            ]
          },
          "metadata": {},
          "execution_count": 110
        },
        {
          "output_type": "display_data",
          "data": {
            "text/plain": [
              "<Figure size 1500x500 with 1 Axes>"
            ],
            "image/png": "[encoded data removed]"
          },
          "metadata": {}
        }
      ],
      "source": [
        "#--- Visualize ---#\n",
        "testedAlpha = cv_regRR.cv_results_['param_ridge__alpha']\n",
        "trainScores = -cv_regRR.cv_results_['mean_train_score']   # Reverse Sign\n",
        "testScores = -cv_regRR.cv_results_['mean_test_score']    # Reverse Sign\n",
        "\n",
        "plt.figure(figsize=(15,5))\n",
        "plt.plot(testedAlpha, trainScores, '-', label='Training (Avg.)')\n",
        "plt.plot(testedAlpha, testScores, '-', label='Validation (Avg.)')\n",
        "plt.xlabel('Regularization Parameter $\\\\alpha$', fontsize=16)\n",
        "plt.ylabel('$\\\\frac{1}{N}RSS$', fontsize=16)\n",
        "plt.axvline(cvOptAlpha, label='$\\\\alpha^*$', color='k', linestyle=':')\n",
        "plt.xscale('log')\n",
        "plt.xlim([0.9*1e-3, 1e3])\n",
        "plt.yscale('log')\n",
        "plt.tight_layout()\n",
        "plt.legend(loc=2, fontsize=16)"
      ]
    },
    {
      "cell_type": "markdown",
      "source": [
        "Note: Higher values of α (regularization parameter) lead to an increase in the RSS for both the training and validation sets. This is because strong regularization (high α) restricts the model's flexibility, leading to underfitting.\n",
        "Lower values of α reduce the RSS, improving the model’s fit up to a certain point. However, if α is too low, the model may overfit the training data, causing a gap between the training and validation scores.\n",
        "The optimal α (shown by the vertical dotted line) is chosen to balance training and validation performance, minimizing the validation RSS."
      ],
      "metadata": {
        "id": "tS6BdsUU1MFT"
      }
    },
    {
      "cell_type": "markdown",
      "metadata": {
        "id": "OnaZo0435Y-2"
      },
      "source": [
        "Now, lets take a look at how well we are able to make our predictions on the training set using this CV optimal value of $\\alpha$."
      ]
    },
    {
      "cell_type": "code",
      "execution_count": 111,
      "metadata": {
        "id": "5vdoamgR5Y-2",
        "colab": {
          "base_uri": "https://localhost:8080/",
          "height": 625
        },
        "outputId": "a863d3c0-d701-4033-e1d7-accd9ee76285"
      },
      "outputs": [
        {
          "output_type": "display_data",
          "data": {
            "text/plain": [
              "<Figure size 700x700 with 1 Axes>"
            ],
            "image/png": "[encoded data removed]"
          },
          "metadata": {}
        }
      ],
      "source": [
        "#--- Get Training Predicitions ---#\n",
        "pipe_regRR.set_params(ridge__alpha=cvOptAlpha) # !!! how to pass parameters to pipelines\n",
        "pipe_regRR.fit(XTrain, yTrain)\n",
        "yp = pipe_regRR.predict(XTrain)\n",
        "\n",
        "#--- Visualize ---#\n",
        "plt.figure(figsize=(7,7))\n",
        "plt.plot(yTrain, yp, '.', label='Training (CV-Opt)')\n",
        "plt.plot([0, 40], [0, 40], '-k', linewidth=0.7, label=\"Perfect\")\n",
        "# plt.axis([0, 40, 0, 40])\n",
        "plt.xlabel('Ozone (True)', fontsize=16)\n",
        "plt.ylabel('Ozone (Predicted)', fontsize=16)\n",
        "plt.legend(loc=2, fontsize=16);"
      ]
    },
    {
      "cell_type": "markdown",
      "metadata": {
        "id": "njk7XIGi5Y-2"
      },
      "source": [
        "And now, finally, we are ready to take our test data out of deep-freeze. How did we do?"
      ]
    },
    {
      "cell_type": "markdown",
      "metadata": {
        "id": "eLHgg4e9lHf8"
      },
      "source": [
        "#### 3) Plot, as we previously did for OLS, the prediction performance and the learned parameters. After having done that, compute the RSS and compare it to the OLS one"
      ]
    },
    {
      "cell_type": "markdown",
      "metadata": {
        "id": "v9QgqxJx5Y-3"
      },
      "source": [
        "## Attempt 3: Lasso\n",
        "---\n"
      ]
    },
    {
      "cell_type": "markdown",
      "metadata": {
        "id": "E6fOj_gVl0Xl"
      },
      "source": [
        "### 4) Your turn: using the `linear_model.Lasso` estimator present in Scikit-Learn,  repeat the steps done for Ridge Regression:\n",
        "* Create the pipeline for preprocessing + regressor\n",
        "* Do the Grid Search to find the optimal regularization parameter\n",
        "* Visualize how the performance varies when we change the regularization parameter\n",
        "* Plot the prediction performance and the learned parameters. What do you observe?\n",
        "* Compute the RSS and compare it to the RR and the OLS one."
      ]
    },
    {
      "cell_type": "markdown",
      "metadata": {
        "id": "vV1MU1qZba_h"
      },
      "source": [
        "# B) Diabetes\n",
        "\n",
        "We will now perform some numerical experiments with the Diabetes Dataset trying to predict diabetes outcomes one year forward. This is a classical dataset in statistics, and more information can be found at <a href=\"https://archive.ics.uci.edu/ml/datasets/Diabetes\">https://archive.ics.uci.edu/ml/datasets/Diabetes</a>. Here is what we have: 10 baseline variables: age, sex, body mass index, average blood pressure, and six blood serum measurements were obtained for each of $n = 442$ diabetes patients, as well as the response of interest, a quantitative measure of disease progression one year after baseline.\n",
        "\n",
        "Our first goal is to plot the weights for each value of $\\lambda$ for Ridge Regression and LASSO. This is called a **regularization path**."
      ]
    },
    {
      "cell_type": "markdown",
      "metadata": {
        "id": "YX-15tDj3ZJr"
      },
      "source": [
        "We first load the dataset"
      ]
    },
    {
      "cell_type": "code",
      "source": [
        "from sklearn import datasets\n",
        "\n",
        "diabetes = datasets.load_diabetes()\n",
        "X = diabetes.data[:200]\n",
        "y = diabetes.target[:200]\n",
        "print(\"The shape of X is: \", X.shape)\n",
        "df = pd.DataFrame(diabetes.data, columns=diabetes.feature_names)\n",
        "df.head()\n"
      ],
      "metadata": {
        "colab": {
          "base_uri": "https://localhost:8080/",
          "height": 224
        },
        "id": "DJIh2rV93esW",
        "outputId": "6365167e-b34a-4147-9329-e280d87e784a"
      },
      "execution_count": 112,
      "outputs": [
        {
          "output_type": "stream",
          "name": "stdout",
          "text": [
            "The shape of X is:  (200, 10)\n"
          ]
        },
        {
          "output_type": "execute_result",
          "data": {
            "text/plain": [
              "        age       sex       bmi        bp        s1        s2        s3  \\\n",
              "0  0.038076  0.050680  0.061696  0.021872 -0.044223 -0.034821 -0.043401   \n",
              "1 -0.001882 -0.044642 -0.051474 -0.026328 -0.008449 -0.019163  0.074412   \n",
              "2  0.085299  0.050680  0.044451 -0.005670 -0.045599 -0.034194 -0.032356   \n",
              "3 -0.089063 -0.044642 -0.011595 -0.036656  0.012191  0.024991 -0.036038   \n",
              "4  0.005383 -0.044642 -0.036385  0.021872  0.003935  0.015596  0.008142   \n",
              "\n",
              "         s4        s5        s6  \n",
              "0 -0.002592  0.019907 -0.017646  \n",
              "1 -0.039493 -0.068332 -0.092204  \n",
              "2 -0.002592  0.002861 -0.025930  \n",
              "3  0.034309  0.022688 -0.009362  \n",
              "4 -0.002592 -0.031988 -0.046641  "
            ],
            "text/html": [
              "\n",
              "  <div id=\"df-2df72a61-6566-4736-bda9-b5f755e9132c\" class=\"colab-df-container\">\n",
              "    <div>\n",
              "<style scoped>\n",
              "    .dataframe tbody tr th:only-of-type {\n",
              "        vertical-align: middle;\n",
              "    }\n",
              "\n",
              "    .dataframe tbody tr th {\n",
              "        vertical-align: top;\n",
              "    }\n",
              "\n",
              "    .dataframe thead th {\n",
              "        text-align: right;\n",
              "    }\n",
              "</style>\n",
              "<table border=\"1\" class=\"dataframe\">\n",
              "  <thead>\n",
              "    <tr style=\"text-align: right;\">\n",
              "      <th></th>\n",
              "      <th>age</th>\n",
              "      <th>sex</th>\n",
              "      <th>bmi</th>\n",
              "      <th>bp</th>\n",
              "      <th>s1</th>\n",
              "      <th>s2</th>\n",
              "      <th>s3</th>\n",
              "      <th>s4</th>\n",
              "      <th>s5</th>\n",
              "      <th>s6</th>\n",
              "    </tr>\n",
              "  </thead>\n",
              "  <tbody>\n",
              "    <tr>\n",
              "      <th>0</th>\n",
              "      <td>0.038076</td>\n",
              "      <td>0.050680</td>\n",
              "      <td>0.061696</td>\n",
              "      <td>0.021872</td>\n",
              "      <td>-0.044223</td>\n",
              "      <td>-0.034821</td>\n",
              "      <td>-0.043401</td>\n",
              "      <td>-0.002592</td>\n",
              "      <td>0.019907</td>\n",
              "      <td>-0.017646</td>\n",
              "    </tr>\n",
              "    <tr>\n",
              "      <th>1</th>\n",
              "      <td>-0.001882</td>\n",
              "      <td>-0.044642</td>\n",
              "      <td>-0.051474</td>\n",
              "      <td>-0.026328</td>\n",
              "      <td>-0.008449</td>\n",
              "      <td>-0.019163</td>\n",
              "      <td>0.074412</td>\n",
              "      <td>-0.039493</td>\n",
              "      <td>-0.068332</td>\n",
              "      <td>-0.092204</td>\n",
              "    </tr>\n",
              "    <tr>\n",
              "      <th>2</th>\n",
              "      <td>0.085299</td>\n",
              "      <td>0.050680</td>\n",
              "      <td>0.044451</td>\n",
              "      <td>-0.005670</td>\n",
              "      <td>-0.045599</td>\n",
              "      <td>-0.034194</td>\n",
              "      <td>-0.032356</td>\n",
              "      <td>-0.002592</td>\n",
              "      <td>0.002861</td>\n",
              "      <td>-0.025930</td>\n",
              "    </tr>\n",
              "    <tr>\n",
              "      <th>3</th>\n",
              "      <td>-0.089063</td>\n",
              "      <td>-0.044642</td>\n",
              "      <td>-0.011595</td>\n",
              "      <td>-0.036656</td>\n",
              "      <td>0.012191</td>\n",
              "      <td>0.024991</td>\n",
              "      <td>-0.036038</td>\n",
              "      <td>0.034309</td>\n",
              "      <td>0.022688</td>\n",
              "      <td>-0.009362</td>\n",
              "    </tr>\n",
              "    <tr>\n",
              "      <th>4</th>\n",
              "      <td>0.005383</td>\n",
              "      <td>-0.044642</td>\n",
              "      <td>-0.036385</td>\n",
              "      <td>0.021872</td>\n",
              "      <td>0.003935</td>\n",
              "      <td>0.015596</td>\n",
              "      <td>0.008142</td>\n",
              "      <td>-0.002592</td>\n",
              "      <td>-0.031988</td>\n",
              "      <td>-0.046641</td>\n",
              "    </tr>\n",
              "  </tbody>\n",
              "</table>\n",
              "</div>\n",
              "    <div class=\"colab-df-buttons\">\n",
              "\n",
              "  <div class=\"colab-df-container\">\n",
              "    <button class=\"colab-df-convert\" onclick=\"convertToInteractive('df-2df72a61-6566-4736-bda9-b5f755e9132c')\"\n",
              "            title=\"Convert this dataframe to an interactive table.\"\n",
              "            style=\"display:none;\">\n",
              "\n",
              "  <svg xmlns=\"http://www.w3.org/2000/svg\" height=\"24px\" viewBox=\"0 -960 960 960\">\n",
              "    <path d=\"M120-120v-720h720v720H120Zm60-500h600v-160H180v160Zm220 220h160v-160H400v160Zm0 220h160v-160H400v160ZM180-400h160v-160H180v160Zm440 0h160v-160H620v160ZM180-180h160v-160H180v160Zm440 0h160v-160H620v160Z\"/>\n",
              "  </svg>\n",
              "    </button>\n",
              "\n",
              "  <style>\n",
              "    .colab-df-container {\n",
              "      display:flex;\n",
              "      gap: 12px;\n",
              "    }\n",
              "\n",
              "    .colab-df-convert {\n",
              "      background-color: #E8F0FE;\n",
              "      border: none;\n",
              "      border-radius: 50%;\n",
              "      cursor: pointer;\n",
              "      display: none;\n",
              "      fill: #1967D2;\n",
              "      height: 32px;\n",
              "      padding: 0 0 0 0;\n",
              "      width: 32px;\n",
              "    }\n",
              "\n",
              "    .colab-df-convert:hover {\n",
              "      background-color: #E2EBFA;\n",
              "      box-shadow: 0px 1px 2px rgba(60, 64, 67, 0.3), 0px 1px 3px 1px rgba(60, 64, 67, 0.15);\n",
              "      fill: #174EA6;\n",
              "    }\n",
              "\n",
              "    .colab-df-buttons div {\n",
              "      margin-bottom: 4px;\n",
              "    }\n",
              "\n",
              "    [theme=dark] .colab-df-convert {\n",
              "      background-color: #3B4455;\n",
              "      fill: #D2E3FC;\n",
              "    }\n",
              "\n",
              "    [theme=dark] .colab-df-convert:hover {\n",
              "      background-color: #434B5C;\n",
              "      box-shadow: 0px 1px 3px 1px rgba(0, 0, 0, 0.15);\n",
              "      filter: drop-shadow(0px 1px 2px rgba(0, 0, 0, 0.3));\n",
              "      fill: #FFFFFF;\n",
              "    }\n",
              "  </style>\n",
              "\n",
              "    <script>\n",
              "      const buttonEl =\n",
              "        document.querySelector('#df-2df72a61-6566-4736-bda9-b5f755e9132c button.colab-df-convert');\n",
              "      buttonEl.style.display =\n",
              "        google.colab.kernel.accessAllowed ? 'block' : 'none';\n",
              "\n",
              "      async function convertToInteractive(key) {\n",
              "        const element = document.querySelector('#df-2df72a61-6566-4736-bda9-b5f755e9132c');\n",
              "        const dataTable =\n",
              "          await google.colab.kernel.invokeFunction('convertToInteractive',\n",
              "                                                    [key], {});\n",
              "        if (!dataTable) return;\n",
              "\n",
              "        const docLinkHtml = 'Like what you see? Visit the ' +\n",
              "          '<a target=\"_blank\" href=https://colab.research.google.com/notebooks/data_table.ipynb>data table notebook</a>'\n",
              "          + ' to learn more about interactive tables.';\n",
              "        element.innerHTML = '';\n",
              "        dataTable['output_type'] = 'display_data';\n",
              "        await google.colab.output.renderOutput(dataTable, element);\n",
              "        const docLink = document.createElement('div');\n",
              "        docLink.innerHTML = docLinkHtml;\n",
              "        element.appendChild(docLink);\n",
              "      }\n",
              "    </script>\n",
              "  </div>\n",
              "\n",
              "\n",
              "<div id=\"df-d330eebb-6bac-4d42-ae5b-da76910a191b\">\n",
              "  <button class=\"colab-df-quickchart\" onclick=\"quickchart('df-d330eebb-6bac-4d42-ae5b-da76910a191b')\"\n",
              "            title=\"Suggest charts\"\n",
              "            style=\"display:none;\">\n",
              "\n",
              "<svg xmlns=\"http://www.w3.org/2000/svg\" height=\"24px\"viewBox=\"0 0 24 24\"\n",
              "     width=\"24px\">\n",
              "    <g>\n",
              "        <path d=\"M19 3H5c-1.1 0-2 .9-2 2v14c0 1.1.9 2 2 2h14c1.1 0 2-.9 2-2V5c0-1.1-.9-2-2-2zM9 17H7v-7h2v7zm4 0h-2V7h2v10zm4 0h-2v-4h2v4z\"/>\n",
              "    </g>\n",
              "</svg>\n",
              "  </button>\n",
              "\n",
              "<style>\n",
              "  .colab-df-quickchart {\n",
              "      --bg-color: #E8F0FE;\n",
              "      --fill-color: #1967D2;\n",
              "      --hover-bg-color: #E2EBFA;\n",
              "      --hover-fill-color: #174EA6;\n",
              "      --disabled-fill-color: #AAA;\n",
              "      --disabled-bg-color: #DDD;\n",
              "  }\n",
              "\n",
              "  [theme=dark] .colab-df-quickchart {\n",
              "      --bg-color: #3B4455;\n",
              "      --fill-color: #D2E3FC;\n",
              "      --hover-bg-color: #434B5C;\n",
              "      --hover-fill-color: #FFFFFF;\n",
              "      --disabled-bg-color: #3B4455;\n",
              "      --disabled-fill-color: #666;\n",
              "  }\n",
              "\n",
              "  .colab-df-quickchart {\n",
              "    background-color: var(--bg-color);\n",
              "    border: none;\n",
              "    border-radius: 50%;\n",
              "    cursor: pointer;\n",
              "    display: none;\n",
              "    fill: var(--fill-color);\n",
              "    height: 32px;\n",
              "    padding: 0;\n",
              "    width: 32px;\n",
              "  }\n",
              "\n",
              "  .colab-df-quickchart:hover {\n",
              "    background-color: var(--hover-bg-color);\n",
              "    box-shadow: 0 1px 2px rgba(60, 64, 67, 0.3), 0 1px 3px 1px rgba(60, 64, 67, 0.15);\n",
              "    fill: var(--button-hover-fill-color);\n",
              "  }\n",
              "\n",
              "  .colab-df-quickchart-complete:disabled,\n",
              "  .colab-df-quickchart-complete:disabled:hover {\n",
              "    background-color: var(--disabled-bg-color);\n",
              "    fill: var(--disabled-fill-color);\n",
              "    box-shadow: none;\n",
              "  }\n",
              "\n",
              "  .colab-df-spinner {\n",
              "    border: 2px solid var(--fill-color);\n",
              "    border-color: transparent;\n",
              "    border-bottom-color: var(--fill-color);\n",
              "    animation:\n",
              "      spin 1s steps(1) infinite;\n",
              "  }\n",
              "\n",
              "  @keyframes spin {\n",
              "    0% {\n",
              "      border-color: transparent;\n",
              "      border-bottom-color: var(--fill-color);\n",
              "      border-left-color: var(--fill-color);\n",
              "    }\n",
              "    20% {\n",
              "      border-color: transparent;\n",
              "      border-left-color: var(--fill-color);\n",
              "      border-top-color: var(--fill-color);\n",
              "    }\n",
              "    30% {\n",
              "      border-color: transparent;\n",
              "      border-left-color: var(--fill-color);\n",
              "      border-top-color: var(--fill-color);\n",
              "      border-right-color: var(--fill-color);\n",
              "    }\n",
              "    40% {\n",
              "      border-color: transparent;\n",
              "      border-right-color: var(--fill-color);\n",
              "      border-top-color: var(--fill-color);\n",
              "    }\n",
              "    60% {\n",
              "      border-color: transparent;\n",
              "      border-right-color: var(--fill-color);\n",
              "    }\n",
              "    80% {\n",
              "      border-color: transparent;\n",
              "      border-right-color: var(--fill-color);\n",
              "      border-bottom-color: var(--fill-color);\n",
              "    }\n",
              "    90% {\n",
              "      border-color: transparent;\n",
              "      border-bottom-color: var(--fill-color);\n",
              "    }\n",
              "  }\n",
              "</style>\n",
              "\n",
              "  <script>\n",
              "    async function quickchart(key) {\n",
              "      const quickchartButtonEl =\n",
              "        document.querySelector('#' + key + ' button');\n",
              "      quickchartButtonEl.disabled = true;  // To prevent multiple clicks.\n",
              "      quickchartButtonEl.classList.add('colab-df-spinner');\n",
              "      try {\n",
              "        const charts = await google.colab.kernel.invokeFunction(\n",
              "            'suggestCharts', [key], {});\n",
              "      } catch (error) {\n",
              "        console.error('Error during call to suggestCharts:', error);\n",
              "      }\n",
              "      quickchartButtonEl.classList.remove('colab-df-spinner');\n",
              "      quickchartButtonEl.classList.add('colab-df-quickchart-complete');\n",
              "    }\n",
              "    (() => {\n",
              "      let quickchartButtonEl =\n",
              "        document.querySelector('#df-d330eebb-6bac-4d42-ae5b-da76910a191b button');\n",
              "      quickchartButtonEl.style.display =\n",
              "        google.colab.kernel.accessAllowed ? 'block' : 'none';\n",
              "    })();\n",
              "  </script>\n",
              "</div>\n",
              "\n",
              "    </div>\n",
              "  </div>\n"
            ],
            "application/vnd.google.colaboratory.intrinsic+json": {
              "type": "dataframe",
              "variable_name": "df",
              "summary": "{\n  \"name\": \"df\",\n  \"rows\": 442,\n  \"fields\": [\n    {\n      \"column\": \"age\",\n      \"properties\": {\n        \"dtype\": \"number\",\n        \"std\": 0.0476190476190476,\n        \"min\": -0.1072256316073538,\n        \"max\": 0.11072667545381144,\n        \"num_unique_values\": 58,\n        \"samples\": [\n          0.038075906433423026,\n          -0.09269547780327612,\n          0.01991321417832592\n        ],\n        \"semantic_type\": \"\",\n        \"description\": \"\"\n      }\n    },\n    {\n      \"column\": \"sex\",\n      \"properties\": {\n        \"dtype\": \"number\",\n        \"std\": 0.0476190476190478,\n        \"min\": -0.044641636506989144,\n        \"max\": 0.05068011873981862,\n        \"num_unique_values\": 2,\n        \"samples\": [\n          -0.044641636506989144,\n          0.05068011873981862\n        ],\n        \"semantic_type\": \"\",\n        \"description\": \"\"\n      }\n    },\n    {\n      \"column\": \"bmi\",\n      \"properties\": {\n        \"dtype\": \"number\",\n        \"std\": 0.04761904761904761,\n        \"min\": -0.09027529589850945,\n        \"max\": 0.17055522598064407,\n        \"num_unique_values\": 163,\n        \"samples\": [\n          0.008883414898524095,\n          -0.05470749746044306\n        ],\n        \"semantic_type\": \"\",\n        \"description\": \"\"\n      }\n    },\n    {\n      \"column\": \"bp\",\n      \"properties\": {\n        \"dtype\": \"number\",\n        \"std\": 0.04761904761904762,\n        \"min\": -0.11239880254408448,\n        \"max\": 0.13204361674121307,\n        \"num_unique_values\": 100,\n        \"samples\": [\n          0.03333707926361473,\n          0.02531523648988596\n        ],\n        \"semantic_type\": \"\",\n        \"description\": \"\"\n      }\n    },\n    {\n      \"column\": \"s1\",\n      \"properties\": {\n        \"dtype\": \"number\",\n        \"std\": 0.047619047619047554,\n        \"min\": -0.12678066991651324,\n        \"max\": 0.15391371315651542,\n        \"num_unique_values\": 141,\n        \"samples\": [\n          0.041085578784023497,\n          0.08374011738825825\n        ],\n        \"semantic_type\": \"\",\n        \"description\": \"\"\n      }\n    },\n    {\n      \"column\": \"s2\",\n      \"properties\": {\n        \"dtype\": \"number\",\n        \"std\": 0.047619047619047644,\n        \"min\": -0.11561306597939897,\n        \"max\": 0.19878798965729408,\n        \"num_unique_values\": 302,\n        \"samples\": [\n          0.07415490186505921,\n          0.07008397186179521\n        ],\n        \"semantic_type\": \"\",\n        \"description\": \"\"\n      }\n    },\n    {\n      \"column\": \"s3\",\n      \"properties\": {\n        \"dtype\": \"number\",\n        \"std\": 0.04761904761904758,\n        \"min\": -0.10230705051741597,\n        \"max\": 0.18117906039727852,\n        \"num_unique_values\": 63,\n        \"samples\": [\n          0.09281975309919192,\n          0.15908923357275687\n        ],\n        \"semantic_type\": \"\",\n        \"description\": \"\"\n      }\n    },\n    {\n      \"column\": \"s4\",\n      \"properties\": {\n        \"dtype\": \"number\",\n        \"std\": 0.047619047619047554,\n        \"min\": -0.0763945037500033,\n        \"max\": 0.18523444326019867,\n        \"num_unique_values\": 66,\n        \"samples\": [\n          0.08670845052151895,\n          -0.024732934523729287\n        ],\n        \"semantic_type\": \"\",\n        \"description\": \"\"\n      }\n    },\n    {\n      \"column\": \"s5\",\n      \"properties\": {\n        \"dtype\": \"number\",\n        \"std\": 0.04761904761904763,\n        \"min\": -0.12609712083330468,\n        \"max\": 0.13359728192191356,\n        \"num_unique_values\": 184,\n        \"samples\": [\n          -0.07213275338232743,\n          -0.021395309255276825\n        ],\n        \"semantic_type\": \"\",\n        \"description\": \"\"\n      }\n    },\n    {\n      \"column\": \"s6\",\n      \"properties\": {\n        \"dtype\": \"number\",\n        \"std\": 0.04761904761904766,\n        \"min\": -0.13776722569000302,\n        \"max\": 0.13561183068907107,\n        \"num_unique_values\": 56,\n        \"samples\": [\n          -0.01764612515980379,\n          -0.09634615654165846\n        ],\n        \"semantic_type\": \"\",\n        \"description\": \"\"\n      }\n    }\n  ]\n}"
            }
          },
          "metadata": {},
          "execution_count": 112
        }
      ]
    },
    {
      "cell_type": "markdown",
      "metadata": {
        "id": "k3ditaL76wm8"
      },
      "source": [
        "### 5) Using the pipelines `pipe_regRR` and `pipe_regLasso` constructed before for the Ozone problem:\n",
        "\n",
        "* Divide the dataset such that you have 150 training samples and 50 test samples\n",
        "* Do the Grid Search to find the optimal regularization parameters, for $\\alpha$ in $[10^{-2},10^5]$\n",
        "* Visualize how the performance varies when we change the regularization parameter, comparing Rindge and Lasso\n",
        "\n",
        "### 6) Then aswer to these questions [EVALUATED]:\n",
        "- What do the points $\\alpha=0$  and  $\\alpha = +\\infty$  correspond to? Why for these values both the regularizations give the same result?\n",
        "\n",
        "- What is the qualitative difference between the LASSO path and Ridge Path? (Plot it as well in linear scale)"
      ]
    },
    {
      "cell_type": "markdown",
      "source": [
        "**Implementations are as below.**\n",
        "\n",
        "**1) $α=0$: No regularization is applied, so Ridge and Lasso become OLS, fitting the data with no penalty on the size of the coefficients. $α=\\infty$: In both Ridge and Lasso, a very high $a$ eliminates all coefficients (brings them to zero). This means the model will predict only the mean of the target variable (no features are used).**\n",
        "\n",
        "**At $α=0$, neither Ridge nor Lasso apply any penalty, so they are equivalent to OLS. At $α=\\infty$, both regularizations impose an overwhelming penalty, resulting in both models with all coefficients at or near zero, thus they will predict the target mean.**\n",
        "\n",
        "**2) In Ridge regression, as $α$ increases, the coefficients decrease gradually toward zero, but none of them exactly reach zero unless $α$ is extremely large. Ridge regression tends to keep all features in the model with small weights rather than completely excluding them.**\n",
        "\n",
        "**In Lasso regression, as $α$ increases, some coefficients are shrunk exactly to zero, effectively performing feature selection. This results in a sparse model, where only the most important features are retained.**\n",
        "\n"
      ],
      "metadata": {
        "id": "P0KeMLkmIYjN"
      }
    },
    {
      "cell_type": "code",
      "source": [
        "# Split Dataset\n",
        "X_train, X_test, y_train, y_test = train_test_split(X, y, train_size=150, test_size=50, random_state=1)\n",
        "\n",
        "# Define Ridge and Lasso estimators\n",
        "regRR = linear_model.Ridge()\n",
        "regLasso = linear_model.Lasso()\n",
        "\n",
        "# Two pipelines, one for Ridge and one for Lasso, with scaling\n",
        "pipe_regRR = make_pipeline(preprocessing.StandardScaler(), regRR)\n",
        "pipe_regLasso = make_pipeline(preprocessing.StandardScaler(), regLasso)\n",
        "\n",
        "# Define CV Splitting\n",
        "# This setup defines 30 randomized train-test splits, where each split uses 95% of the data for training and 5% for testing.\n",
        "cv_ridge = ShuffleSplit(n_splits=30, test_size=0.05, random_state=1)\n",
        "cv_lasso = ShuffleSplit(n_splits=30, test_size=0.05, random_state=1)\n",
        "\n",
        "param_grid_ridge = [{'ridge__alpha': np.logspace(-2, 5, 100)}]\n",
        "param_grid_lasso = [{'lasso__alpha': np.logspace(-2, 5, 100)}]\n",
        "\n",
        "\n",
        "# For Ridge\n",
        "grid_search_ridge = GridSearchCV(pipe_regRR, param_grid_ridge, scoring='neg_mean_squared_error', cv=cv_ridge, return_train_score=True)\n",
        "grid_search_ridge.fit(X_train, y_train)\n",
        "\n",
        "# For Lasso\n",
        "grid_search_lasso = GridSearchCV(pipe_regLasso, param_grid_lasso, scoring='neg_mean_squared_error', cv=cv_lasso, return_train_score=True)\n",
        "grid_search_lasso.fit(X_train, y_train)\n"
      ],
      "metadata": {
        "colab": {
          "base_uri": "https://localhost:8080/",
          "height": 177
        },
        "id": "HpqxATS74qzQ",
        "outputId": "4ada7049-f636-4fa4-b2f4-900fe95d455b"
      },
      "execution_count": 113,
      "outputs": [
        {
          "output_type": "execute_result",
          "data": {
            "text/plain": [
              "GridSearchCV(cv=ShuffleSplit(n_splits=30, random_state=1, test_size=0.05, train_size=None),\n",
              "             estimator=Pipeline(steps=[('standardscaler', StandardScaler()),\n",
              "                                       ('lasso', Lasso())]),\n",
              "             param_grid=[{'lasso__alpha': array([1.00000000e-02, 1.17681195e-02, 1.38488637e-02, 1.62975083e-02,\n",
              "       1.91791026e-02, 2.25701972e-02, 2.65608778e-02, 3.12571585e-02,\n",
              "       3.67837977e-02, 4.32876128...\n",
              "       4.53487851e+03, 5.33669923e+03, 6.28029144e+03, 7.39072203e+03,\n",
              "       8.69749003e+03, 1.02353102e+04, 1.20450354e+04, 1.41747416e+04,\n",
              "       1.66810054e+04, 1.96304065e+04, 2.31012970e+04, 2.71858824e+04,\n",
              "       3.19926714e+04, 3.76493581e+04, 4.43062146e+04, 5.21400829e+04,\n",
              "       6.13590727e+04, 7.22080902e+04, 8.49753436e+04, 1.00000000e+05])}],\n",
              "             return_train_score=True, scoring='neg_mean_squared_error')"
            ],
            "text/html": [
              "<style>#sk-container-id-7 {\n",
              "  /* Definition of color scheme common for light and dark mode */\n",
              "  --sklearn-color-text: black;\n",
              "  --sklearn-color-line: gray;\n",
              "  /* Definition of color scheme for unfitted estimators */\n",
              "  --sklearn-color-unfitted-level-0: #fff5e6;\n",
              "  --sklearn-color-unfitted-level-1: #f6e4d2;\n",
              "  --sklearn-color-unfitted-level-2: #ffe0b3;\n",
              "  --sklearn-color-unfitted-level-3: chocolate;\n",
              "  /* Definition of color scheme for fitted estimators */\n",
              "  --sklearn-color-fitted-level-0: #f0f8ff;\n",
              "  --sklearn-color-fitted-level-1: #d4ebff;\n",
              "  --sklearn-color-fitted-level-2: #b3dbfd;\n",
              "  --sklearn-color-fitted-level-3: cornflowerblue;\n",
              "\n",
              "  /* Specific color for light theme */\n",
              "  --sklearn-color-text-on-default-background: var(--sg-text-color, var(--theme-code-foreground, var(--jp-content-font-color1, black)));\n",
              "  --sklearn-color-background: var(--sg-background-color, var(--theme-background, var(--jp-layout-color0, white)));\n",
              "  --sklearn-color-border-box: var(--sg-text-color, var(--theme-code-foreground, var(--jp-content-font-color1, black)));\n",
              "  --sklearn-color-icon: #696969;\n",
              "\n",
              "  @media (prefers-color-scheme: dark) {\n",
              "    /* Redefinition of color scheme for dark theme */\n",
              "    --sklearn-color-text-on-default-background: var(--sg-text-color, var(--theme-code-foreground, var(--jp-content-font-color1, white)));\n",
              "    --sklearn-color-background: var(--sg-background-color, var(--theme-background, var(--jp-layout-color0, #111)));\n",
              "    --sklearn-color-border-box: var(--sg-text-color, var(--theme-code-foreground, var(--jp-content-font-color1, white)));\n",
              "    --sklearn-color-icon: #878787;\n",
              "  }\n",
              "}\n",
              "\n",
              "#sk-container-id-7 {\n",
              "  color: var(--sklearn-color-text);\n",
              "}\n",
              "\n",
              "#sk-container-id-7 pre {\n",
              "  padding: 0;\n",
              "}\n",
              "\n",
              "#sk-container-id-7 input.sk-hidden--visually {\n",
              "  border: 0;\n",
              "  clip: rect(1px 1px 1px 1px);\n",
              "  clip: rect(1px, 1px, 1px, 1px);\n",
              "  height: 1px;\n",
              "  margin: -1px;\n",
              "  overflow: hidden;\n",
              "  padding: 0;\n",
              "  position: absolute;\n",
              "  width: 1px;\n",
              "}\n",
              "\n",
              "#sk-container-id-7 div.sk-dashed-wrapped {\n",
              "  border: 1px dashed var(--sklearn-color-line);\n",
              "  margin: 0 0.4em 0.5em 0.4em;\n",
              "  box-sizing: border-box;\n",
              "  padding-bottom: 0.4em;\n",
              "  background-color: var(--sklearn-color-background);\n",
              "}\n",
              "\n",
              "#sk-container-id-7 div.sk-container {\n",
              "  /* jupyter's `normalize.less` sets `[hidden] { display: none; }`\n",
              "     but bootstrap.min.css set `[hidden] { display: none !important; }`\n",
              "     so we also need the `!important` here to be able to override the\n",
              "     default hidden behavior on the sphinx rendered scikit-learn.org.\n",
              "     See: https://github.com/scikit-learn/scikit-learn/issues/21755 */\n",
              "  display: inline-block !important;\n",
              "  position: relative;\n",
              "}\n",
              "\n",
              "#sk-container-id-7 div.sk-text-repr-fallback {\n",
              "  display: none;\n",
              "}\n",
              "\n",
              "div.sk-parallel-item,\n",
              "div.sk-serial,\n",
              "div.sk-item {\n",
              "  /* draw centered vertical line to link estimators */\n",
              "  background-image: linear-gradient(var(--sklearn-color-text-on-default-background), var(--sklearn-color-text-on-default-background));\n",
              "  background-size: 2px 100%;\n",
              "  background-repeat: no-repeat;\n",
              "  background-position: center center;\n",
              "}\n",
              "\n",
              "/* Parallel-specific style estimator block */\n",
              "\n",
              "#sk-container-id-7 div.sk-parallel-item::after {\n",
              "  content: \"\";\n",
              "  width: 100%;\n",
              "  border-bottom: 2px solid var(--sklearn-color-text-on-default-background);\n",
              "  flex-grow: 1;\n",
              "}\n",
              "\n",
              "#sk-container-id-7 div.sk-parallel {\n",
              "  display: flex;\n",
              "  align-items: stretch;\n",
              "  justify-content: center;\n",
              "  background-color: var(--sklearn-color-background);\n",
              "  position: relative;\n",
              "}\n",
              "\n",
              "#sk-container-id-7 div.sk-parallel-item {\n",
              "  display: flex;\n",
              "  flex-direction: column;\n",
              "}\n",
              "\n",
              "#sk-container-id-7 div.sk-parallel-item:first-child::after {\n",
              "  align-self: flex-end;\n",
              "  width: 50%;\n",
              "}\n",
              "\n",
              "#sk-container-id-7 div.sk-parallel-item:last-child::after {\n",
              "  align-self: flex-start;\n",
              "  width: 50%;\n",
              "}\n",
              "\n",
              "#sk-container-id-7 div.sk-parallel-item:only-child::after {\n",
              "  width: 0;\n",
              "}\n",
              "\n",
              "/* Serial-specific style estimator block */\n",
              "\n",
              "#sk-container-id-7 div.sk-serial {\n",
              "  display: flex;\n",
              "  flex-direction: column;\n",
              "  align-items: center;\n",
              "  background-color: var(--sklearn-color-background);\n",
              "  padding-right: 1em;\n",
              "  padding-left: 1em;\n",
              "}\n",
              "\n",
              "\n",
              "/* Toggleable style: style used for estimator/Pipeline/ColumnTransformer box that is\n",
              "clickable and can be expanded/collapsed.\n",
              "- Pipeline and ColumnTransformer use this feature and define the default style\n",
              "- Estimators will overwrite some part of the style using the `sk-estimator` class\n",
              "*/\n",
              "\n",
              "/* Pipeline and ColumnTransformer style (default) */\n",
              "\n",
              "#sk-container-id-7 div.sk-toggleable {\n",
              "  /* Default theme specific background. It is overwritten whether we have a\n",
              "  specific estimator or a Pipeline/ColumnTransformer */\n",
              "  background-color: var(--sklearn-color-background);\n",
              "}\n",
              "\n",
              "/* Toggleable label */\n",
              "#sk-container-id-7 label.sk-toggleable__label {\n",
              "  cursor: pointer;\n",
              "  display: block;\n",
              "  width: 100%;\n",
              "  margin-bottom: 0;\n",
              "  padding: 0.5em;\n",
              "  box-sizing: border-box;\n",
              "  text-align: center;\n",
              "}\n",
              "\n",
              "#sk-container-id-7 label.sk-toggleable__label-arrow:before {\n",
              "  /* Arrow on the left of the label */\n",
              "  content: \"▸\";\n",
              "  float: left;\n",
              "  margin-right: 0.25em;\n",
              "  color: var(--sklearn-color-icon);\n",
              "}\n",
              "\n",
              "#sk-container-id-7 label.sk-toggleable__label-arrow:hover:before {\n",
              "  color: var(--sklearn-color-text);\n",
              "}\n",
              "\n",
              "/* Toggleable content - dropdown */\n",
              "\n",
              "#sk-container-id-7 div.sk-toggleable__content {\n",
              "  max-height: 0;\n",
              "  max-width: 0;\n",
              "  overflow: hidden;\n",
              "  text-align: left;\n",
              "  /* unfitted */\n",
              "  background-color: var(--sklearn-color-unfitted-level-0);\n",
              "}\n",
              "\n",
              "#sk-container-id-7 div.sk-toggleable__content.fitted {\n",
              "  /* fitted */\n",
              "  background-color: var(--sklearn-color-fitted-level-0);\n",
              "}\n",
              "\n",
              "#sk-container-id-7 div.sk-toggleable__content pre {\n",
              "  margin: 0.2em;\n",
              "  border-radius: 0.25em;\n",
              "  color: var(--sklearn-color-text);\n",
              "  /* unfitted */\n",
              "  background-color: var(--sklearn-color-unfitted-level-0);\n",
              "}\n",
              "\n",
              "#sk-container-id-7 div.sk-toggleable__content.fitted pre {\n",
              "  /* unfitted */\n",
              "  background-color: var(--sklearn-color-fitted-level-0);\n",
              "}\n",
              "\n",
              "#sk-container-id-7 input.sk-toggleable__control:checked~div.sk-toggleable__content {\n",
              "  /* Expand drop-down */\n",
              "  max-height: 200px;\n",
              "  max-width: 100%;\n",
              "  overflow: auto;\n",
              "}\n",
              "\n",
              "#sk-container-id-7 input.sk-toggleable__control:checked~label.sk-toggleable__label-arrow:before {\n",
              "  content: \"▾\";\n",
              "}\n",
              "\n",
              "/* Pipeline/ColumnTransformer-specific style */\n",
              "\n",
              "#sk-container-id-7 div.sk-label input.sk-toggleable__control:checked~label.sk-toggleable__label {\n",
              "  color: var(--sklearn-color-text);\n",
              "  background-color: var(--sklearn-color-unfitted-level-2);\n",
              "}\n",
              "\n",
              "#sk-container-id-7 div.sk-label.fitted input.sk-toggleable__control:checked~label.sk-toggleable__label {\n",
              "  background-color: var(--sklearn-color-fitted-level-2);\n",
              "}\n",
              "\n",
              "/* Estimator-specific style */\n",
              "\n",
              "/* Colorize estimator box */\n",
              "#sk-container-id-7 div.sk-estimator input.sk-toggleable__control:checked~label.sk-toggleable__label {\n",
              "  /* unfitted */\n",
              "  background-color: var(--sklearn-color-unfitted-level-2);\n",
              "}\n",
              "\n",
              "#sk-container-id-7 div.sk-estimator.fitted input.sk-toggleable__control:checked~label.sk-toggleable__label {\n",
              "  /* fitted */\n",
              "  background-color: var(--sklearn-color-fitted-level-2);\n",
              "}\n",
              "\n",
              "#sk-container-id-7 div.sk-label label.sk-toggleable__label,\n",
              "#sk-container-id-7 div.sk-label label {\n",
              "  /* The background is the default theme color */\n",
              "  color: var(--sklearn-color-text-on-default-background);\n",
              "}\n",
              "\n",
              "/* On hover, darken the color of the background */\n",
              "#sk-container-id-7 div.sk-label:hover label.sk-toggleable__label {\n",
              "  color: var(--sklearn-color-text);\n",
              "  background-color: var(--sklearn-color-unfitted-level-2);\n",
              "}\n",
              "\n",
              "/* Label box, darken color on hover, fitted */\n",
              "#sk-container-id-7 div.sk-label.fitted:hover label.sk-toggleable__label.fitted {\n",
              "  color: var(--sklearn-color-text);\n",
              "  background-color: var(--sklearn-color-fitted-level-2);\n",
              "}\n",
              "\n",
              "/* Estimator label */\n",
              "\n",
              "#sk-container-id-7 div.sk-label label {\n",
              "  font-family: monospace;\n",
              "  font-weight: bold;\n",
              "  display: inline-block;\n",
              "  line-height: 1.2em;\n",
              "}\n",
              "\n",
              "#sk-container-id-7 div.sk-label-container {\n",
              "  text-align: center;\n",
              "}\n",
              "\n",
              "/* Estimator-specific */\n",
              "#sk-container-id-7 div.sk-estimator {\n",
              "  font-family: monospace;\n",
              "  border: 1px dotted var(--sklearn-color-border-box);\n",
              "  border-radius: 0.25em;\n",
              "  box-sizing: border-box;\n",
              "  margin-bottom: 0.5em;\n",
              "  /* unfitted */\n",
              "  background-color: var(--sklearn-color-unfitted-level-0);\n",
              "}\n",
              "\n",
              "#sk-container-id-7 div.sk-estimator.fitted {\n",
              "  /* fitted */\n",
              "  background-color: var(--sklearn-color-fitted-level-0);\n",
              "}\n",
              "\n",
              "/* on hover */\n",
              "#sk-container-id-7 div.sk-estimator:hover {\n",
              "  /* unfitted */\n",
              "  background-color: var(--sklearn-color-unfitted-level-2);\n",
              "}\n",
              "\n",
              "#sk-container-id-7 div.sk-estimator.fitted:hover {\n",
              "  /* fitted */\n",
              "  background-color: var(--sklearn-color-fitted-level-2);\n",
              "}\n",
              "\n",
              "/* Specification for estimator info (e.g. \"i\" and \"?\") */\n",
              "\n",
              "/* Common style for \"i\" and \"?\" */\n",
              "\n",
              ".sk-estimator-doc-link,\n",
              "a:link.sk-estimator-doc-link,\n",
              "a:visited.sk-estimator-doc-link {\n",
              "  float: right;\n",
              "  font-size: smaller;\n",
              "  line-height: 1em;\n",
              "  font-family: monospace;\n",
              "  background-color: var(--sklearn-color-background);\n",
              "  border-radius: 1em;\n",
              "  height: 1em;\n",
              "  width: 1em;\n",
              "  text-decoration: none !important;\n",
              "  margin-left: 1ex;\n",
              "  /* unfitted */\n",
              "  border: var(--sklearn-color-unfitted-level-1) 1pt solid;\n",
              "  color: var(--sklearn-color-unfitted-level-1);\n",
              "}\n",
              "\n",
              ".sk-estimator-doc-link.fitted,\n",
              "a:link.sk-estimator-doc-link.fitted,\n",
              "a:visited.sk-estimator-doc-link.fitted {\n",
              "  /* fitted */\n",
              "  border: var(--sklearn-color-fitted-level-1) 1pt solid;\n",
              "  color: var(--sklearn-color-fitted-level-1);\n",
              "}\n",
              "\n",
              "/* On hover */\n",
              "div.sk-estimator:hover .sk-estimator-doc-link:hover,\n",
              ".sk-estimator-doc-link:hover,\n",
              "div.sk-label-container:hover .sk-estimator-doc-link:hover,\n",
              ".sk-estimator-doc-link:hover {\n",
              "  /* unfitted */\n",
              "  background-color: var(--sklearn-color-unfitted-level-3);\n",
              "  color: var(--sklearn-color-background);\n",
              "  text-decoration: none;\n",
              "}\n",
              "\n",
              "div.sk-estimator.fitted:hover .sk-estimator-doc-link.fitted:hover,\n",
              ".sk-estimator-doc-link.fitted:hover,\n",
              "div.sk-label-container:hover .sk-estimator-doc-link.fitted:hover,\n",
              ".sk-estimator-doc-link.fitted:hover {\n",
              "  /* fitted */\n",
              "  background-color: var(--sklearn-color-fitted-level-3);\n",
              "  color: var(--sklearn-color-background);\n",
              "  text-decoration: none;\n",
              "}\n",
              "\n",
              "/* Span, style for the box shown on hovering the info icon */\n",
              ".sk-estimator-doc-link span {\n",
              "  display: none;\n",
              "  z-index: 9999;\n",
              "  position: relative;\n",
              "  font-weight: normal;\n",
              "  right: .2ex;\n",
              "  padding: .5ex;\n",
              "  margin: .5ex;\n",
              "  width: min-content;\n",
              "  min-width: 20ex;\n",
              "  max-width: 50ex;\n",
              "  color: var(--sklearn-color-text);\n",
              "  box-shadow: 2pt 2pt 4pt #999;\n",
              "  /* unfitted */\n",
              "  background: var(--sklearn-color-unfitted-level-0);\n",
              "  border: .5pt solid var(--sklearn-color-unfitted-level-3);\n",
              "}\n",
              "\n",
              ".sk-estimator-doc-link.fitted span {\n",
              "  /* fitted */\n",
              "  background: var(--sklearn-color-fitted-level-0);\n",
              "  border: var(--sklearn-color-fitted-level-3);\n",
              "}\n",
              "\n",
              ".sk-estimator-doc-link:hover span {\n",
              "  display: block;\n",
              "}\n",
              "\n",
              "/* \"?\"-specific style due to the `<a>` HTML tag */\n",
              "\n",
              "#sk-container-id-7 a.estimator_doc_link {\n",
              "  float: right;\n",
              "  font-size: 1rem;\n",
              "  line-height: 1em;\n",
              "  font-family: monospace;\n",
              "  background-color: var(--sklearn-color-background);\n",
              "  border-radius: 1rem;\n",
              "  height: 1rem;\n",
              "  width: 1rem;\n",
              "  text-decoration: none;\n",
              "  /* unfitted */\n",
              "  color: var(--sklearn-color-unfitted-level-1);\n",
              "  border: var(--sklearn-color-unfitted-level-1) 1pt solid;\n",
              "}\n",
              "\n",
              "#sk-container-id-7 a.estimator_doc_link.fitted {\n",
              "  /* fitted */\n",
              "  border: var(--sklearn-color-fitted-level-1) 1pt solid;\n",
              "  color: var(--sklearn-color-fitted-level-1);\n",
              "}\n",
              "\n",
              "/* On hover */\n",
              "#sk-container-id-7 a.estimator_doc_link:hover {\n",
              "  /* unfitted */\n",
              "  background-color: var(--sklearn-color-unfitted-level-3);\n",
              "  color: var(--sklearn-color-background);\n",
              "  text-decoration: none;\n",
              "}\n",
              "\n",
              "#sk-container-id-7 a.estimator_doc_link.fitted:hover {\n",
              "  /* fitted */\n",
              "  background-color: var(--sklearn-color-fitted-level-3);\n",
              "}\n",
              "</style><div id=\"sk-container-id-7\" class=\"sk-top-container\"><div class=\"sk-text-repr-fallback\"><pre>GridSearchCV(cv=ShuffleSplit(n_splits=30, random_state=1, test_size=0.05, train_size=None),\n",
              "             estimator=Pipeline(steps=[(&#x27;standardscaler&#x27;, StandardScaler()),\n",
              "                                       (&#x27;lasso&#x27;, Lasso())]),\n",
              "             param_grid=[{&#x27;lasso__alpha&#x27;: array([1.00000000e-02, 1.17681195e-02, 1.38488637e-02, 1.62975083e-02,\n",
              "       1.91791026e-02, 2.25701972e-02, 2.65608778e-02, 3.12571585e-02,\n",
              "       3.67837977e-02, 4.32876128...\n",
              "       4.53487851e+03, 5.33669923e+03, 6.28029144e+03, 7.39072203e+03,\n",
              "       8.69749003e+03, 1.02353102e+04, 1.20450354e+04, 1.41747416e+04,\n",
              "       1.66810054e+04, 1.96304065e+04, 2.31012970e+04, 2.71858824e+04,\n",
              "       3.19926714e+04, 3.76493581e+04, 4.43062146e+04, 5.21400829e+04,\n",
              "       6.13590727e+04, 7.22080902e+04, 8.49753436e+04, 1.00000000e+05])}],\n",
              "             return_train_score=True, scoring=&#x27;neg_mean_squared_error&#x27;)</pre><b>In a Jupyter environment, please rerun this cell to show the HTML representation or trust the notebook. <br />On GitHub, the HTML representation is unable to render, please try loading this page with nbviewer.org.</b></div><div class=\"sk-container\" hidden><div class=\"sk-item sk-dashed-wrapped\"><div class=\"sk-label-container\"><div class=\"sk-label fitted sk-toggleable\"><input class=\"sk-toggleable__control sk-hidden--visually\" id=\"sk-estimator-id-25\" type=\"checkbox\" ><label for=\"sk-estimator-id-25\" class=\"sk-toggleable__label fitted sk-toggleable__label-arrow fitted\">&nbsp;&nbsp;GridSearchCV<a class=\"sk-estimator-doc-link fitted\" rel=\"noreferrer\" target=\"_blank\" href=\"https://scikit-learn.org/1.5/modules/generated/sklearn.model_selection.GridSearchCV.html\">?<span>Documentation for GridSearchCV</span></a><span class=\"sk-estimator-doc-link fitted\">i<span>Fitted</span></span></label><div class=\"sk-toggleable__content fitted\"><pre>GridSearchCV(cv=ShuffleSplit(n_splits=30, random_state=1, test_size=0.05, train_size=None),\n",
              "             estimator=Pipeline(steps=[(&#x27;standardscaler&#x27;, StandardScaler()),\n",
              "                                       (&#x27;lasso&#x27;, Lasso())]),\n",
              "             param_grid=[{&#x27;lasso__alpha&#x27;: array([1.00000000e-02, 1.17681195e-02, 1.38488637e-02, 1.62975083e-02,\n",
              "       1.91791026e-02, 2.25701972e-02, 2.65608778e-02, 3.12571585e-02,\n",
              "       3.67837977e-02, 4.32876128...\n",
              "       4.53487851e+03, 5.33669923e+03, 6.28029144e+03, 7.39072203e+03,\n",
              "       8.69749003e+03, 1.02353102e+04, 1.20450354e+04, 1.41747416e+04,\n",
              "       1.66810054e+04, 1.96304065e+04, 2.31012970e+04, 2.71858824e+04,\n",
              "       3.19926714e+04, 3.76493581e+04, 4.43062146e+04, 5.21400829e+04,\n",
              "       6.13590727e+04, 7.22080902e+04, 8.49753436e+04, 1.00000000e+05])}],\n",
              "             return_train_score=True, scoring=&#x27;neg_mean_squared_error&#x27;)</pre></div> </div></div><div class=\"sk-parallel\"><div class=\"sk-parallel-item\"><div class=\"sk-item\"><div class=\"sk-label-container\"><div class=\"sk-label fitted sk-toggleable\"><input class=\"sk-toggleable__control sk-hidden--visually\" id=\"sk-estimator-id-26\" type=\"checkbox\" ><label for=\"sk-estimator-id-26\" class=\"sk-toggleable__label fitted sk-toggleable__label-arrow fitted\">best_estimator_: Pipeline</label><div class=\"sk-toggleable__content fitted\"><pre>Pipeline(steps=[(&#x27;standardscaler&#x27;, StandardScaler()),\n",
              "                (&#x27;lasso&#x27;, Lasso(alpha=1.3219411484660286))])</pre></div> </div></div><div class=\"sk-serial\"><div class=\"sk-item\"><div class=\"sk-serial\"><div class=\"sk-item\"><div class=\"sk-estimator fitted sk-toggleable\"><input class=\"sk-toggleable__control sk-hidden--visually\" id=\"sk-estimator-id-27\" type=\"checkbox\" ><label for=\"sk-estimator-id-27\" class=\"sk-toggleable__label fitted sk-toggleable__label-arrow fitted\">&nbsp;StandardScaler<a class=\"sk-estimator-doc-link fitted\" rel=\"noreferrer\" target=\"_blank\" href=\"https://scikit-learn.org/1.5/modules/generated/sklearn.preprocessing.StandardScaler.html\">?<span>Documentation for StandardScaler</span></a></label><div class=\"sk-toggleable__content fitted\"><pre>StandardScaler()</pre></div> </div></div><div class=\"sk-item\"><div class=\"sk-estimator fitted sk-toggleable\"><input class=\"sk-toggleable__control sk-hidden--visually\" id=\"sk-estimator-id-28\" type=\"checkbox\" ><label for=\"sk-estimator-id-28\" class=\"sk-toggleable__label fitted sk-toggleable__label-arrow fitted\">&nbsp;Lasso<a class=\"sk-estimator-doc-link fitted\" rel=\"noreferrer\" target=\"_blank\" href=\"https://scikit-learn.org/1.5/modules/generated/sklearn.linear_model.Lasso.html\">?<span>Documentation for Lasso</span></a></label><div class=\"sk-toggleable__content fitted\"><pre>Lasso(alpha=1.3219411484660286)</pre></div> </div></div></div></div></div></div></div></div></div></div></div>"
            ]
          },
          "metadata": {},
          "execution_count": 113
        }
      ]
    },
    {
      "cell_type": "code",
      "source": [
        "# Record CV Optimizing Hyper-Params\n",
        "ridge_opt_alpha = grid_search_ridge.cv_results_['param_ridge__alpha'][grid_search_ridge.best_index_]\n",
        "lasso_opt_alpha = grid_search_lasso.cv_results_['param_lasso__alpha'][grid_search_lasso.best_index_]\n",
        "\n",
        "# Extract the results for plotting\n",
        "ridge_alphas = grid_search_ridge.cv_results_['param_ridge__alpha']\n",
        "ridge_train_scores = -grid_search_ridge.cv_results_['mean_train_score']\n",
        "ridge_test_scores = -grid_search_ridge.cv_results_['mean_test_score']\n",
        "\n",
        "lasso_alphas = grid_search_lasso.cv_results_['param_lasso__alpha']\n",
        "lasso_train_scores = -grid_search_lasso.cv_results_['mean_train_score']\n",
        "lasso_test_scores = -grid_search_lasso.cv_results_['mean_test_score']\n",
        "\n",
        "# Plot for Ridge\n",
        "plt.figure(figsize=(15, 5))\n",
        "plt.plot(ridge_alphas, ridge_train_scores, '-', label='Ridge Training (Avg.)')\n",
        "plt.plot(ridge_alphas, ridge_test_scores, '-', label='Ridge Validation (Avg.)')\n",
        "plt.xlabel('Regularization Parameter $\\\\alpha$', fontsize=16)\n",
        "plt.ylabel('$\\\\frac{1}{N}RSS$', fontsize=16)\n",
        "plt.axvline(ridge_opt_alpha, label='$\\\\alpha^*$', color='k', linestyle=':')\n",
        "plt.xscale('log')\n",
        "plt.yscale('log')\n",
        "plt.tight_layout()\n",
        "plt.legend(loc=2, fontsize=16)\n",
        "plt.title(\"Ridge Regularization Path\")\n",
        "plt.show()\n",
        "\n",
        "# Plot for Lasso\n",
        "plt.figure(figsize=(15, 5))\n",
        "plt.plot(lasso_alphas, lasso_train_scores, '-', label='Lasso Training (Avg.)')\n",
        "plt.plot(lasso_alphas, lasso_test_scores, '-', label='Lasso Validation (Avg.)')\n",
        "plt.xlabel('Regularization Parameter $\\\\alpha$', fontsize=16)\n",
        "plt.ylabel('$\\\\frac{1}{N}RSS$', fontsize=16)\n",
        "plt.axvline(lasso_opt_alpha, label='$\\\\alpha^*$', color='k', linestyle=':')\n",
        "plt.xscale('log')\n",
        "plt.yscale('log')\n",
        "plt.tight_layout()\n",
        "plt.legend(loc=2, fontsize=16)\n",
        "plt.title(\"Lasso Regularization Path\")\n",
        "plt.show()"
      ],
      "metadata": {
        "colab": {
          "base_uri": "https://localhost:8080/",
          "height": 1000
        },
        "id": "4LNcdTxAFXCm",
        "outputId": "7cc0d950-bb24-46de-c9d5-8f3f8907df8b"
      },
      "execution_count": 114,
      "outputs": [
        {
          "output_type": "display_data",
          "data": {
            "text/plain": [
              "<Figure size 1500x500 with 1 Axes>"
            ],
            "image/png": "[encoded data removed]"
          },
          "metadata": {}
        },
        {
          "output_type": "display_data",
          "data": {
            "text/plain": [
              "<Figure size 1500x500 with 1 Axes>"
            ],
            "image/png": "[encoded data removed]"
          },
          "metadata": {}
        }
      ]
    },
    {
      "cell_type": "markdown",
      "metadata": {
        "id": "lIEpO13vohu3"
      },
      "source": [
        "# Classification with Logistic regression and SVM"
      ]
    },
    {
      "cell_type": "markdown",
      "metadata": {
        "id": "kY1IptXmohu3"
      },
      "source": [
        "**What you will learn today**: You will learn how to implement a classifier. First we will analyze a toy example in which we will use a logistic classifier coded from scratch. Once we understood the logic behind the algorithm we will use the black box Sklearn one for recognizing hand-written digits. You will also implement SVM classifier on a different dataset to get familiar with this important family of algorithm."
      ]
    },
    {
      "cell_type": "markdown",
      "metadata": {
        "id": "-rNY12e6ohu3"
      },
      "source": [
        "# 1) Logistic regression from scratch"
      ]
    },
    {
      "cell_type": "markdown",
      "metadata": {
        "id": "HbGd1Mr6ohu3"
      },
      "source": [
        "Let us generate a synthetic dataset using a multivariate Gaussian distribution"
      ]
    },
    {
      "cell_type": "code",
      "execution_count": null,
      "metadata": {
        "id": "ZKi-B3a_ohu3"
      },
      "outputs": [],
      "source": [
        "import numpy as np\n",
        "import matplotlib.pyplot as plt\n",
        "%matplotlib inline\n",
        "\n",
        "np.random.seed(0)\n",
        "num_observations = 500\n",
        "\n",
        "x1 = np.random.multivariate_normal([0, 0], [[1, .5],[.5, 1]], num_observations)\n",
        "x2 = np.random.multivariate_normal([1, 4], [[1, .8],[.8, 1]], num_observations)\n",
        "\n",
        "dataset = np.vstack((x1, x2)).astype(np.float32)\n",
        "labels = np.hstack((np.zeros(num_observations),np.ones(num_observations)))\n",
        "\n",
        "dataset[:5]"
      ]
    },
    {
      "cell_type": "markdown",
      "metadata": {
        "id": "EMHRHv1dohu3"
      },
      "source": [
        "Let's plot our data"
      ]
    },
    {
      "cell_type": "code",
      "execution_count": null,
      "metadata": {
        "id": "iEIpZPoEohu3"
      },
      "outputs": [],
      "source": [
        "plt.figure(figsize=(14,8))\n",
        "plt.xlim(-3,4)\n",
        "plt.scatter(dataset[:, 0], dataset[:, 1],c = labels, alpha = .4)"
      ]
    },
    {
      "cell_type": "markdown",
      "metadata": {
        "id": "g84I1GQ0ohu3"
      },
      "source": [
        "Our goal is to use a logistic function to fit our dataset. In this case:\n",
        "$$P_{\\rm model}(y_i|{\\vec w} \\cdot {\\vec x_i}) = \\frac {e^{({\\vec w} \\cdot {\\vec x_i})y_i}}{1+\\exp({\\vec w} \\cdot {\\vec x_i})}$$\n",
        "such that\n",
        "$$P_{\\rm model}(y_i=1)  = \\frac {\\exp{({\\vec w} \\cdot {\\vec x_i})}}{1+\\exp({\\vec w} \\cdot {\\vec x_i})}  = \\frac {1}{1+\\exp(-{\\vec w} \\cdot {\\vec x_i})}~~~ \\text{and}~~~ P_{\\rm model}(y_i=0)  = \\frac {1}{1+\\exp({\\vec w} \\cdot {\\vec x_i})}  = \\frac {\\exp{(-{\\vec w} \\cdot {\\vec x_i})}}{1+\\exp(-{\\vec w} \\cdot {\\vec x_i})}$$\n",
        "\n",
        "\n",
        "Now, we can either use the cross-entropy loss and write:\n",
        "$$\\mathcal{L}(\\vec{w}) = - \\sum_{i=1}^n \\sum_{y_i=0,1} y_i \\log P_{\\rm model}(y_i) +  (1-y_i) \\log (1 - P_{\\rm model}(y_i)) $$\n",
        "or equivalently write a maximum-likelihood problem with\n",
        "$$\n",
        "\\mathcal{L}(\\vec{w}|\\vec{\\bm{x}},\\bm{y}) \\propto \\sum_i \\log P_{\\rm model}(y_i|{\\vec w} \\cdot {\\vec x_i})\n",
        "$$\n",
        "In both cases, the problem boils down to minimizing the following loss:\n",
        "$$\\mathcal{L}(\\vec {w}) =  \\sum_{i=1}^n - y_i {\\vec {w}} \\cdot {\\vec x}_i  + \\log{(1+\\exp({\\vec w} \\cdot {\\vec x}_i ))} $$\n",
        "\n",
        "Let us implement these function:"
      ]
    },
    {
      "cell_type": "code",
      "execution_count": null,
      "metadata": {
        "id": "nL2_Brfxohu3"
      },
      "outputs": [],
      "source": [
        "def sigmoid(scores):\n",
        "    return 1 / (1 + np.exp(-scores))\n",
        "def log_loss(features, target, weights):\n",
        "    scores = np.dot(features, weights)\n",
        "    ll = np.sum( -target*scores + np.log(1 + np.exp(scores)) )\n",
        "    return ll"
      ]
    },
    {
      "cell_type": "markdown",
      "metadata": {
        "id": "yaI0CHLZohu3"
      },
      "source": [
        "In order to perform optimization, we need to compute the gradient and perform gradient descent. Here we have:\n",
        "\n",
        "$$\\nabla_{\\vec w} \\mathcal{L}(\\vec w) =  \\sum_{i = 1}^n - y_i  {\\vec x}_i  + {\\vec x}_i  \\frac{\\exp({\\vec w} \\cdot {\\vec x}_i )}{(1+\\exp({\\vec w} \\cdot {\\vec x}_i ))} = - \\sum_{i = 1}^n {\\vec x}_i^T (y_i - P(y_i=1)) $$\n",
        "\n",
        "We can now write the  logistic regression"
      ]
    },
    {
      "cell_type": "markdown",
      "metadata": {
        "id": "K4jLbWtkohu3"
      },
      "source": [
        "##### **Exercise 1**\n",
        "\n",
        "##### Try writing Gradient Descent using this Loss, as we did in the previous exercise session"
      ]
    },
    {
      "cell_type": "markdown",
      "metadata": {
        "id": "zA9-Ccl3ohu4"
      },
      "source": [
        "# 2) Logistic regression on real dataset\n",
        "\n"
      ]
    },
    {
      "cell_type": "markdown",
      "metadata": {
        "id": "oM2mIcHqohu4"
      },
      "source": [
        "Let us use the fantastic notebooks from https://physics.bu.edu/~pankajm/MLnotebooks.html, a terrific book for ML newcomers especially if they come from physics. We will consider again our friend MNIST, remember the lecture on KNN? First a bit of history on this famous dataset:\n",
        "\n",
        "\n",
        "The MNIST classification problem is one of the classical ML problems for learning classification on high-dimensional data with a fairly sizable number of examples (60000). Yann LeCun and collaborators collected and processed $70000$ handwritten digits (60000 are used for training and 10000 for testing) to produce what became known as one of the most widely used datasets in ML: the [MNIST](http://yann.lecun.com/exdb/mnist/) dataset. Each handwritten digit comes in a grayscale square image in the shape of a $28\\times 28$ pixel grid. Every pixel takes a value in the range $[0,255]$, representing $256$ nuances of the gray color. The problem of image classification finds applications in a wide range of fields and is important for numerous industry applications of Machine Learning."
      ]
    },
    {
      "cell_type": "markdown",
      "metadata": {
        "id": "LzaR0cAWohu4"
      },
      "source": [
        " ### SoftMax regression:\n",
        " Before we consider two possible labels for our data, you can easily guess that it is amenable to have more than one in this case.\n",
        "\n",
        " Do not worry! We can easily generalize what we said before.\n",
        "\n",
        "\n",
        "We will use SoftMax regression, which can be thought of as a statistical model which assigns a probability that a given input image corresponds to any of the 10 handwritten digits. The model is a generalization of the logistic regression and reads:\n",
        "$$\n",
        "p(y_i=j|\\vec{x}_i;\\vec{w}) = \\frac{e^{-\\vec{w}_j^T \\vec{x}}}{\\sum_{k=0}^9 e^{-\\vec{w}_k^T\\vec{x} }},\n",
        "$$\n",
        "Where $p(y_i=j|\\vec{x}_i;\\vec{w})$ is the probability that input $\\vec{x}_i$ is the $j$-th digit, $j\\in[0,9]$.\n",
        "The model also has 10 weight vectors $\\vec{w}_j$ which we will train below. Finally, one can use this information for prediction by taking the value of $y_i$ for which this probability is maximized:\n",
        "\\begin{align}\n",
        "y_{pred}=\\arg\\max_i p(y=i|\\vec{x})\n",
        "\\end{align}\n",
        "\n",
        "First thing to do is to import the dataset and preprocess the data:\n"
      ]
    },
    {
      "cell_type": "code",
      "execution_count": null,
      "metadata": {
        "id": "59P731sdohu4"
      },
      "outputs": [],
      "source": [
        "import time\n",
        "\n",
        "\n",
        "from sklearn.datasets import fetch_openml # MNIST data\n",
        "from sklearn.linear_model import LogisticRegression\n",
        "from sklearn.model_selection import train_test_split\n",
        "from sklearn.preprocessing import StandardScaler\n",
        "from sklearn.utils import check_random_state\n",
        "\n",
        "print(__doc__)\n",
        "\n",
        "# Turn down for faster convergence\n",
        "train_size = 60000\n",
        "test_size = 10000\n",
        "\n",
        "### load MNIST data from https://www.openml.org/d/554\n",
        "X, y = fetch_openml('mnist_784', version=1, return_X_y=True)\n"
      ]
    },
    {
      "cell_type": "code",
      "execution_count": null,
      "metadata": {
        "id": "FLGwrttcohu4"
      },
      "outputs": [],
      "source": [
        "X = np.asarray(X)\n",
        "y = np.asarray(y)"
      ]
    },
    {
      "cell_type": "markdown",
      "metadata": {
        "id": "BaKSghqsohu4"
      },
      "source": [
        "Let's plot an image to see how it looks like with plt.imshow."
      ]
    },
    {
      "cell_type": "code",
      "execution_count": null,
      "metadata": {
        "id": "q8wgc81Pohu4"
      },
      "outputs": [],
      "source": [
        "plt.imshow(X[2,:].reshape(28,28))\n",
        "y[2]"
      ]
    },
    {
      "cell_type": "markdown",
      "metadata": {
        "id": "CHD0_GVnohu4"
      },
      "source": [
        "We shuffle the data and we do the test-train splitting."
      ]
    },
    {
      "cell_type": "code",
      "execution_count": null,
      "metadata": {
        "id": "pLl2tEZ0ohu4"
      },
      "outputs": [],
      "source": [
        "# shuffle data\n",
        "random_state = check_random_state(0)\n",
        "permutation = random_state.permutation(X.shape[0])\n",
        "X = X[permutation]\n",
        "y = y[permutation]\n",
        "X = X.reshape((X.shape[0], -1))\n",
        "# pick training and test data sets\n",
        "X_train, X_test, y_train, y_test = train_test_split(X,y,train_size=train_size,test_size=test_size)"
      ]
    },
    {
      "cell_type": "markdown",
      "metadata": {
        "id": "-p7hJOpcohu4"
      },
      "source": [
        "We preproccess the data and use StandardScaler to have zero mean and unit variance. Pay attention that we do that only on the training set!"
      ]
    },
    {
      "cell_type": "code",
      "execution_count": null,
      "metadata": {
        "id": "udkk7BoLohu4"
      },
      "outputs": [],
      "source": [
        "# scale data to have zero mean and unit variance [required by regressor]\n",
        "scaler = StandardScaler()\n",
        "X_train = scaler.fit_transform(X_train)\n",
        "#X_test = scaler.transform(X_test)"
      ]
    },
    {
      "cell_type": "markdown",
      "metadata": {
        "id": "_4KamU2mohu4"
      },
      "source": [
        "**Exercise**\n",
        " 1. You need to learn how to read a Python documentation. Search on the internet how to implement softmax regression.\n",
        " 2. Fix the value of the regularization to be $10^{-5}$. Fit the data and compute two quantities:\n",
        "   - Sparsity of the weights (percentage of non-zero weights)\n",
        "   - Score (i.e. accuracy)"
      ]
    },
    {
      "cell_type": "markdown",
      "metadata": {
        "id": "K3kHyki6ohu4"
      },
      "source": [
        "# 3) SVM Classification on real dataset\n"
      ]
    },
    {
      "cell_type": "markdown",
      "metadata": {
        "id": "GpTIL4bkohu4"
      },
      "source": [
        "**Exercise**\n",
        " 1. Repeat what you did for softmax regression for an Support Vector Machine (SVM) linear classifier.\n",
        " 2. Go and search the Python doc for SVM classifier. Choose the linear one (we will see other in following lectures)\n",
        " 3. Fit the data using the default value of regularization and compare with an optimized value using CV."
      ]
    },
    {
      "cell_type": "markdown",
      "metadata": {
        "id": "ymtnXlKlohu4"
      },
      "source": [
        "Clear and friendly reference can be found here: https://www.kaggle.com/nishan192/mnist-digit-recognition-using-svm.\n",
        "\n",
        "PS: If you do not know Kaggle, you should check it out!"
      ]
    }
  ],
  "metadata": {
    "colab": {
      "provenance": [],
      "include_colab_link": true
    },
    "kernelspec": {
      "display_name": "venv",
      "language": "python",
      "name": "python3"
    },
    "language_info": {
      "codemirror_mode": {
        "name": "ipython",
        "version": 3
      },
      "file_extension": ".py",
      "mimetype": "text/x-python",
      "name": "python",
      "nbconvert_exporter": "python",
      "pygments_lexer": "ipython3",
      "version": "3.12.7"
    }
  },
  "nbformat": 4,
  "nbformat_minor": 0
}