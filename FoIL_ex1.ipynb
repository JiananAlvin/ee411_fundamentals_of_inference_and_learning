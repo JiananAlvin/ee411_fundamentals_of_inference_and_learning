{
  "cells": [
    {
      "cell_type": "markdown",
      "metadata": {
        "id": "view-in-github",
        "colab_type": "text"
      },
      "source": [
        "<a href=\"https://colab.research.google.com/github/JiananAlvin/ee411_fundamentals_of_inference_and_learning/blob/main/FoIL_ex1_public.ipynb\" target=\"_parent\"><img src=\"https://colab.research.google.com/assets/colab-badge.svg\" alt=\"Open In Colab\"/></a>"
      ]
    },
    {
      "cell_type": "markdown",
      "metadata": {
        "id": "GteYUTHvkZtc"
      },
      "source": [
        "# EE-411 Fundamentals of inference and learning, EPFL\n",
        "## Exercise Session 1: looking at data with python and pandas\n",
        "\n",
        "In this first set of exercices, we will start the course by solving some simple python problems that will help you warm up for the future. We advise you to run python notebooks on your browser, for instance using google colab (Watch <a href=\"https://https://www.youtube.com/watch?v=RLYoEyIHL6A\">Introduction to Colab</a> to find out more) or our own serveur in epfl (on <a href=\"https://noto.epfl.ch/\">noto.epfl.ch</a>). If you need to refresh your python skills, you may start by our introductory notebooks [here](https://github.com/IdePHICS/FundamentalLearningEPFL2021/blob/main/TP0/Intro%20to%20Python.ipynb) and [there](https://github.com/IdePHICS/FundamentalLearningEPFL2021/blob/main/TP0/Visualization.ipynb).\n",
        "\n",
        "**What you will learn today:** In this first session, we will discuss briefly how to use python, how to use pandas (a powerful, and easy to use, open source data analysis and manipulation tool), and discuss the idea of permutation test and bootstrap, that are amazingly useful concepts from statistics.\n",
        "\n"
      ]
    },
    {
      "cell_type": "markdown",
      "metadata": {
        "id": "izBv5XTukZth"
      },
      "source": [
        "# The Brexit data: who wanted out?"
      ]
    },
    {
      "cell_type": "markdown",
      "metadata": {
        "id": "BTGq_uJZkZth"
      },
      "source": [
        "\n",
        "We will introduce the concept of permutation test in the hypothesis testing problem exploiting a cool analysis on the Brexit referendum following this great resource https://matthew-brett.github.io/les-pilot/brexit_ages.html. This will give us the opportunity to review the basic functionalities of pandas, a pivotal package in data-handling which we will find often during this course. In fact, you may want to follow an introduction to pandas (for instance [this one](https://www.learndatasci.com/tutorials/python-pandas-tutorial-complete-introduction-for-beginners/), or the very useful [Most Important Pandas Functions for Data Science](https://www.analyticsvidhya.com/blog/2021/05/pandas-functions-13-most-important/)\n",
        ").\n",
        "\n",
        "Here is our problem: The Hansard society made a poll in the 2016 interviewing 1771 people on the Brexit referendum  (data available here https://beta.ukdataservice.ac.uk/datacatalogue/studies/study?id=8183).\n"
      ]
    },
    {
      "cell_type": "markdown",
      "metadata": {
        "id": "pWSuVuGJkZti"
      },
      "source": [
        "If we dig into the data, we see that the average age of the \"Brexiteers\" is higher from the one of the \"Remainers\".\n",
        "We are interested in addressing the following question: how $\\textbf{confident}$ can we be that this rule is general and is not an artifact due to low sample size?\n"
      ]
    },
    {
      "cell_type": "markdown",
      "metadata": {
        "id": "0t4De2E4kZti"
      },
      "source": [
        "This problem falls in the broader context of hypothesis testing problem:\n",
        "\n",
        "* Hypothesis (H1) - effective difference in the age of Brexiteers and Remainers\n",
        "                       \n",
        "                         vs\n",
        "                         \n",
        "* \"Null hypothesis\" (H0) - no difference in the age of the two groups\n",
        "\n",
        "This seems like a hard problem but we will see that with a very simple idea we will be able to characterize the answer. Let's proceed by small steps and let's understand how to handle a dataset with pandas.\n"
      ]
    },
    {
      "cell_type": "markdown",
      "metadata": {
        "id": "ef6-VdzBkZtj"
      },
      "source": [
        "### $\\color{darkblue}{\\text{Data-handling with pandas }}$"
      ]
    },
    {
      "cell_type": "code",
      "execution_count": 224,
      "metadata": {
        "id": "AeFbJQYWkZtj"
      },
      "outputs": [],
      "source": [
        "# Let's import the package\n",
        "import pandas as pd"
      ]
    },
    {
      "cell_type": "code",
      "execution_count": 225,
      "metadata": {
        "id": "sYU8MEOCkZtk"
      },
      "outputs": [],
      "source": [
        "# Read data using pd.read_csv obtaining a \"data frame\" (df) object\n",
        "data_raw = pd.read_csv('https://raw.githubusercontent.com/IdePHICS/FundamentalLearningEPFL/main/TP1/audit_of_political_engagement_14_2017.tab', sep = '\\t')"
      ]
    },
    {
      "cell_type": "markdown",
      "metadata": {
        "id": "ZBy3sb8HkZtl"
      },
      "source": [
        "The way pandas datas is presented look messy at first. It is called a **dataframe**. By printing the data frame, this is what we see:"
      ]
    },
    {
      "cell_type": "code",
      "execution_count": 226,
      "metadata": {
        "colab": {
          "base_uri": "https://localhost:8080/",
          "height": 423
        },
        "id": "0_vuPZcQkZtl",
        "outputId": "4d9e4cfe-0a6b-4fdc-c199-a66595eeec51",
        "scrolled": true
      },
      "outputs": [
        {
          "output_type": "execute_result",
          "data": {
            "text/plain": [
              "      cu041  cu042  cu043  cu044  cu045  cu046  cu047  cu048  cu049  cu0410  \\\n",
              "0         0      0      0      0      1      1      0      0      0       0   \n",
              "1         0      0      0      0      0      0      0      0      0       1   \n",
              "2         0      0      0      0      1      0      0      0      0       0   \n",
              "3         0      0      0      0      1      0      1      0      0       0   \n",
              "4         0      0      0      1      1      0      1      0      0       0   \n",
              "...     ...    ...    ...    ...    ...    ...    ...    ...    ...     ...   \n",
              "1766      0      0      0      0      0      0      0      0      0       0   \n",
              "1767      0      0      0      0      0      0      0      0      0       0   \n",
              "1768      0      0      0      0      0      0      0      0      0       0   \n",
              "1769      0      0      0      0      0      0      0      0      0       0   \n",
              "1770      0      0      0      0      0      0      0      0      0       0   \n",
              "\n",
              "      ...  intten  cx_971_980  serial  week      wts  numage  weight0  \\\n",
              "0     ...      -1     3.41659    1399   648  3.41659      37  3.41659   \n",
              "1     ...      -1     2.68198    1733   648  2.68198      55  2.68198   \n",
              "2     ...      -1     0.79379    1736   648  0.79379      71  0.79379   \n",
              "3     ...      -1     1.40580    1737   648  1.40580      37  1.40580   \n",
              "4     ...      -1     0.89475    1738   648  0.89475      42  0.89475   \n",
              "...   ...     ...         ...     ...   ...      ...     ...      ...   \n",
              "1766  ...       9     0.44339    3423   649  0.44339      39  0.44339   \n",
              "1767  ...       9     0.44086    3425   649  0.44086      20  0.44086   \n",
              "1768  ...       9     0.32590    3426   649  0.32590      31  0.32590   \n",
              "1769  ...       9     0.66970    3427   649  0.66970      47  0.66970   \n",
              "1770  ...       9     0.39478    3434   649  0.39478      25  0.39478   \n",
              "\n",
              "      sgrade_grp  age_grp  region2  \n",
              "0              1        4        3  \n",
              "1              2        6        3  \n",
              "2              2        7        4  \n",
              "3              1        4        4  \n",
              "4              2        4        4  \n",
              "...          ...      ...      ...  \n",
              "1766           1        4        4  \n",
              "1767           3        2        4  \n",
              "1768           3        3        4  \n",
              "1769           4        5        4  \n",
              "1770           4        3        4  \n",
              "\n",
              "[1771 rows x 370 columns]"
            ],
            "text/html": [
              "\n",
              "  <div id=\"df-d7f8fa6e-5784-4927-8d52-5064c65a55fa\" class=\"colab-df-container\">\n",
              "    <div>\n",
              "<style scoped>\n",
              "    .dataframe tbody tr th:only-of-type {\n",
              "        vertical-align: middle;\n",
              "    }\n",
              "\n",
              "    .dataframe tbody tr th {\n",
              "        vertical-align: top;\n",
              "    }\n",
              "\n",
              "    .dataframe thead th {\n",
              "        text-align: right;\n",
              "    }\n",
              "</style>\n",
              "<table border=\"1\" class=\"dataframe\">\n",
              "  <thead>\n",
              "    <tr style=\"text-align: right;\">\n",
              "      <th></th>\n",
              "      <th>cu041</th>\n",
              "      <th>cu042</th>\n",
              "      <th>cu043</th>\n",
              "      <th>cu044</th>\n",
              "      <th>cu045</th>\n",
              "      <th>cu046</th>\n",
              "      <th>cu047</th>\n",
              "      <th>cu048</th>\n",
              "      <th>cu049</th>\n",
              "      <th>cu0410</th>\n",
              "      <th>...</th>\n",
              "      <th>intten</th>\n",
              "      <th>cx_971_980</th>\n",
              "      <th>serial</th>\n",
              "      <th>week</th>\n",
              "      <th>wts</th>\n",
              "      <th>numage</th>\n",
              "      <th>weight0</th>\n",
              "      <th>sgrade_grp</th>\n",
              "      <th>age_grp</th>\n",
              "      <th>region2</th>\n",
              "    </tr>\n",
              "  </thead>\n",
              "  <tbody>\n",
              "    <tr>\n",
              "      <th>0</th>\n",
              "      <td>0</td>\n",
              "      <td>0</td>\n",
              "      <td>0</td>\n",
              "      <td>0</td>\n",
              "      <td>1</td>\n",
              "      <td>1</td>\n",
              "      <td>0</td>\n",
              "      <td>0</td>\n",
              "      <td>0</td>\n",
              "      <td>0</td>\n",
              "      <td>...</td>\n",
              "      <td>-1</td>\n",
              "      <td>3.41659</td>\n",
              "      <td>1399</td>\n",
              "      <td>648</td>\n",
              "      <td>3.41659</td>\n",
              "      <td>37</td>\n",
              "      <td>3.41659</td>\n",
              "      <td>1</td>\n",
              "      <td>4</td>\n",
              "      <td>3</td>\n",
              "    </tr>\n",
              "    <tr>\n",
              "      <th>1</th>\n",
              "      <td>0</td>\n",
              "      <td>0</td>\n",
              "      <td>0</td>\n",
              "      <td>0</td>\n",
              "      <td>0</td>\n",
              "      <td>0</td>\n",
              "      <td>0</td>\n",
              "      <td>0</td>\n",
              "      <td>0</td>\n",
              "      <td>1</td>\n",
              "      <td>...</td>\n",
              "      <td>-1</td>\n",
              "      <td>2.68198</td>\n",
              "      <td>1733</td>\n",
              "      <td>648</td>\n",
              "      <td>2.68198</td>\n",
              "      <td>55</td>\n",
              "      <td>2.68198</td>\n",
              "      <td>2</td>\n",
              "      <td>6</td>\n",
              "      <td>3</td>\n",
              "    </tr>\n",
              "    <tr>\n",
              "      <th>2</th>\n",
              "      <td>0</td>\n",
              "      <td>0</td>\n",
              "      <td>0</td>\n",
              "      <td>0</td>\n",
              "      <td>1</td>\n",
              "      <td>0</td>\n",
              "      <td>0</td>\n",
              "      <td>0</td>\n",
              "      <td>0</td>\n",
              "      <td>0</td>\n",
              "      <td>...</td>\n",
              "      <td>-1</td>\n",
              "      <td>0.79379</td>\n",
              "      <td>1736</td>\n",
              "      <td>648</td>\n",
              "      <td>0.79379</td>\n",
              "      <td>71</td>\n",
              "      <td>0.79379</td>\n",
              "      <td>2</td>\n",
              "      <td>7</td>\n",
              "      <td>4</td>\n",
              "    </tr>\n",
              "    <tr>\n",
              "      <th>3</th>\n",
              "      <td>0</td>\n",
              "      <td>0</td>\n",
              "      <td>0</td>\n",
              "      <td>0</td>\n",
              "      <td>1</td>\n",
              "      <td>0</td>\n",
              "      <td>1</td>\n",
              "      <td>0</td>\n",
              "      <td>0</td>\n",
              "      <td>0</td>\n",
              "      <td>...</td>\n",
              "      <td>-1</td>\n",
              "      <td>1.40580</td>\n",
              "      <td>1737</td>\n",
              "      <td>648</td>\n",
              "      <td>1.40580</td>\n",
              "      <td>37</td>\n",
              "      <td>1.40580</td>\n",
              "      <td>1</td>\n",
              "      <td>4</td>\n",
              "      <td>4</td>\n",
              "    </tr>\n",
              "    <tr>\n",
              "      <th>4</th>\n",
              "      <td>0</td>\n",
              "      <td>0</td>\n",
              "      <td>0</td>\n",
              "      <td>1</td>\n",
              "      <td>1</td>\n",
              "      <td>0</td>\n",
              "      <td>1</td>\n",
              "      <td>0</td>\n",
              "      <td>0</td>\n",
              "      <td>0</td>\n",
              "      <td>...</td>\n",
              "      <td>-1</td>\n",
              "      <td>0.89475</td>\n",
              "      <td>1738</td>\n",
              "      <td>648</td>\n",
              "      <td>0.89475</td>\n",
              "      <td>42</td>\n",
              "      <td>0.89475</td>\n",
              "      <td>2</td>\n",
              "      <td>4</td>\n",
              "      <td>4</td>\n",
              "    </tr>\n",
              "    <tr>\n",
              "      <th>...</th>\n",
              "      <td>...</td>\n",
              "      <td>...</td>\n",
              "      <td>...</td>\n",
              "      <td>...</td>\n",
              "      <td>...</td>\n",
              "      <td>...</td>\n",
              "      <td>...</td>\n",
              "      <td>...</td>\n",
              "      <td>...</td>\n",
              "      <td>...</td>\n",
              "      <td>...</td>\n",
              "      <td>...</td>\n",
              "      <td>...</td>\n",
              "      <td>...</td>\n",
              "      <td>...</td>\n",
              "      <td>...</td>\n",
              "      <td>...</td>\n",
              "      <td>...</td>\n",
              "      <td>...</td>\n",
              "      <td>...</td>\n",
              "      <td>...</td>\n",
              "    </tr>\n",
              "    <tr>\n",
              "      <th>1766</th>\n",
              "      <td>0</td>\n",
              "      <td>0</td>\n",
              "      <td>0</td>\n",
              "      <td>0</td>\n",
              "      <td>0</td>\n",
              "      <td>0</td>\n",
              "      <td>0</td>\n",
              "      <td>0</td>\n",
              "      <td>0</td>\n",
              "      <td>0</td>\n",
              "      <td>...</td>\n",
              "      <td>9</td>\n",
              "      <td>0.44339</td>\n",
              "      <td>3423</td>\n",
              "      <td>649</td>\n",
              "      <td>0.44339</td>\n",
              "      <td>39</td>\n",
              "      <td>0.44339</td>\n",
              "      <td>1</td>\n",
              "      <td>4</td>\n",
              "      <td>4</td>\n",
              "    </tr>\n",
              "    <tr>\n",
              "      <th>1767</th>\n",
              "      <td>0</td>\n",
              "      <td>0</td>\n",
              "      <td>0</td>\n",
              "      <td>0</td>\n",
              "      <td>0</td>\n",
              "      <td>0</td>\n",
              "      <td>0</td>\n",
              "      <td>0</td>\n",
              "      <td>0</td>\n",
              "      <td>0</td>\n",
              "      <td>...</td>\n",
              "      <td>9</td>\n",
              "      <td>0.44086</td>\n",
              "      <td>3425</td>\n",
              "      <td>649</td>\n",
              "      <td>0.44086</td>\n",
              "      <td>20</td>\n",
              "      <td>0.44086</td>\n",
              "      <td>3</td>\n",
              "      <td>2</td>\n",
              "      <td>4</td>\n",
              "    </tr>\n",
              "    <tr>\n",
              "      <th>1768</th>\n",
              "      <td>0</td>\n",
              "      <td>0</td>\n",
              "      <td>0</td>\n",
              "      <td>0</td>\n",
              "      <td>0</td>\n",
              "      <td>0</td>\n",
              "      <td>0</td>\n",
              "      <td>0</td>\n",
              "      <td>0</td>\n",
              "      <td>0</td>\n",
              "      <td>...</td>\n",
              "      <td>9</td>\n",
              "      <td>0.32590</td>\n",
              "      <td>3426</td>\n",
              "      <td>649</td>\n",
              "      <td>0.32590</td>\n",
              "      <td>31</td>\n",
              "      <td>0.32590</td>\n",
              "      <td>3</td>\n",
              "      <td>3</td>\n",
              "      <td>4</td>\n",
              "    </tr>\n",
              "    <tr>\n",
              "      <th>1769</th>\n",
              "      <td>0</td>\n",
              "      <td>0</td>\n",
              "      <td>0</td>\n",
              "      <td>0</td>\n",
              "      <td>0</td>\n",
              "      <td>0</td>\n",
              "      <td>0</td>\n",
              "      <td>0</td>\n",
              "      <td>0</td>\n",
              "      <td>0</td>\n",
              "      <td>...</td>\n",
              "      <td>9</td>\n",
              "      <td>0.66970</td>\n",
              "      <td>3427</td>\n",
              "      <td>649</td>\n",
              "      <td>0.66970</td>\n",
              "      <td>47</td>\n",
              "      <td>0.66970</td>\n",
              "      <td>4</td>\n",
              "      <td>5</td>\n",
              "      <td>4</td>\n",
              "    </tr>\n",
              "    <tr>\n",
              "      <th>1770</th>\n",
              "      <td>0</td>\n",
              "      <td>0</td>\n",
              "      <td>0</td>\n",
              "      <td>0</td>\n",
              "      <td>0</td>\n",
              "      <td>0</td>\n",
              "      <td>0</td>\n",
              "      <td>0</td>\n",
              "      <td>0</td>\n",
              "      <td>0</td>\n",
              "      <td>...</td>\n",
              "      <td>9</td>\n",
              "      <td>0.39478</td>\n",
              "      <td>3434</td>\n",
              "      <td>649</td>\n",
              "      <td>0.39478</td>\n",
              "      <td>25</td>\n",
              "      <td>0.39478</td>\n",
              "      <td>4</td>\n",
              "      <td>3</td>\n",
              "      <td>4</td>\n",
              "    </tr>\n",
              "  </tbody>\n",
              "</table>\n",
              "<p>1771 rows × 370 columns</p>\n",
              "</div>\n",
              "    <div class=\"colab-df-buttons\">\n",
              "\n",
              "  <div class=\"colab-df-container\">\n",
              "    <button class=\"colab-df-convert\" onclick=\"convertToInteractive('df-d7f8fa6e-5784-4927-8d52-5064c65a55fa')\"\n",
              "            title=\"Convert this dataframe to an interactive table.\"\n",
              "            style=\"display:none;\">\n",
              "\n",
              "  <svg xmlns=\"http://www.w3.org/2000/svg\" height=\"24px\" viewBox=\"0 -960 960 960\">\n",
              "    <path d=\"M120-120v-720h720v720H120Zm60-500h600v-160H180v160Zm220 220h160v-160H400v160Zm0 220h160v-160H400v160ZM180-400h160v-160H180v160Zm440 0h160v-160H620v160ZM180-180h160v-160H180v160Zm440 0h160v-160H620v160Z\"/>\n",
              "  </svg>\n",
              "    </button>\n",
              "\n",
              "  <style>\n",
              "    .colab-df-container {\n",
              "      display:flex;\n",
              "      gap: 12px;\n",
              "    }\n",
              "\n",
              "    .colab-df-convert {\n",
              "      background-color: #E8F0FE;\n",
              "      border: none;\n",
              "      border-radius: 50%;\n",
              "      cursor: pointer;\n",
              "      display: none;\n",
              "      fill: #1967D2;\n",
              "      height: 32px;\n",
              "      padding: 0 0 0 0;\n",
              "      width: 32px;\n",
              "    }\n",
              "\n",
              "    .colab-df-convert:hover {\n",
              "      background-color: #E2EBFA;\n",
              "      box-shadow: 0px 1px 2px rgba(60, 64, 67, 0.3), 0px 1px 3px 1px rgba(60, 64, 67, 0.15);\n",
              "      fill: #174EA6;\n",
              "    }\n",
              "\n",
              "    .colab-df-buttons div {\n",
              "      margin-bottom: 4px;\n",
              "    }\n",
              "\n",
              "    [theme=dark] .colab-df-convert {\n",
              "      background-color: #3B4455;\n",
              "      fill: #D2E3FC;\n",
              "    }\n",
              "\n",
              "    [theme=dark] .colab-df-convert:hover {\n",
              "      background-color: #434B5C;\n",
              "      box-shadow: 0px 1px 3px 1px rgba(0, 0, 0, 0.15);\n",
              "      filter: drop-shadow(0px 1px 2px rgba(0, 0, 0, 0.3));\n",
              "      fill: #FFFFFF;\n",
              "    }\n",
              "  </style>\n",
              "\n",
              "    <script>\n",
              "      const buttonEl =\n",
              "        document.querySelector('#df-d7f8fa6e-5784-4927-8d52-5064c65a55fa button.colab-df-convert');\n",
              "      buttonEl.style.display =\n",
              "        google.colab.kernel.accessAllowed ? 'block' : 'none';\n",
              "\n",
              "      async function convertToInteractive(key) {\n",
              "        const element = document.querySelector('#df-d7f8fa6e-5784-4927-8d52-5064c65a55fa');\n",
              "        const dataTable =\n",
              "          await google.colab.kernel.invokeFunction('convertToInteractive',\n",
              "                                                    [key], {});\n",
              "        if (!dataTable) return;\n",
              "\n",
              "        const docLinkHtml = 'Like what you see? Visit the ' +\n",
              "          '<a target=\"_blank\" href=https://colab.research.google.com/notebooks/data_table.ipynb>data table notebook</a>'\n",
              "          + ' to learn more about interactive tables.';\n",
              "        element.innerHTML = '';\n",
              "        dataTable['output_type'] = 'display_data';\n",
              "        await google.colab.output.renderOutput(dataTable, element);\n",
              "        const docLink = document.createElement('div');\n",
              "        docLink.innerHTML = docLinkHtml;\n",
              "        element.appendChild(docLink);\n",
              "      }\n",
              "    </script>\n",
              "  </div>\n",
              "\n",
              "\n",
              "<div id=\"df-fb83a119-ba2b-40e1-b32d-cbeb9d442a66\">\n",
              "  <button class=\"colab-df-quickchart\" onclick=\"quickchart('df-fb83a119-ba2b-40e1-b32d-cbeb9d442a66')\"\n",
              "            title=\"Suggest charts\"\n",
              "            style=\"display:none;\">\n",
              "\n",
              "<svg xmlns=\"http://www.w3.org/2000/svg\" height=\"24px\"viewBox=\"0 0 24 24\"\n",
              "     width=\"24px\">\n",
              "    <g>\n",
              "        <path d=\"M19 3H5c-1.1 0-2 .9-2 2v14c0 1.1.9 2 2 2h14c1.1 0 2-.9 2-2V5c0-1.1-.9-2-2-2zM9 17H7v-7h2v7zm4 0h-2V7h2v10zm4 0h-2v-4h2v4z\"/>\n",
              "    </g>\n",
              "</svg>\n",
              "  </button>\n",
              "\n",
              "<style>\n",
              "  .colab-df-quickchart {\n",
              "      --bg-color: #E8F0FE;\n",
              "      --fill-color: #1967D2;\n",
              "      --hover-bg-color: #E2EBFA;\n",
              "      --hover-fill-color: #174EA6;\n",
              "      --disabled-fill-color: #AAA;\n",
              "      --disabled-bg-color: #DDD;\n",
              "  }\n",
              "\n",
              "  [theme=dark] .colab-df-quickchart {\n",
              "      --bg-color: #3B4455;\n",
              "      --fill-color: #D2E3FC;\n",
              "      --hover-bg-color: #434B5C;\n",
              "      --hover-fill-color: #FFFFFF;\n",
              "      --disabled-bg-color: #3B4455;\n",
              "      --disabled-fill-color: #666;\n",
              "  }\n",
              "\n",
              "  .colab-df-quickchart {\n",
              "    background-color: var(--bg-color);\n",
              "    border: none;\n",
              "    border-radius: 50%;\n",
              "    cursor: pointer;\n",
              "    display: none;\n",
              "    fill: var(--fill-color);\n",
              "    height: 32px;\n",
              "    padding: 0;\n",
              "    width: 32px;\n",
              "  }\n",
              "\n",
              "  .colab-df-quickchart:hover {\n",
              "    background-color: var(--hover-bg-color);\n",
              "    box-shadow: 0 1px 2px rgba(60, 64, 67, 0.3), 0 1px 3px 1px rgba(60, 64, 67, 0.15);\n",
              "    fill: var(--button-hover-fill-color);\n",
              "  }\n",
              "\n",
              "  .colab-df-quickchart-complete:disabled,\n",
              "  .colab-df-quickchart-complete:disabled:hover {\n",
              "    background-color: var(--disabled-bg-color);\n",
              "    fill: var(--disabled-fill-color);\n",
              "    box-shadow: none;\n",
              "  }\n",
              "\n",
              "  .colab-df-spinner {\n",
              "    border: 2px solid var(--fill-color);\n",
              "    border-color: transparent;\n",
              "    border-bottom-color: var(--fill-color);\n",
              "    animation:\n",
              "      spin 1s steps(1) infinite;\n",
              "  }\n",
              "\n",
              "  @keyframes spin {\n",
              "    0% {\n",
              "      border-color: transparent;\n",
              "      border-bottom-color: var(--fill-color);\n",
              "      border-left-color: var(--fill-color);\n",
              "    }\n",
              "    20% {\n",
              "      border-color: transparent;\n",
              "      border-left-color: var(--fill-color);\n",
              "      border-top-color: var(--fill-color);\n",
              "    }\n",
              "    30% {\n",
              "      border-color: transparent;\n",
              "      border-left-color: var(--fill-color);\n",
              "      border-top-color: var(--fill-color);\n",
              "      border-right-color: var(--fill-color);\n",
              "    }\n",
              "    40% {\n",
              "      border-color: transparent;\n",
              "      border-right-color: var(--fill-color);\n",
              "      border-top-color: var(--fill-color);\n",
              "    }\n",
              "    60% {\n",
              "      border-color: transparent;\n",
              "      border-right-color: var(--fill-color);\n",
              "    }\n",
              "    80% {\n",
              "      border-color: transparent;\n",
              "      border-right-color: var(--fill-color);\n",
              "      border-bottom-color: var(--fill-color);\n",
              "    }\n",
              "    90% {\n",
              "      border-color: transparent;\n",
              "      border-bottom-color: var(--fill-color);\n",
              "    }\n",
              "  }\n",
              "</style>\n",
              "\n",
              "  <script>\n",
              "    async function quickchart(key) {\n",
              "      const quickchartButtonEl =\n",
              "        document.querySelector('#' + key + ' button');\n",
              "      quickchartButtonEl.disabled = true;  // To prevent multiple clicks.\n",
              "      quickchartButtonEl.classList.add('colab-df-spinner');\n",
              "      try {\n",
              "        const charts = await google.colab.kernel.invokeFunction(\n",
              "            'suggestCharts', [key], {});\n",
              "      } catch (error) {\n",
              "        console.error('Error during call to suggestCharts:', error);\n",
              "      }\n",
              "      quickchartButtonEl.classList.remove('colab-df-spinner');\n",
              "      quickchartButtonEl.classList.add('colab-df-quickchart-complete');\n",
              "    }\n",
              "    (() => {\n",
              "      let quickchartButtonEl =\n",
              "        document.querySelector('#df-fb83a119-ba2b-40e1-b32d-cbeb9d442a66 button');\n",
              "      quickchartButtonEl.style.display =\n",
              "        google.colab.kernel.accessAllowed ? 'block' : 'none';\n",
              "    })();\n",
              "  </script>\n",
              "</div>\n",
              "\n",
              "  <div id=\"id_a20c3e7a-0af7-4033-880a-9c4e9f65e759\">\n",
              "    <style>\n",
              "      .colab-df-generate {\n",
              "        background-color: #E8F0FE;\n",
              "        border: none;\n",
              "        border-radius: 50%;\n",
              "        cursor: pointer;\n",
              "        display: none;\n",
              "        fill: #1967D2;\n",
              "        height: 32px;\n",
              "        padding: 0 0 0 0;\n",
              "        width: 32px;\n",
              "      }\n",
              "\n",
              "      .colab-df-generate:hover {\n",
              "        background-color: #E2EBFA;\n",
              "        box-shadow: 0px 1px 2px rgba(60, 64, 67, 0.3), 0px 1px 3px 1px rgba(60, 64, 67, 0.15);\n",
              "        fill: #174EA6;\n",
              "      }\n",
              "\n",
              "      [theme=dark] .colab-df-generate {\n",
              "        background-color: #3B4455;\n",
              "        fill: #D2E3FC;\n",
              "      }\n",
              "\n",
              "      [theme=dark] .colab-df-generate:hover {\n",
              "        background-color: #434B5C;\n",
              "        box-shadow: 0px 1px 3px 1px rgba(0, 0, 0, 0.15);\n",
              "        filter: drop-shadow(0px 1px 2px rgba(0, 0, 0, 0.3));\n",
              "        fill: #FFFFFF;\n",
              "      }\n",
              "    </style>\n",
              "    <button class=\"colab-df-generate\" onclick=\"generateWithVariable('data_raw')\"\n",
              "            title=\"Generate code using this dataframe.\"\n",
              "            style=\"display:none;\">\n",
              "\n",
              "  <svg xmlns=\"http://www.w3.org/2000/svg\" height=\"24px\"viewBox=\"0 0 24 24\"\n",
              "       width=\"24px\">\n",
              "    <path d=\"M7,19H8.4L18.45,9,17,7.55,7,17.6ZM5,21V16.75L18.45,3.32a2,2,0,0,1,2.83,0l1.4,1.43a1.91,1.91,0,0,1,.58,1.4,1.91,1.91,0,0,1-.58,1.4L9.25,21ZM18.45,9,17,7.55Zm-12,3A5.31,5.31,0,0,0,4.9,8.1,5.31,5.31,0,0,0,1,6.5,5.31,5.31,0,0,0,4.9,4.9,5.31,5.31,0,0,0,6.5,1,5.31,5.31,0,0,0,8.1,4.9,5.31,5.31,0,0,0,12,6.5,5.46,5.46,0,0,0,6.5,12Z\"/>\n",
              "  </svg>\n",
              "    </button>\n",
              "    <script>\n",
              "      (() => {\n",
              "      const buttonEl =\n",
              "        document.querySelector('#id_a20c3e7a-0af7-4033-880a-9c4e9f65e759 button.colab-df-generate');\n",
              "      buttonEl.style.display =\n",
              "        google.colab.kernel.accessAllowed ? 'block' : 'none';\n",
              "\n",
              "      buttonEl.onclick = () => {\n",
              "        google.colab.notebook.generateWithVariable('data_raw');\n",
              "      }\n",
              "      })();\n",
              "    </script>\n",
              "  </div>\n",
              "\n",
              "    </div>\n",
              "  </div>\n"
            ],
            "application/vnd.google.colaboratory.intrinsic+json": {
              "type": "dataframe",
              "variable_name": "data_raw"
            }
          },
          "metadata": {},
          "execution_count": 226
        }
      ],
      "source": [
        "data_raw"
      ]
    },
    {
      "cell_type": "markdown",
      "metadata": {
        "id": "DvJwVB7qJ6YX"
      },
      "source": [
        "Typically, one would start by looking the first lines, using:"
      ]
    },
    {
      "cell_type": "code",
      "execution_count": 227,
      "metadata": {
        "colab": {
          "base_uri": "https://localhost:8080/",
          "height": 235
        },
        "id": "75gXc8cXJ5gY",
        "outputId": "5384c02c-4f5b-456c-db7b-10a71298e326"
      },
      "outputs": [
        {
          "output_type": "execute_result",
          "data": {
            "text/plain": [
              "   cu041  cu042  cu043  cu044  cu045  cu046  cu047  cu048  cu049  cu0410  ...  \\\n",
              "0      0      0      0      0      1      1      0      0      0       0  ...   \n",
              "1      0      0      0      0      0      0      0      0      0       1  ...   \n",
              "2      0      0      0      0      1      0      0      0      0       0  ...   \n",
              "3      0      0      0      0      1      0      1      0      0       0  ...   \n",
              "4      0      0      0      1      1      0      1      0      0       0  ...   \n",
              "\n",
              "   intten  cx_971_980  serial  week      wts  numage  weight0  sgrade_grp  \\\n",
              "0      -1     3.41659    1399   648  3.41659      37  3.41659           1   \n",
              "1      -1     2.68198    1733   648  2.68198      55  2.68198           2   \n",
              "2      -1     0.79379    1736   648  0.79379      71  0.79379           2   \n",
              "3      -1     1.40580    1737   648  1.40580      37  1.40580           1   \n",
              "4      -1     0.89475    1738   648  0.89475      42  0.89475           2   \n",
              "\n",
              "   age_grp  region2  \n",
              "0        4        3  \n",
              "1        6        3  \n",
              "2        7        4  \n",
              "3        4        4  \n",
              "4        4        4  \n",
              "\n",
              "[5 rows x 370 columns]"
            ],
            "text/html": [
              "\n",
              "  <div id=\"df-6197749b-bcf6-4ea4-b735-9ddab23929ac\" class=\"colab-df-container\">\n",
              "    <div>\n",
              "<style scoped>\n",
              "    .dataframe tbody tr th:only-of-type {\n",
              "        vertical-align: middle;\n",
              "    }\n",
              "\n",
              "    .dataframe tbody tr th {\n",
              "        vertical-align: top;\n",
              "    }\n",
              "\n",
              "    .dataframe thead th {\n",
              "        text-align: right;\n",
              "    }\n",
              "</style>\n",
              "<table border=\"1\" class=\"dataframe\">\n",
              "  <thead>\n",
              "    <tr style=\"text-align: right;\">\n",
              "      <th></th>\n",
              "      <th>cu041</th>\n",
              "      <th>cu042</th>\n",
              "      <th>cu043</th>\n",
              "      <th>cu044</th>\n",
              "      <th>cu045</th>\n",
              "      <th>cu046</th>\n",
              "      <th>cu047</th>\n",
              "      <th>cu048</th>\n",
              "      <th>cu049</th>\n",
              "      <th>cu0410</th>\n",
              "      <th>...</th>\n",
              "      <th>intten</th>\n",
              "      <th>cx_971_980</th>\n",
              "      <th>serial</th>\n",
              "      <th>week</th>\n",
              "      <th>wts</th>\n",
              "      <th>numage</th>\n",
              "      <th>weight0</th>\n",
              "      <th>sgrade_grp</th>\n",
              "      <th>age_grp</th>\n",
              "      <th>region2</th>\n",
              "    </tr>\n",
              "  </thead>\n",
              "  <tbody>\n",
              "    <tr>\n",
              "      <th>0</th>\n",
              "      <td>0</td>\n",
              "      <td>0</td>\n",
              "      <td>0</td>\n",
              "      <td>0</td>\n",
              "      <td>1</td>\n",
              "      <td>1</td>\n",
              "      <td>0</td>\n",
              "      <td>0</td>\n",
              "      <td>0</td>\n",
              "      <td>0</td>\n",
              "      <td>...</td>\n",
              "      <td>-1</td>\n",
              "      <td>3.41659</td>\n",
              "      <td>1399</td>\n",
              "      <td>648</td>\n",
              "      <td>3.41659</td>\n",
              "      <td>37</td>\n",
              "      <td>3.41659</td>\n",
              "      <td>1</td>\n",
              "      <td>4</td>\n",
              "      <td>3</td>\n",
              "    </tr>\n",
              "    <tr>\n",
              "      <th>1</th>\n",
              "      <td>0</td>\n",
              "      <td>0</td>\n",
              "      <td>0</td>\n",
              "      <td>0</td>\n",
              "      <td>0</td>\n",
              "      <td>0</td>\n",
              "      <td>0</td>\n",
              "      <td>0</td>\n",
              "      <td>0</td>\n",
              "      <td>1</td>\n",
              "      <td>...</td>\n",
              "      <td>-1</td>\n",
              "      <td>2.68198</td>\n",
              "      <td>1733</td>\n",
              "      <td>648</td>\n",
              "      <td>2.68198</td>\n",
              "      <td>55</td>\n",
              "      <td>2.68198</td>\n",
              "      <td>2</td>\n",
              "      <td>6</td>\n",
              "      <td>3</td>\n",
              "    </tr>\n",
              "    <tr>\n",
              "      <th>2</th>\n",
              "      <td>0</td>\n",
              "      <td>0</td>\n",
              "      <td>0</td>\n",
              "      <td>0</td>\n",
              "      <td>1</td>\n",
              "      <td>0</td>\n",
              "      <td>0</td>\n",
              "      <td>0</td>\n",
              "      <td>0</td>\n",
              "      <td>0</td>\n",
              "      <td>...</td>\n",
              "      <td>-1</td>\n",
              "      <td>0.79379</td>\n",
              "      <td>1736</td>\n",
              "      <td>648</td>\n",
              "      <td>0.79379</td>\n",
              "      <td>71</td>\n",
              "      <td>0.79379</td>\n",
              "      <td>2</td>\n",
              "      <td>7</td>\n",
              "      <td>4</td>\n",
              "    </tr>\n",
              "    <tr>\n",
              "      <th>3</th>\n",
              "      <td>0</td>\n",
              "      <td>0</td>\n",
              "      <td>0</td>\n",
              "      <td>0</td>\n",
              "      <td>1</td>\n",
              "      <td>0</td>\n",
              "      <td>1</td>\n",
              "      <td>0</td>\n",
              "      <td>0</td>\n",
              "      <td>0</td>\n",
              "      <td>...</td>\n",
              "      <td>-1</td>\n",
              "      <td>1.40580</td>\n",
              "      <td>1737</td>\n",
              "      <td>648</td>\n",
              "      <td>1.40580</td>\n",
              "      <td>37</td>\n",
              "      <td>1.40580</td>\n",
              "      <td>1</td>\n",
              "      <td>4</td>\n",
              "      <td>4</td>\n",
              "    </tr>\n",
              "    <tr>\n",
              "      <th>4</th>\n",
              "      <td>0</td>\n",
              "      <td>0</td>\n",
              "      <td>0</td>\n",
              "      <td>1</td>\n",
              "      <td>1</td>\n",
              "      <td>0</td>\n",
              "      <td>1</td>\n",
              "      <td>0</td>\n",
              "      <td>0</td>\n",
              "      <td>0</td>\n",
              "      <td>...</td>\n",
              "      <td>-1</td>\n",
              "      <td>0.89475</td>\n",
              "      <td>1738</td>\n",
              "      <td>648</td>\n",
              "      <td>0.89475</td>\n",
              "      <td>42</td>\n",
              "      <td>0.89475</td>\n",
              "      <td>2</td>\n",
              "      <td>4</td>\n",
              "      <td>4</td>\n",
              "    </tr>\n",
              "  </tbody>\n",
              "</table>\n",
              "<p>5 rows × 370 columns</p>\n",
              "</div>\n",
              "    <div class=\"colab-df-buttons\">\n",
              "\n",
              "  <div class=\"colab-df-container\">\n",
              "    <button class=\"colab-df-convert\" onclick=\"convertToInteractive('df-6197749b-bcf6-4ea4-b735-9ddab23929ac')\"\n",
              "            title=\"Convert this dataframe to an interactive table.\"\n",
              "            style=\"display:none;\">\n",
              "\n",
              "  <svg xmlns=\"http://www.w3.org/2000/svg\" height=\"24px\" viewBox=\"0 -960 960 960\">\n",
              "    <path d=\"M120-120v-720h720v720H120Zm60-500h600v-160H180v160Zm220 220h160v-160H400v160Zm0 220h160v-160H400v160ZM180-400h160v-160H180v160Zm440 0h160v-160H620v160ZM180-180h160v-160H180v160Zm440 0h160v-160H620v160Z\"/>\n",
              "  </svg>\n",
              "    </button>\n",
              "\n",
              "  <style>\n",
              "    .colab-df-container {\n",
              "      display:flex;\n",
              "      gap: 12px;\n",
              "    }\n",
              "\n",
              "    .colab-df-convert {\n",
              "      background-color: #E8F0FE;\n",
              "      border: none;\n",
              "      border-radius: 50%;\n",
              "      cursor: pointer;\n",
              "      display: none;\n",
              "      fill: #1967D2;\n",
              "      height: 32px;\n",
              "      padding: 0 0 0 0;\n",
              "      width: 32px;\n",
              "    }\n",
              "\n",
              "    .colab-df-convert:hover {\n",
              "      background-color: #E2EBFA;\n",
              "      box-shadow: 0px 1px 2px rgba(60, 64, 67, 0.3), 0px 1px 3px 1px rgba(60, 64, 67, 0.15);\n",
              "      fill: #174EA6;\n",
              "    }\n",
              "\n",
              "    .colab-df-buttons div {\n",
              "      margin-bottom: 4px;\n",
              "    }\n",
              "\n",
              "    [theme=dark] .colab-df-convert {\n",
              "      background-color: #3B4455;\n",
              "      fill: #D2E3FC;\n",
              "    }\n",
              "\n",
              "    [theme=dark] .colab-df-convert:hover {\n",
              "      background-color: #434B5C;\n",
              "      box-shadow: 0px 1px 3px 1px rgba(0, 0, 0, 0.15);\n",
              "      filter: drop-shadow(0px 1px 2px rgba(0, 0, 0, 0.3));\n",
              "      fill: #FFFFFF;\n",
              "    }\n",
              "  </style>\n",
              "\n",
              "    <script>\n",
              "      const buttonEl =\n",
              "        document.querySelector('#df-6197749b-bcf6-4ea4-b735-9ddab23929ac button.colab-df-convert');\n",
              "      buttonEl.style.display =\n",
              "        google.colab.kernel.accessAllowed ? 'block' : 'none';\n",
              "\n",
              "      async function convertToInteractive(key) {\n",
              "        const element = document.querySelector('#df-6197749b-bcf6-4ea4-b735-9ddab23929ac');\n",
              "        const dataTable =\n",
              "          await google.colab.kernel.invokeFunction('convertToInteractive',\n",
              "                                                    [key], {});\n",
              "        if (!dataTable) return;\n",
              "\n",
              "        const docLinkHtml = 'Like what you see? Visit the ' +\n",
              "          '<a target=\"_blank\" href=https://colab.research.google.com/notebooks/data_table.ipynb>data table notebook</a>'\n",
              "          + ' to learn more about interactive tables.';\n",
              "        element.innerHTML = '';\n",
              "        dataTable['output_type'] = 'display_data';\n",
              "        await google.colab.output.renderOutput(dataTable, element);\n",
              "        const docLink = document.createElement('div');\n",
              "        docLink.innerHTML = docLinkHtml;\n",
              "        element.appendChild(docLink);\n",
              "      }\n",
              "    </script>\n",
              "  </div>\n",
              "\n",
              "\n",
              "<div id=\"df-b2977ce3-baa8-4de8-a170-6651e5f165ee\">\n",
              "  <button class=\"colab-df-quickchart\" onclick=\"quickchart('df-b2977ce3-baa8-4de8-a170-6651e5f165ee')\"\n",
              "            title=\"Suggest charts\"\n",
              "            style=\"display:none;\">\n",
              "\n",
              "<svg xmlns=\"http://www.w3.org/2000/svg\" height=\"24px\"viewBox=\"0 0 24 24\"\n",
              "     width=\"24px\">\n",
              "    <g>\n",
              "        <path d=\"M19 3H5c-1.1 0-2 .9-2 2v14c0 1.1.9 2 2 2h14c1.1 0 2-.9 2-2V5c0-1.1-.9-2-2-2zM9 17H7v-7h2v7zm4 0h-2V7h2v10zm4 0h-2v-4h2v4z\"/>\n",
              "    </g>\n",
              "</svg>\n",
              "  </button>\n",
              "\n",
              "<style>\n",
              "  .colab-df-quickchart {\n",
              "      --bg-color: #E8F0FE;\n",
              "      --fill-color: #1967D2;\n",
              "      --hover-bg-color: #E2EBFA;\n",
              "      --hover-fill-color: #174EA6;\n",
              "      --disabled-fill-color: #AAA;\n",
              "      --disabled-bg-color: #DDD;\n",
              "  }\n",
              "\n",
              "  [theme=dark] .colab-df-quickchart {\n",
              "      --bg-color: #3B4455;\n",
              "      --fill-color: #D2E3FC;\n",
              "      --hover-bg-color: #434B5C;\n",
              "      --hover-fill-color: #FFFFFF;\n",
              "      --disabled-bg-color: #3B4455;\n",
              "      --disabled-fill-color: #666;\n",
              "  }\n",
              "\n",
              "  .colab-df-quickchart {\n",
              "    background-color: var(--bg-color);\n",
              "    border: none;\n",
              "    border-radius: 50%;\n",
              "    cursor: pointer;\n",
              "    display: none;\n",
              "    fill: var(--fill-color);\n",
              "    height: 32px;\n",
              "    padding: 0;\n",
              "    width: 32px;\n",
              "  }\n",
              "\n",
              "  .colab-df-quickchart:hover {\n",
              "    background-color: var(--hover-bg-color);\n",
              "    box-shadow: 0 1px 2px rgba(60, 64, 67, 0.3), 0 1px 3px 1px rgba(60, 64, 67, 0.15);\n",
              "    fill: var(--button-hover-fill-color);\n",
              "  }\n",
              "\n",
              "  .colab-df-quickchart-complete:disabled,\n",
              "  .colab-df-quickchart-complete:disabled:hover {\n",
              "    background-color: var(--disabled-bg-color);\n",
              "    fill: var(--disabled-fill-color);\n",
              "    box-shadow: none;\n",
              "  }\n",
              "\n",
              "  .colab-df-spinner {\n",
              "    border: 2px solid var(--fill-color);\n",
              "    border-color: transparent;\n",
              "    border-bottom-color: var(--fill-color);\n",
              "    animation:\n",
              "      spin 1s steps(1) infinite;\n",
              "  }\n",
              "\n",
              "  @keyframes spin {\n",
              "    0% {\n",
              "      border-color: transparent;\n",
              "      border-bottom-color: var(--fill-color);\n",
              "      border-left-color: var(--fill-color);\n",
              "    }\n",
              "    20% {\n",
              "      border-color: transparent;\n",
              "      border-left-color: var(--fill-color);\n",
              "      border-top-color: var(--fill-color);\n",
              "    }\n",
              "    30% {\n",
              "      border-color: transparent;\n",
              "      border-left-color: var(--fill-color);\n",
              "      border-top-color: var(--fill-color);\n",
              "      border-right-color: var(--fill-color);\n",
              "    }\n",
              "    40% {\n",
              "      border-color: transparent;\n",
              "      border-right-color: var(--fill-color);\n",
              "      border-top-color: var(--fill-color);\n",
              "    }\n",
              "    60% {\n",
              "      border-color: transparent;\n",
              "      border-right-color: var(--fill-color);\n",
              "    }\n",
              "    80% {\n",
              "      border-color: transparent;\n",
              "      border-right-color: var(--fill-color);\n",
              "      border-bottom-color: var(--fill-color);\n",
              "    }\n",
              "    90% {\n",
              "      border-color: transparent;\n",
              "      border-bottom-color: var(--fill-color);\n",
              "    }\n",
              "  }\n",
              "</style>\n",
              "\n",
              "  <script>\n",
              "    async function quickchart(key) {\n",
              "      const quickchartButtonEl =\n",
              "        document.querySelector('#' + key + ' button');\n",
              "      quickchartButtonEl.disabled = true;  // To prevent multiple clicks.\n",
              "      quickchartButtonEl.classList.add('colab-df-spinner');\n",
              "      try {\n",
              "        const charts = await google.colab.kernel.invokeFunction(\n",
              "            'suggestCharts', [key], {});\n",
              "      } catch (error) {\n",
              "        console.error('Error during call to suggestCharts:', error);\n",
              "      }\n",
              "      quickchartButtonEl.classList.remove('colab-df-spinner');\n",
              "      quickchartButtonEl.classList.add('colab-df-quickchart-complete');\n",
              "    }\n",
              "    (() => {\n",
              "      let quickchartButtonEl =\n",
              "        document.querySelector('#df-b2977ce3-baa8-4de8-a170-6651e5f165ee button');\n",
              "      quickchartButtonEl.style.display =\n",
              "        google.colab.kernel.accessAllowed ? 'block' : 'none';\n",
              "    })();\n",
              "  </script>\n",
              "</div>\n",
              "\n",
              "    </div>\n",
              "  </div>\n"
            ],
            "application/vnd.google.colaboratory.intrinsic+json": {
              "type": "dataframe",
              "variable_name": "data_raw"
            }
          },
          "metadata": {},
          "execution_count": 227
        }
      ],
      "source": [
        "data_raw.head()"
      ]
    },
    {
      "cell_type": "markdown",
      "metadata": {
        "id": "v5Ayjvy2K6pA"
      },
      "source": [
        "Another useful pandas tool is `describe`, that is used to generate descriptive statistics of the data in a Pandas DataFrame\n"
      ]
    },
    {
      "cell_type": "code",
      "execution_count": 228,
      "metadata": {
        "colab": {
          "base_uri": "https://localhost:8080/",
          "height": 349
        },
        "id": "ZtJqGq_0LBhX",
        "outputId": "867e62c5-b891-4261-b954-27aace16d661"
      },
      "outputs": [
        {
          "output_type": "execute_result",
          "data": {
            "text/plain": [
              "             cu041        cu042        cu043        cu044        cu045  \\\n",
              "count  1771.000000  1771.000000  1771.000000  1771.000000  1771.000000   \n",
              "mean      0.119706     0.038396     0.063241     0.122530     0.231508   \n",
              "std       0.324710     0.192206     0.243465     0.327989     0.421915   \n",
              "min       0.000000     0.000000     0.000000     0.000000     0.000000   \n",
              "25%       0.000000     0.000000     0.000000     0.000000     0.000000   \n",
              "50%       0.000000     0.000000     0.000000     0.000000     0.000000   \n",
              "75%       0.000000     0.000000     0.000000     0.000000     0.000000   \n",
              "max       1.000000     1.000000     1.000000     1.000000     1.000000   \n",
              "\n",
              "             cu046        cu047        cu048        cu049       cu0410  ...  \\\n",
              "count  1771.000000  1771.000000  1771.000000  1771.000000  1771.000000  ...   \n",
              "mean      0.189723     0.104461     0.040090     0.058159     0.041784  ...   \n",
              "std       0.392193     0.305944     0.196227     0.234110     0.200152  ...   \n",
              "min       0.000000     0.000000     0.000000     0.000000     0.000000  ...   \n",
              "25%       0.000000     0.000000     0.000000     0.000000     0.000000  ...   \n",
              "50%       0.000000     0.000000     0.000000     0.000000     0.000000  ...   \n",
              "75%       0.000000     0.000000     0.000000     0.000000     0.000000  ...   \n",
              "max       1.000000     1.000000     1.000000     1.000000     1.000000  ...   \n",
              "\n",
              "            intten   cx_971_980       serial         week          wts  \\\n",
              "count  1771.000000  1771.000000  1771.000000  1771.000000  1771.000000   \n",
              "mean      1.102767     1.000000  2591.394692   648.252964     1.000000   \n",
              "std       3.969324     0.772496   576.149480     0.434834     0.772496   \n",
              "min      -1.000000     0.068530  1012.000000   648.000000     0.068530   \n",
              "25%      -1.000000     0.483895  2183.000000   648.000000     0.483895   \n",
              "50%      -1.000000     0.801870  2624.000000   648.000000     0.801870   \n",
              "75%      -1.000000     1.279665  3067.500000   649.000000     1.279665   \n",
              "max      10.000000     6.669790  3495.000000   649.000000     6.669790   \n",
              "\n",
              "            numage      weight0   sgrade_grp      age_grp      region2  \n",
              "count  1771.000000  1771.000000  1771.000000  1771.000000  1771.000000  \n",
              "mean     46.421231     1.000000     2.429701     4.670243     4.006211  \n",
              "std      18.625718     0.772496     1.101616     1.848105     1.626568  \n",
              "min       0.000000     0.068530     1.000000     1.000000     1.000000  \n",
              "25%      31.000000     0.483895     2.000000     3.000000     3.000000  \n",
              "50%      45.000000     0.801870     2.000000     5.000000     4.000000  \n",
              "75%      61.500000     1.279665     3.000000     6.000000     5.000000  \n",
              "max      92.000000     6.669790     4.000000     8.000000     6.000000  \n",
              "\n",
              "[8 rows x 370 columns]"
            ],
            "text/html": [
              "\n",
              "  <div id=\"df-564d37a8-759b-48a4-9ee3-f7f27988fde6\" class=\"colab-df-container\">\n",
              "    <div>\n",
              "<style scoped>\n",
              "    .dataframe tbody tr th:only-of-type {\n",
              "        vertical-align: middle;\n",
              "    }\n",
              "\n",
              "    .dataframe tbody tr th {\n",
              "        vertical-align: top;\n",
              "    }\n",
              "\n",
              "    .dataframe thead th {\n",
              "        text-align: right;\n",
              "    }\n",
              "</style>\n",
              "<table border=\"1\" class=\"dataframe\">\n",
              "  <thead>\n",
              "    <tr style=\"text-align: right;\">\n",
              "      <th></th>\n",
              "      <th>cu041</th>\n",
              "      <th>cu042</th>\n",
              "      <th>cu043</th>\n",
              "      <th>cu044</th>\n",
              "      <th>cu045</th>\n",
              "      <th>cu046</th>\n",
              "      <th>cu047</th>\n",
              "      <th>cu048</th>\n",
              "      <th>cu049</th>\n",
              "      <th>cu0410</th>\n",
              "      <th>...</th>\n",
              "      <th>intten</th>\n",
              "      <th>cx_971_980</th>\n",
              "      <th>serial</th>\n",
              "      <th>week</th>\n",
              "      <th>wts</th>\n",
              "      <th>numage</th>\n",
              "      <th>weight0</th>\n",
              "      <th>sgrade_grp</th>\n",
              "      <th>age_grp</th>\n",
              "      <th>region2</th>\n",
              "    </tr>\n",
              "  </thead>\n",
              "  <tbody>\n",
              "    <tr>\n",
              "      <th>count</th>\n",
              "      <td>1771.000000</td>\n",
              "      <td>1771.000000</td>\n",
              "      <td>1771.000000</td>\n",
              "      <td>1771.000000</td>\n",
              "      <td>1771.000000</td>\n",
              "      <td>1771.000000</td>\n",
              "      <td>1771.000000</td>\n",
              "      <td>1771.000000</td>\n",
              "      <td>1771.000000</td>\n",
              "      <td>1771.000000</td>\n",
              "      <td>...</td>\n",
              "      <td>1771.000000</td>\n",
              "      <td>1771.000000</td>\n",
              "      <td>1771.000000</td>\n",
              "      <td>1771.000000</td>\n",
              "      <td>1771.000000</td>\n",
              "      <td>1771.000000</td>\n",
              "      <td>1771.000000</td>\n",
              "      <td>1771.000000</td>\n",
              "      <td>1771.000000</td>\n",
              "      <td>1771.000000</td>\n",
              "    </tr>\n",
              "    <tr>\n",
              "      <th>mean</th>\n",
              "      <td>0.119706</td>\n",
              "      <td>0.038396</td>\n",
              "      <td>0.063241</td>\n",
              "      <td>0.122530</td>\n",
              "      <td>0.231508</td>\n",
              "      <td>0.189723</td>\n",
              "      <td>0.104461</td>\n",
              "      <td>0.040090</td>\n",
              "      <td>0.058159</td>\n",
              "      <td>0.041784</td>\n",
              "      <td>...</td>\n",
              "      <td>1.102767</td>\n",
              "      <td>1.000000</td>\n",
              "      <td>2591.394692</td>\n",
              "      <td>648.252964</td>\n",
              "      <td>1.000000</td>\n",
              "      <td>46.421231</td>\n",
              "      <td>1.000000</td>\n",
              "      <td>2.429701</td>\n",
              "      <td>4.670243</td>\n",
              "      <td>4.006211</td>\n",
              "    </tr>\n",
              "    <tr>\n",
              "      <th>std</th>\n",
              "      <td>0.324710</td>\n",
              "      <td>0.192206</td>\n",
              "      <td>0.243465</td>\n",
              "      <td>0.327989</td>\n",
              "      <td>0.421915</td>\n",
              "      <td>0.392193</td>\n",
              "      <td>0.305944</td>\n",
              "      <td>0.196227</td>\n",
              "      <td>0.234110</td>\n",
              "      <td>0.200152</td>\n",
              "      <td>...</td>\n",
              "      <td>3.969324</td>\n",
              "      <td>0.772496</td>\n",
              "      <td>576.149480</td>\n",
              "      <td>0.434834</td>\n",
              "      <td>0.772496</td>\n",
              "      <td>18.625718</td>\n",
              "      <td>0.772496</td>\n",
              "      <td>1.101616</td>\n",
              "      <td>1.848105</td>\n",
              "      <td>1.626568</td>\n",
              "    </tr>\n",
              "    <tr>\n",
              "      <th>min</th>\n",
              "      <td>0.000000</td>\n",
              "      <td>0.000000</td>\n",
              "      <td>0.000000</td>\n",
              "      <td>0.000000</td>\n",
              "      <td>0.000000</td>\n",
              "      <td>0.000000</td>\n",
              "      <td>0.000000</td>\n",
              "      <td>0.000000</td>\n",
              "      <td>0.000000</td>\n",
              "      <td>0.000000</td>\n",
              "      <td>...</td>\n",
              "      <td>-1.000000</td>\n",
              "      <td>0.068530</td>\n",
              "      <td>1012.000000</td>\n",
              "      <td>648.000000</td>\n",
              "      <td>0.068530</td>\n",
              "      <td>0.000000</td>\n",
              "      <td>0.068530</td>\n",
              "      <td>1.000000</td>\n",
              "      <td>1.000000</td>\n",
              "      <td>1.000000</td>\n",
              "    </tr>\n",
              "    <tr>\n",
              "      <th>25%</th>\n",
              "      <td>0.000000</td>\n",
              "      <td>0.000000</td>\n",
              "      <td>0.000000</td>\n",
              "      <td>0.000000</td>\n",
              "      <td>0.000000</td>\n",
              "      <td>0.000000</td>\n",
              "      <td>0.000000</td>\n",
              "      <td>0.000000</td>\n",
              "      <td>0.000000</td>\n",
              "      <td>0.000000</td>\n",
              "      <td>...</td>\n",
              "      <td>-1.000000</td>\n",
              "      <td>0.483895</td>\n",
              "      <td>2183.000000</td>\n",
              "      <td>648.000000</td>\n",
              "      <td>0.483895</td>\n",
              "      <td>31.000000</td>\n",
              "      <td>0.483895</td>\n",
              "      <td>2.000000</td>\n",
              "      <td>3.000000</td>\n",
              "      <td>3.000000</td>\n",
              "    </tr>\n",
              "    <tr>\n",
              "      <th>50%</th>\n",
              "      <td>0.000000</td>\n",
              "      <td>0.000000</td>\n",
              "      <td>0.000000</td>\n",
              "      <td>0.000000</td>\n",
              "      <td>0.000000</td>\n",
              "      <td>0.000000</td>\n",
              "      <td>0.000000</td>\n",
              "      <td>0.000000</td>\n",
              "      <td>0.000000</td>\n",
              "      <td>0.000000</td>\n",
              "      <td>...</td>\n",
              "      <td>-1.000000</td>\n",
              "      <td>0.801870</td>\n",
              "      <td>2624.000000</td>\n",
              "      <td>648.000000</td>\n",
              "      <td>0.801870</td>\n",
              "      <td>45.000000</td>\n",
              "      <td>0.801870</td>\n",
              "      <td>2.000000</td>\n",
              "      <td>5.000000</td>\n",
              "      <td>4.000000</td>\n",
              "    </tr>\n",
              "    <tr>\n",
              "      <th>75%</th>\n",
              "      <td>0.000000</td>\n",
              "      <td>0.000000</td>\n",
              "      <td>0.000000</td>\n",
              "      <td>0.000000</td>\n",
              "      <td>0.000000</td>\n",
              "      <td>0.000000</td>\n",
              "      <td>0.000000</td>\n",
              "      <td>0.000000</td>\n",
              "      <td>0.000000</td>\n",
              "      <td>0.000000</td>\n",
              "      <td>...</td>\n",
              "      <td>-1.000000</td>\n",
              "      <td>1.279665</td>\n",
              "      <td>3067.500000</td>\n",
              "      <td>649.000000</td>\n",
              "      <td>1.279665</td>\n",
              "      <td>61.500000</td>\n",
              "      <td>1.279665</td>\n",
              "      <td>3.000000</td>\n",
              "      <td>6.000000</td>\n",
              "      <td>5.000000</td>\n",
              "    </tr>\n",
              "    <tr>\n",
              "      <th>max</th>\n",
              "      <td>1.000000</td>\n",
              "      <td>1.000000</td>\n",
              "      <td>1.000000</td>\n",
              "      <td>1.000000</td>\n",
              "      <td>1.000000</td>\n",
              "      <td>1.000000</td>\n",
              "      <td>1.000000</td>\n",
              "      <td>1.000000</td>\n",
              "      <td>1.000000</td>\n",
              "      <td>1.000000</td>\n",
              "      <td>...</td>\n",
              "      <td>10.000000</td>\n",
              "      <td>6.669790</td>\n",
              "      <td>3495.000000</td>\n",
              "      <td>649.000000</td>\n",
              "      <td>6.669790</td>\n",
              "      <td>92.000000</td>\n",
              "      <td>6.669790</td>\n",
              "      <td>4.000000</td>\n",
              "      <td>8.000000</td>\n",
              "      <td>6.000000</td>\n",
              "    </tr>\n",
              "  </tbody>\n",
              "</table>\n",
              "<p>8 rows × 370 columns</p>\n",
              "</div>\n",
              "    <div class=\"colab-df-buttons\">\n",
              "\n",
              "  <div class=\"colab-df-container\">\n",
              "    <button class=\"colab-df-convert\" onclick=\"convertToInteractive('df-564d37a8-759b-48a4-9ee3-f7f27988fde6')\"\n",
              "            title=\"Convert this dataframe to an interactive table.\"\n",
              "            style=\"display:none;\">\n",
              "\n",
              "  <svg xmlns=\"http://www.w3.org/2000/svg\" height=\"24px\" viewBox=\"0 -960 960 960\">\n",
              "    <path d=\"M120-120v-720h720v720H120Zm60-500h600v-160H180v160Zm220 220h160v-160H400v160Zm0 220h160v-160H400v160ZM180-400h160v-160H180v160Zm440 0h160v-160H620v160ZM180-180h160v-160H180v160Zm440 0h160v-160H620v160Z\"/>\n",
              "  </svg>\n",
              "    </button>\n",
              "\n",
              "  <style>\n",
              "    .colab-df-container {\n",
              "      display:flex;\n",
              "      gap: 12px;\n",
              "    }\n",
              "\n",
              "    .colab-df-convert {\n",
              "      background-color: #E8F0FE;\n",
              "      border: none;\n",
              "      border-radius: 50%;\n",
              "      cursor: pointer;\n",
              "      display: none;\n",
              "      fill: #1967D2;\n",
              "      height: 32px;\n",
              "      padding: 0 0 0 0;\n",
              "      width: 32px;\n",
              "    }\n",
              "\n",
              "    .colab-df-convert:hover {\n",
              "      background-color: #E2EBFA;\n",
              "      box-shadow: 0px 1px 2px rgba(60, 64, 67, 0.3), 0px 1px 3px 1px rgba(60, 64, 67, 0.15);\n",
              "      fill: #174EA6;\n",
              "    }\n",
              "\n",
              "    .colab-df-buttons div {\n",
              "      margin-bottom: 4px;\n",
              "    }\n",
              "\n",
              "    [theme=dark] .colab-df-convert {\n",
              "      background-color: #3B4455;\n",
              "      fill: #D2E3FC;\n",
              "    }\n",
              "\n",
              "    [theme=dark] .colab-df-convert:hover {\n",
              "      background-color: #434B5C;\n",
              "      box-shadow: 0px 1px 3px 1px rgba(0, 0, 0, 0.15);\n",
              "      filter: drop-shadow(0px 1px 2px rgba(0, 0, 0, 0.3));\n",
              "      fill: #FFFFFF;\n",
              "    }\n",
              "  </style>\n",
              "\n",
              "    <script>\n",
              "      const buttonEl =\n",
              "        document.querySelector('#df-564d37a8-759b-48a4-9ee3-f7f27988fde6 button.colab-df-convert');\n",
              "      buttonEl.style.display =\n",
              "        google.colab.kernel.accessAllowed ? 'block' : 'none';\n",
              "\n",
              "      async function convertToInteractive(key) {\n",
              "        const element = document.querySelector('#df-564d37a8-759b-48a4-9ee3-f7f27988fde6');\n",
              "        const dataTable =\n",
              "          await google.colab.kernel.invokeFunction('convertToInteractive',\n",
              "                                                    [key], {});\n",
              "        if (!dataTable) return;\n",
              "\n",
              "        const docLinkHtml = 'Like what you see? Visit the ' +\n",
              "          '<a target=\"_blank\" href=https://colab.research.google.com/notebooks/data_table.ipynb>data table notebook</a>'\n",
              "          + ' to learn more about interactive tables.';\n",
              "        element.innerHTML = '';\n",
              "        dataTable['output_type'] = 'display_data';\n",
              "        await google.colab.output.renderOutput(dataTable, element);\n",
              "        const docLink = document.createElement('div');\n",
              "        docLink.innerHTML = docLinkHtml;\n",
              "        element.appendChild(docLink);\n",
              "      }\n",
              "    </script>\n",
              "  </div>\n",
              "\n",
              "\n",
              "<div id=\"df-0fe9c52c-f495-4d32-b790-b53a4e20e398\">\n",
              "  <button class=\"colab-df-quickchart\" onclick=\"quickchart('df-0fe9c52c-f495-4d32-b790-b53a4e20e398')\"\n",
              "            title=\"Suggest charts\"\n",
              "            style=\"display:none;\">\n",
              "\n",
              "<svg xmlns=\"http://www.w3.org/2000/svg\" height=\"24px\"viewBox=\"0 0 24 24\"\n",
              "     width=\"24px\">\n",
              "    <g>\n",
              "        <path d=\"M19 3H5c-1.1 0-2 .9-2 2v14c0 1.1.9 2 2 2h14c1.1 0 2-.9 2-2V5c0-1.1-.9-2-2-2zM9 17H7v-7h2v7zm4 0h-2V7h2v10zm4 0h-2v-4h2v4z\"/>\n",
              "    </g>\n",
              "</svg>\n",
              "  </button>\n",
              "\n",
              "<style>\n",
              "  .colab-df-quickchart {\n",
              "      --bg-color: #E8F0FE;\n",
              "      --fill-color: #1967D2;\n",
              "      --hover-bg-color: #E2EBFA;\n",
              "      --hover-fill-color: #174EA6;\n",
              "      --disabled-fill-color: #AAA;\n",
              "      --disabled-bg-color: #DDD;\n",
              "  }\n",
              "\n",
              "  [theme=dark] .colab-df-quickchart {\n",
              "      --bg-color: #3B4455;\n",
              "      --fill-color: #D2E3FC;\n",
              "      --hover-bg-color: #434B5C;\n",
              "      --hover-fill-color: #FFFFFF;\n",
              "      --disabled-bg-color: #3B4455;\n",
              "      --disabled-fill-color: #666;\n",
              "  }\n",
              "\n",
              "  .colab-df-quickchart {\n",
              "    background-color: var(--bg-color);\n",
              "    border: none;\n",
              "    border-radius: 50%;\n",
              "    cursor: pointer;\n",
              "    display: none;\n",
              "    fill: var(--fill-color);\n",
              "    height: 32px;\n",
              "    padding: 0;\n",
              "    width: 32px;\n",
              "  }\n",
              "\n",
              "  .colab-df-quickchart:hover {\n",
              "    background-color: var(--hover-bg-color);\n",
              "    box-shadow: 0 1px 2px rgba(60, 64, 67, 0.3), 0 1px 3px 1px rgba(60, 64, 67, 0.15);\n",
              "    fill: var(--button-hover-fill-color);\n",
              "  }\n",
              "\n",
              "  .colab-df-quickchart-complete:disabled,\n",
              "  .colab-df-quickchart-complete:disabled:hover {\n",
              "    background-color: var(--disabled-bg-color);\n",
              "    fill: var(--disabled-fill-color);\n",
              "    box-shadow: none;\n",
              "  }\n",
              "\n",
              "  .colab-df-spinner {\n",
              "    border: 2px solid var(--fill-color);\n",
              "    border-color: transparent;\n",
              "    border-bottom-color: var(--fill-color);\n",
              "    animation:\n",
              "      spin 1s steps(1) infinite;\n",
              "  }\n",
              "\n",
              "  @keyframes spin {\n",
              "    0% {\n",
              "      border-color: transparent;\n",
              "      border-bottom-color: var(--fill-color);\n",
              "      border-left-color: var(--fill-color);\n",
              "    }\n",
              "    20% {\n",
              "      border-color: transparent;\n",
              "      border-left-color: var(--fill-color);\n",
              "      border-top-color: var(--fill-color);\n",
              "    }\n",
              "    30% {\n",
              "      border-color: transparent;\n",
              "      border-left-color: var(--fill-color);\n",
              "      border-top-color: var(--fill-color);\n",
              "      border-right-color: var(--fill-color);\n",
              "    }\n",
              "    40% {\n",
              "      border-color: transparent;\n",
              "      border-right-color: var(--fill-color);\n",
              "      border-top-color: var(--fill-color);\n",
              "    }\n",
              "    60% {\n",
              "      border-color: transparent;\n",
              "      border-right-color: var(--fill-color);\n",
              "    }\n",
              "    80% {\n",
              "      border-color: transparent;\n",
              "      border-right-color: var(--fill-color);\n",
              "      border-bottom-color: var(--fill-color);\n",
              "    }\n",
              "    90% {\n",
              "      border-color: transparent;\n",
              "      border-bottom-color: var(--fill-color);\n",
              "    }\n",
              "  }\n",
              "</style>\n",
              "\n",
              "  <script>\n",
              "    async function quickchart(key) {\n",
              "      const quickchartButtonEl =\n",
              "        document.querySelector('#' + key + ' button');\n",
              "      quickchartButtonEl.disabled = true;  // To prevent multiple clicks.\n",
              "      quickchartButtonEl.classList.add('colab-df-spinner');\n",
              "      try {\n",
              "        const charts = await google.colab.kernel.invokeFunction(\n",
              "            'suggestCharts', [key], {});\n",
              "      } catch (error) {\n",
              "        console.error('Error during call to suggestCharts:', error);\n",
              "      }\n",
              "      quickchartButtonEl.classList.remove('colab-df-spinner');\n",
              "      quickchartButtonEl.classList.add('colab-df-quickchart-complete');\n",
              "    }\n",
              "    (() => {\n",
              "      let quickchartButtonEl =\n",
              "        document.querySelector('#df-0fe9c52c-f495-4d32-b790-b53a4e20e398 button');\n",
              "      quickchartButtonEl.style.display =\n",
              "        google.colab.kernel.accessAllowed ? 'block' : 'none';\n",
              "    })();\n",
              "  </script>\n",
              "</div>\n",
              "\n",
              "    </div>\n",
              "  </div>\n"
            ],
            "application/vnd.google.colaboratory.intrinsic+json": {
              "type": "dataframe"
            }
          },
          "metadata": {},
          "execution_count": 228
        }
      ],
      "source": [
        "data_raw.describe()"
      ]
    },
    {
      "cell_type": "markdown",
      "metadata": {
        "id": "L4LMkig3kZtm"
      },
      "source": [
        "In these dats, the different columns correspond to different $\\textbf{features}$, many of these are useless for our goals since we are interested just in the age of the person and how she/he voted. The line corresponds to all the people that were interviewed.  The code for this two features are respectively \"cut15\" and \"numage\", let's focus on them and change the nomenclature for having a new nice-looking dataframe.\n",
        "\n",
        "\n"
      ]
    },
    {
      "cell_type": "code",
      "execution_count": 229,
      "metadata": {
        "id": "o9I1QluQkZtn"
      },
      "outputs": [],
      "source": [
        "# Feature selection\n",
        "data = data_raw[['numage', 'cut15']]\n",
        "# Rename columns\n",
        "data.columns = ['age', 'vote']"
      ]
    },
    {
      "cell_type": "markdown",
      "metadata": {
        "id": "n26gKwuLkZtn"
      },
      "source": [
        "The possible answer to the question - How did you vote on the question ‘Should the United Kingdom remain a member of the European Union or leave the European Union’?” - are encoded through $\\textbf{labels}$, i.e. a number going from 1 to 6 encoding what was the answer:"
      ]
    },
    {
      "cell_type": "markdown",
      "metadata": {
        "id": "vSRmeu_iSc8G"
      },
      "source": [
        "Value = 1.0 $\\qquad$ Label = Remain a member of the European Union\n",
        "\n",
        "Value = 2.0 $\\qquad$   Label = Leave the European Union\n",
        "\n",
        "Value = 3.0 $\\qquad$   Label = Did not vote\n",
        "\n",
        "Value = 4.0 $\\qquad$   Label = Too young\n",
        "\n",
        "Value = 5.0 $\\qquad$   Label = Can't remember\n",
        "\n",
        "Value = 6.0 $\\qquad$   Label = Refused"
      ]
    },
    {
      "cell_type": "code",
      "execution_count": 230,
      "metadata": {
        "colab": {
          "base_uri": "https://localhost:8080/",
          "height": 206
        },
        "id": "MsliY_b6kZto",
        "outputId": "a4fad7e8-b03e-41cc-f677-3b10394c8903",
        "scrolled": true
      },
      "outputs": [
        {
          "output_type": "execute_result",
          "data": {
            "text/plain": [
              "   age  vote\n",
              "0   37     1\n",
              "1   55     1\n",
              "2   71     2\n",
              "3   37     1\n",
              "4   42     1"
            ],
            "text/html": [
              "\n",
              "  <div id=\"df-bb6c64ae-9b53-45d1-bd59-828b38227784\" class=\"colab-df-container\">\n",
              "    <div>\n",
              "<style scoped>\n",
              "    .dataframe tbody tr th:only-of-type {\n",
              "        vertical-align: middle;\n",
              "    }\n",
              "\n",
              "    .dataframe tbody tr th {\n",
              "        vertical-align: top;\n",
              "    }\n",
              "\n",
              "    .dataframe thead th {\n",
              "        text-align: right;\n",
              "    }\n",
              "</style>\n",
              "<table border=\"1\" class=\"dataframe\">\n",
              "  <thead>\n",
              "    <tr style=\"text-align: right;\">\n",
              "      <th></th>\n",
              "      <th>age</th>\n",
              "      <th>vote</th>\n",
              "    </tr>\n",
              "  </thead>\n",
              "  <tbody>\n",
              "    <tr>\n",
              "      <th>0</th>\n",
              "      <td>37</td>\n",
              "      <td>1</td>\n",
              "    </tr>\n",
              "    <tr>\n",
              "      <th>1</th>\n",
              "      <td>55</td>\n",
              "      <td>1</td>\n",
              "    </tr>\n",
              "    <tr>\n",
              "      <th>2</th>\n",
              "      <td>71</td>\n",
              "      <td>2</td>\n",
              "    </tr>\n",
              "    <tr>\n",
              "      <th>3</th>\n",
              "      <td>37</td>\n",
              "      <td>1</td>\n",
              "    </tr>\n",
              "    <tr>\n",
              "      <th>4</th>\n",
              "      <td>42</td>\n",
              "      <td>1</td>\n",
              "    </tr>\n",
              "  </tbody>\n",
              "</table>\n",
              "</div>\n",
              "    <div class=\"colab-df-buttons\">\n",
              "\n",
              "  <div class=\"colab-df-container\">\n",
              "    <button class=\"colab-df-convert\" onclick=\"convertToInteractive('df-bb6c64ae-9b53-45d1-bd59-828b38227784')\"\n",
              "            title=\"Convert this dataframe to an interactive table.\"\n",
              "            style=\"display:none;\">\n",
              "\n",
              "  <svg xmlns=\"http://www.w3.org/2000/svg\" height=\"24px\" viewBox=\"0 -960 960 960\">\n",
              "    <path d=\"M120-120v-720h720v720H120Zm60-500h600v-160H180v160Zm220 220h160v-160H400v160Zm0 220h160v-160H400v160ZM180-400h160v-160H180v160Zm440 0h160v-160H620v160ZM180-180h160v-160H180v160Zm440 0h160v-160H620v160Z\"/>\n",
              "  </svg>\n",
              "    </button>\n",
              "\n",
              "  <style>\n",
              "    .colab-df-container {\n",
              "      display:flex;\n",
              "      gap: 12px;\n",
              "    }\n",
              "\n",
              "    .colab-df-convert {\n",
              "      background-color: #E8F0FE;\n",
              "      border: none;\n",
              "      border-radius: 50%;\n",
              "      cursor: pointer;\n",
              "      display: none;\n",
              "      fill: #1967D2;\n",
              "      height: 32px;\n",
              "      padding: 0 0 0 0;\n",
              "      width: 32px;\n",
              "    }\n",
              "\n",
              "    .colab-df-convert:hover {\n",
              "      background-color: #E2EBFA;\n",
              "      box-shadow: 0px 1px 2px rgba(60, 64, 67, 0.3), 0px 1px 3px 1px rgba(60, 64, 67, 0.15);\n",
              "      fill: #174EA6;\n",
              "    }\n",
              "\n",
              "    .colab-df-buttons div {\n",
              "      margin-bottom: 4px;\n",
              "    }\n",
              "\n",
              "    [theme=dark] .colab-df-convert {\n",
              "      background-color: #3B4455;\n",
              "      fill: #D2E3FC;\n",
              "    }\n",
              "\n",
              "    [theme=dark] .colab-df-convert:hover {\n",
              "      background-color: #434B5C;\n",
              "      box-shadow: 0px 1px 3px 1px rgba(0, 0, 0, 0.15);\n",
              "      filter: drop-shadow(0px 1px 2px rgba(0, 0, 0, 0.3));\n",
              "      fill: #FFFFFF;\n",
              "    }\n",
              "  </style>\n",
              "\n",
              "    <script>\n",
              "      const buttonEl =\n",
              "        document.querySelector('#df-bb6c64ae-9b53-45d1-bd59-828b38227784 button.colab-df-convert');\n",
              "      buttonEl.style.display =\n",
              "        google.colab.kernel.accessAllowed ? 'block' : 'none';\n",
              "\n",
              "      async function convertToInteractive(key) {\n",
              "        const element = document.querySelector('#df-bb6c64ae-9b53-45d1-bd59-828b38227784');\n",
              "        const dataTable =\n",
              "          await google.colab.kernel.invokeFunction('convertToInteractive',\n",
              "                                                    [key], {});\n",
              "        if (!dataTable) return;\n",
              "\n",
              "        const docLinkHtml = 'Like what you see? Visit the ' +\n",
              "          '<a target=\"_blank\" href=https://colab.research.google.com/notebooks/data_table.ipynb>data table notebook</a>'\n",
              "          + ' to learn more about interactive tables.';\n",
              "        element.innerHTML = '';\n",
              "        dataTable['output_type'] = 'display_data';\n",
              "        await google.colab.output.renderOutput(dataTable, element);\n",
              "        const docLink = document.createElement('div');\n",
              "        docLink.innerHTML = docLinkHtml;\n",
              "        element.appendChild(docLink);\n",
              "      }\n",
              "    </script>\n",
              "  </div>\n",
              "\n",
              "\n",
              "<div id=\"df-26704a80-8fc3-404b-bf5f-9877f0831af6\">\n",
              "  <button class=\"colab-df-quickchart\" onclick=\"quickchart('df-26704a80-8fc3-404b-bf5f-9877f0831af6')\"\n",
              "            title=\"Suggest charts\"\n",
              "            style=\"display:none;\">\n",
              "\n",
              "<svg xmlns=\"http://www.w3.org/2000/svg\" height=\"24px\"viewBox=\"0 0 24 24\"\n",
              "     width=\"24px\">\n",
              "    <g>\n",
              "        <path d=\"M19 3H5c-1.1 0-2 .9-2 2v14c0 1.1.9 2 2 2h14c1.1 0 2-.9 2-2V5c0-1.1-.9-2-2-2zM9 17H7v-7h2v7zm4 0h-2V7h2v10zm4 0h-2v-4h2v4z\"/>\n",
              "    </g>\n",
              "</svg>\n",
              "  </button>\n",
              "\n",
              "<style>\n",
              "  .colab-df-quickchart {\n",
              "      --bg-color: #E8F0FE;\n",
              "      --fill-color: #1967D2;\n",
              "      --hover-bg-color: #E2EBFA;\n",
              "      --hover-fill-color: #174EA6;\n",
              "      --disabled-fill-color: #AAA;\n",
              "      --disabled-bg-color: #DDD;\n",
              "  }\n",
              "\n",
              "  [theme=dark] .colab-df-quickchart {\n",
              "      --bg-color: #3B4455;\n",
              "      --fill-color: #D2E3FC;\n",
              "      --hover-bg-color: #434B5C;\n",
              "      --hover-fill-color: #FFFFFF;\n",
              "      --disabled-bg-color: #3B4455;\n",
              "      --disabled-fill-color: #666;\n",
              "  }\n",
              "\n",
              "  .colab-df-quickchart {\n",
              "    background-color: var(--bg-color);\n",
              "    border: none;\n",
              "    border-radius: 50%;\n",
              "    cursor: pointer;\n",
              "    display: none;\n",
              "    fill: var(--fill-color);\n",
              "    height: 32px;\n",
              "    padding: 0;\n",
              "    width: 32px;\n",
              "  }\n",
              "\n",
              "  .colab-df-quickchart:hover {\n",
              "    background-color: var(--hover-bg-color);\n",
              "    box-shadow: 0 1px 2px rgba(60, 64, 67, 0.3), 0 1px 3px 1px rgba(60, 64, 67, 0.15);\n",
              "    fill: var(--button-hover-fill-color);\n",
              "  }\n",
              "\n",
              "  .colab-df-quickchart-complete:disabled,\n",
              "  .colab-df-quickchart-complete:disabled:hover {\n",
              "    background-color: var(--disabled-bg-color);\n",
              "    fill: var(--disabled-fill-color);\n",
              "    box-shadow: none;\n",
              "  }\n",
              "\n",
              "  .colab-df-spinner {\n",
              "    border: 2px solid var(--fill-color);\n",
              "    border-color: transparent;\n",
              "    border-bottom-color: var(--fill-color);\n",
              "    animation:\n",
              "      spin 1s steps(1) infinite;\n",
              "  }\n",
              "\n",
              "  @keyframes spin {\n",
              "    0% {\n",
              "      border-color: transparent;\n",
              "      border-bottom-color: var(--fill-color);\n",
              "      border-left-color: var(--fill-color);\n",
              "    }\n",
              "    20% {\n",
              "      border-color: transparent;\n",
              "      border-left-color: var(--fill-color);\n",
              "      border-top-color: var(--fill-color);\n",
              "    }\n",
              "    30% {\n",
              "      border-color: transparent;\n",
              "      border-left-color: var(--fill-color);\n",
              "      border-top-color: var(--fill-color);\n",
              "      border-right-color: var(--fill-color);\n",
              "    }\n",
              "    40% {\n",
              "      border-color: transparent;\n",
              "      border-right-color: var(--fill-color);\n",
              "      border-top-color: var(--fill-color);\n",
              "    }\n",
              "    60% {\n",
              "      border-color: transparent;\n",
              "      border-right-color: var(--fill-color);\n",
              "    }\n",
              "    80% {\n",
              "      border-color: transparent;\n",
              "      border-right-color: var(--fill-color);\n",
              "      border-bottom-color: var(--fill-color);\n",
              "    }\n",
              "    90% {\n",
              "      border-color: transparent;\n",
              "      border-bottom-color: var(--fill-color);\n",
              "    }\n",
              "  }\n",
              "</style>\n",
              "\n",
              "  <script>\n",
              "    async function quickchart(key) {\n",
              "      const quickchartButtonEl =\n",
              "        document.querySelector('#' + key + ' button');\n",
              "      quickchartButtonEl.disabled = true;  // To prevent multiple clicks.\n",
              "      quickchartButtonEl.classList.add('colab-df-spinner');\n",
              "      try {\n",
              "        const charts = await google.colab.kernel.invokeFunction(\n",
              "            'suggestCharts', [key], {});\n",
              "      } catch (error) {\n",
              "        console.error('Error during call to suggestCharts:', error);\n",
              "      }\n",
              "      quickchartButtonEl.classList.remove('colab-df-spinner');\n",
              "      quickchartButtonEl.classList.add('colab-df-quickchart-complete');\n",
              "    }\n",
              "    (() => {\n",
              "      let quickchartButtonEl =\n",
              "        document.querySelector('#df-26704a80-8fc3-404b-bf5f-9877f0831af6 button');\n",
              "      quickchartButtonEl.style.display =\n",
              "        google.colab.kernel.accessAllowed ? 'block' : 'none';\n",
              "    })();\n",
              "  </script>\n",
              "</div>\n",
              "\n",
              "    </div>\n",
              "  </div>\n"
            ],
            "application/vnd.google.colaboratory.intrinsic+json": {
              "type": "dataframe",
              "variable_name": "data",
              "summary": "{\n  \"name\": \"data\",\n  \"rows\": 1771,\n  \"fields\": [\n    {\n      \"column\": \"age\",\n      \"properties\": {\n        \"dtype\": \"number\",\n        \"std\": 18,\n        \"min\": 0,\n        \"max\": 92,\n        \"num_unique_values\": 76,\n        \"samples\": [\n          0,\n          59,\n          79\n        ],\n        \"semantic_type\": \"\",\n        \"description\": \"\"\n      }\n    },\n    {\n      \"column\": \"vote\",\n      \"properties\": {\n        \"dtype\": \"number\",\n        \"std\": 1,\n        \"min\": 1,\n        \"max\": 6,\n        \"num_unique_values\": 6,\n        \"samples\": [\n          1,\n          2,\n          4\n        ],\n        \"semantic_type\": \"\",\n        \"description\": \"\"\n      }\n    }\n  ]\n}"
            }
          },
          "metadata": {},
          "execution_count": 230
        }
      ],
      "source": [
        "# Let's see how it looks like now\n",
        "data.head()"
      ]
    },
    {
      "cell_type": "markdown",
      "metadata": {
        "id": "15ZcekWWW9cH"
      },
      "source": [
        "We can use `data.sort_values` to sort the dataset by age"
      ]
    },
    {
      "cell_type": "code",
      "execution_count": 231,
      "metadata": {
        "colab": {
          "base_uri": "https://localhost:8080/",
          "height": 423
        },
        "id": "DapK84t6TsEc",
        "outputId": "4f2b3ffc-c8b7-4a1a-a20c-2752a91079df"
      },
      "outputs": [
        {
          "output_type": "execute_result",
          "data": {
            "text/plain": [
              "      age  vote\n",
              "519     0     2\n",
              "1627    0     1\n",
              "172     0     6\n",
              "412     0     2\n",
              "1511    0     3\n",
              "...   ...   ...\n",
              "525    91     2\n",
              "371    92     1\n",
              "1518   92     2\n",
              "1557   92     2\n",
              "405    92     1\n",
              "\n",
              "[1771 rows x 2 columns]"
            ],
            "text/html": [
              "\n",
              "  <div id=\"df-f64a950c-2b35-4e3f-b49d-ad0be2d79e2c\" class=\"colab-df-container\">\n",
              "    <div>\n",
              "<style scoped>\n",
              "    .dataframe tbody tr th:only-of-type {\n",
              "        vertical-align: middle;\n",
              "    }\n",
              "\n",
              "    .dataframe tbody tr th {\n",
              "        vertical-align: top;\n",
              "    }\n",
              "\n",
              "    .dataframe thead th {\n",
              "        text-align: right;\n",
              "    }\n",
              "</style>\n",
              "<table border=\"1\" class=\"dataframe\">\n",
              "  <thead>\n",
              "    <tr style=\"text-align: right;\">\n",
              "      <th></th>\n",
              "      <th>age</th>\n",
              "      <th>vote</th>\n",
              "    </tr>\n",
              "  </thead>\n",
              "  <tbody>\n",
              "    <tr>\n",
              "      <th>519</th>\n",
              "      <td>0</td>\n",
              "      <td>2</td>\n",
              "    </tr>\n",
              "    <tr>\n",
              "      <th>1627</th>\n",
              "      <td>0</td>\n",
              "      <td>1</td>\n",
              "    </tr>\n",
              "    <tr>\n",
              "      <th>172</th>\n",
              "      <td>0</td>\n",
              "      <td>6</td>\n",
              "    </tr>\n",
              "    <tr>\n",
              "      <th>412</th>\n",
              "      <td>0</td>\n",
              "      <td>2</td>\n",
              "    </tr>\n",
              "    <tr>\n",
              "      <th>1511</th>\n",
              "      <td>0</td>\n",
              "      <td>3</td>\n",
              "    </tr>\n",
              "    <tr>\n",
              "      <th>...</th>\n",
              "      <td>...</td>\n",
              "      <td>...</td>\n",
              "    </tr>\n",
              "    <tr>\n",
              "      <th>525</th>\n",
              "      <td>91</td>\n",
              "      <td>2</td>\n",
              "    </tr>\n",
              "    <tr>\n",
              "      <th>371</th>\n",
              "      <td>92</td>\n",
              "      <td>1</td>\n",
              "    </tr>\n",
              "    <tr>\n",
              "      <th>1518</th>\n",
              "      <td>92</td>\n",
              "      <td>2</td>\n",
              "    </tr>\n",
              "    <tr>\n",
              "      <th>1557</th>\n",
              "      <td>92</td>\n",
              "      <td>2</td>\n",
              "    </tr>\n",
              "    <tr>\n",
              "      <th>405</th>\n",
              "      <td>92</td>\n",
              "      <td>1</td>\n",
              "    </tr>\n",
              "  </tbody>\n",
              "</table>\n",
              "<p>1771 rows × 2 columns</p>\n",
              "</div>\n",
              "    <div class=\"colab-df-buttons\">\n",
              "\n",
              "  <div class=\"colab-df-container\">\n",
              "    <button class=\"colab-df-convert\" onclick=\"convertToInteractive('df-f64a950c-2b35-4e3f-b49d-ad0be2d79e2c')\"\n",
              "            title=\"Convert this dataframe to an interactive table.\"\n",
              "            style=\"display:none;\">\n",
              "\n",
              "  <svg xmlns=\"http://www.w3.org/2000/svg\" height=\"24px\" viewBox=\"0 -960 960 960\">\n",
              "    <path d=\"M120-120v-720h720v720H120Zm60-500h600v-160H180v160Zm220 220h160v-160H400v160Zm0 220h160v-160H400v160ZM180-400h160v-160H180v160Zm440 0h160v-160H620v160ZM180-180h160v-160H180v160Zm440 0h160v-160H620v160Z\"/>\n",
              "  </svg>\n",
              "    </button>\n",
              "\n",
              "  <style>\n",
              "    .colab-df-container {\n",
              "      display:flex;\n",
              "      gap: 12px;\n",
              "    }\n",
              "\n",
              "    .colab-df-convert {\n",
              "      background-color: #E8F0FE;\n",
              "      border: none;\n",
              "      border-radius: 50%;\n",
              "      cursor: pointer;\n",
              "      display: none;\n",
              "      fill: #1967D2;\n",
              "      height: 32px;\n",
              "      padding: 0 0 0 0;\n",
              "      width: 32px;\n",
              "    }\n",
              "\n",
              "    .colab-df-convert:hover {\n",
              "      background-color: #E2EBFA;\n",
              "      box-shadow: 0px 1px 2px rgba(60, 64, 67, 0.3), 0px 1px 3px 1px rgba(60, 64, 67, 0.15);\n",
              "      fill: #174EA6;\n",
              "    }\n",
              "\n",
              "    .colab-df-buttons div {\n",
              "      margin-bottom: 4px;\n",
              "    }\n",
              "\n",
              "    [theme=dark] .colab-df-convert {\n",
              "      background-color: #3B4455;\n",
              "      fill: #D2E3FC;\n",
              "    }\n",
              "\n",
              "    [theme=dark] .colab-df-convert:hover {\n",
              "      background-color: #434B5C;\n",
              "      box-shadow: 0px 1px 3px 1px rgba(0, 0, 0, 0.15);\n",
              "      filter: drop-shadow(0px 1px 2px rgba(0, 0, 0, 0.3));\n",
              "      fill: #FFFFFF;\n",
              "    }\n",
              "  </style>\n",
              "\n",
              "    <script>\n",
              "      const buttonEl =\n",
              "        document.querySelector('#df-f64a950c-2b35-4e3f-b49d-ad0be2d79e2c button.colab-df-convert');\n",
              "      buttonEl.style.display =\n",
              "        google.colab.kernel.accessAllowed ? 'block' : 'none';\n",
              "\n",
              "      async function convertToInteractive(key) {\n",
              "        const element = document.querySelector('#df-f64a950c-2b35-4e3f-b49d-ad0be2d79e2c');\n",
              "        const dataTable =\n",
              "          await google.colab.kernel.invokeFunction('convertToInteractive',\n",
              "                                                    [key], {});\n",
              "        if (!dataTable) return;\n",
              "\n",
              "        const docLinkHtml = 'Like what you see? Visit the ' +\n",
              "          '<a target=\"_blank\" href=https://colab.research.google.com/notebooks/data_table.ipynb>data table notebook</a>'\n",
              "          + ' to learn more about interactive tables.';\n",
              "        element.innerHTML = '';\n",
              "        dataTable['output_type'] = 'display_data';\n",
              "        await google.colab.output.renderOutput(dataTable, element);\n",
              "        const docLink = document.createElement('div');\n",
              "        docLink.innerHTML = docLinkHtml;\n",
              "        element.appendChild(docLink);\n",
              "      }\n",
              "    </script>\n",
              "  </div>\n",
              "\n",
              "\n",
              "<div id=\"df-8bc848f0-a6c1-4391-b784-670036fa5b97\">\n",
              "  <button class=\"colab-df-quickchart\" onclick=\"quickchart('df-8bc848f0-a6c1-4391-b784-670036fa5b97')\"\n",
              "            title=\"Suggest charts\"\n",
              "            style=\"display:none;\">\n",
              "\n",
              "<svg xmlns=\"http://www.w3.org/2000/svg\" height=\"24px\"viewBox=\"0 0 24 24\"\n",
              "     width=\"24px\">\n",
              "    <g>\n",
              "        <path d=\"M19 3H5c-1.1 0-2 .9-2 2v14c0 1.1.9 2 2 2h14c1.1 0 2-.9 2-2V5c0-1.1-.9-2-2-2zM9 17H7v-7h2v7zm4 0h-2V7h2v10zm4 0h-2v-4h2v4z\"/>\n",
              "    </g>\n",
              "</svg>\n",
              "  </button>\n",
              "\n",
              "<style>\n",
              "  .colab-df-quickchart {\n",
              "      --bg-color: #E8F0FE;\n",
              "      --fill-color: #1967D2;\n",
              "      --hover-bg-color: #E2EBFA;\n",
              "      --hover-fill-color: #174EA6;\n",
              "      --disabled-fill-color: #AAA;\n",
              "      --disabled-bg-color: #DDD;\n",
              "  }\n",
              "\n",
              "  [theme=dark] .colab-df-quickchart {\n",
              "      --bg-color: #3B4455;\n",
              "      --fill-color: #D2E3FC;\n",
              "      --hover-bg-color: #434B5C;\n",
              "      --hover-fill-color: #FFFFFF;\n",
              "      --disabled-bg-color: #3B4455;\n",
              "      --disabled-fill-color: #666;\n",
              "  }\n",
              "\n",
              "  .colab-df-quickchart {\n",
              "    background-color: var(--bg-color);\n",
              "    border: none;\n",
              "    border-radius: 50%;\n",
              "    cursor: pointer;\n",
              "    display: none;\n",
              "    fill: var(--fill-color);\n",
              "    height: 32px;\n",
              "    padding: 0;\n",
              "    width: 32px;\n",
              "  }\n",
              "\n",
              "  .colab-df-quickchart:hover {\n",
              "    background-color: var(--hover-bg-color);\n",
              "    box-shadow: 0 1px 2px rgba(60, 64, 67, 0.3), 0 1px 3px 1px rgba(60, 64, 67, 0.15);\n",
              "    fill: var(--button-hover-fill-color);\n",
              "  }\n",
              "\n",
              "  .colab-df-quickchart-complete:disabled,\n",
              "  .colab-df-quickchart-complete:disabled:hover {\n",
              "    background-color: var(--disabled-bg-color);\n",
              "    fill: var(--disabled-fill-color);\n",
              "    box-shadow: none;\n",
              "  }\n",
              "\n",
              "  .colab-df-spinner {\n",
              "    border: 2px solid var(--fill-color);\n",
              "    border-color: transparent;\n",
              "    border-bottom-color: var(--fill-color);\n",
              "    animation:\n",
              "      spin 1s steps(1) infinite;\n",
              "  }\n",
              "\n",
              "  @keyframes spin {\n",
              "    0% {\n",
              "      border-color: transparent;\n",
              "      border-bottom-color: var(--fill-color);\n",
              "      border-left-color: var(--fill-color);\n",
              "    }\n",
              "    20% {\n",
              "      border-color: transparent;\n",
              "      border-left-color: var(--fill-color);\n",
              "      border-top-color: var(--fill-color);\n",
              "    }\n",
              "    30% {\n",
              "      border-color: transparent;\n",
              "      border-left-color: var(--fill-color);\n",
              "      border-top-color: var(--fill-color);\n",
              "      border-right-color: var(--fill-color);\n",
              "    }\n",
              "    40% {\n",
              "      border-color: transparent;\n",
              "      border-right-color: var(--fill-color);\n",
              "      border-top-color: var(--fill-color);\n",
              "    }\n",
              "    60% {\n",
              "      border-color: transparent;\n",
              "      border-right-color: var(--fill-color);\n",
              "    }\n",
              "    80% {\n",
              "      border-color: transparent;\n",
              "      border-right-color: var(--fill-color);\n",
              "      border-bottom-color: var(--fill-color);\n",
              "    }\n",
              "    90% {\n",
              "      border-color: transparent;\n",
              "      border-bottom-color: var(--fill-color);\n",
              "    }\n",
              "  }\n",
              "</style>\n",
              "\n",
              "  <script>\n",
              "    async function quickchart(key) {\n",
              "      const quickchartButtonEl =\n",
              "        document.querySelector('#' + key + ' button');\n",
              "      quickchartButtonEl.disabled = true;  // To prevent multiple clicks.\n",
              "      quickchartButtonEl.classList.add('colab-df-spinner');\n",
              "      try {\n",
              "        const charts = await google.colab.kernel.invokeFunction(\n",
              "            'suggestCharts', [key], {});\n",
              "      } catch (error) {\n",
              "        console.error('Error during call to suggestCharts:', error);\n",
              "      }\n",
              "      quickchartButtonEl.classList.remove('colab-df-spinner');\n",
              "      quickchartButtonEl.classList.add('colab-df-quickchart-complete');\n",
              "    }\n",
              "    (() => {\n",
              "      let quickchartButtonEl =\n",
              "        document.querySelector('#df-8bc848f0-a6c1-4391-b784-670036fa5b97 button');\n",
              "      quickchartButtonEl.style.display =\n",
              "        google.colab.kernel.accessAllowed ? 'block' : 'none';\n",
              "    })();\n",
              "  </script>\n",
              "</div>\n",
              "\n",
              "    </div>\n",
              "  </div>\n"
            ],
            "application/vnd.google.colaboratory.intrinsic+json": {
              "type": "dataframe",
              "summary": "{\n  \"name\": \"data\",\n  \"rows\": 1771,\n  \"fields\": [\n    {\n      \"column\": \"age\",\n      \"properties\": {\n        \"dtype\": \"number\",\n        \"std\": 18,\n        \"min\": 0,\n        \"max\": 92,\n        \"num_unique_values\": 76,\n        \"samples\": [\n          21,\n          52,\n          27\n        ],\n        \"semantic_type\": \"\",\n        \"description\": \"\"\n      }\n    },\n    {\n      \"column\": \"vote\",\n      \"properties\": {\n        \"dtype\": \"number\",\n        \"std\": 1,\n        \"min\": 1,\n        \"max\": 6,\n        \"num_unique_values\": 6,\n        \"samples\": [\n          2,\n          1,\n          5\n        ],\n        \"semantic_type\": \"\",\n        \"description\": \"\"\n      }\n    }\n  ]\n}"
            }
          },
          "metadata": {},
          "execution_count": 231
        }
      ],
      "source": [
        "data.sort_values(by='age')"
      ]
    },
    {
      "cell_type": "markdown",
      "metadata": {
        "id": "35dFiX99kZto"
      },
      "source": [
        "We must do again a feature selection since we want to analyze just the age of Brexiteers and Remainers and because we see that there are some artifacts in the age column (many zeros appearing)."
      ]
    },
    {
      "cell_type": "code",
      "execution_count": 232,
      "metadata": {
        "colab": {
          "base_uri": "https://localhost:8080/"
        },
        "id": "2XFl6PjYkZto",
        "outputId": "58dc8bf1-ea2f-4ee2-d9ee-5cb2909a7171"
      },
      "outputs": [
        {
          "output_type": "stream",
          "name": "stdout",
          "text": [
            "The percentage of brexiteers is 0.4114068441064639\n"
          ]
        }
      ],
      "source": [
        "# Remove zeros in the age column\n",
        "data = data[data['age'] != 0]\n",
        "\n",
        "# Create the remainer and brexiters data frames by selecting the vote\n",
        "remainers = data[data['vote'] == 1]\n",
        "brexiteers = data[data['vote'] == 2]\n",
        "\n",
        "# We actually have in this poll less brexiteers than remainers, we compute using the function \"len\"\n",
        "print(f\"The percentage of brexiteers is {len(brexiteers)/(len(brexiteers) + len(remainers))}\")"
      ]
    },
    {
      "cell_type": "markdown",
      "metadata": {
        "id": "Vx39QFrXkZto"
      },
      "source": [
        "Let's have a look at the age distribution for the two. We import `matplotlib` for doing so, another well-known and important package that we shall use all the time.\n"
      ]
    },
    {
      "cell_type": "code",
      "execution_count": 233,
      "metadata": {
        "id": "FLY2E8eQkZtp"
      },
      "outputs": [],
      "source": [
        "import matplotlib.pyplot as plt"
      ]
    },
    {
      "cell_type": "code",
      "execution_count": 234,
      "metadata": {
        "colab": {
          "base_uri": "https://localhost:8080/",
          "height": 712
        },
        "id": "7Q_l54_ukZtp",
        "outputId": "5a58296a-f4b8-407d-9e5e-139026bba792"
      },
      "outputs": [
        {
          "output_type": "execute_result",
          "data": {
            "text/plain": [
              "Text(0, 0.5, '# (people)')"
            ]
          },
          "metadata": {},
          "execution_count": 234
        },
        {
          "output_type": "display_data",
          "data": {
            "text/plain": [
              "<Figure size 2000x700 with 2 Axes>"
            ],
            "image/png": "[encoded data removed]"
          },
          "metadata": {}
        }
      ],
      "source": [
        "%matplotlib inline\n",
        "fig, ax = plt.subplots(1,2, figsize=(20,7), sharex=True)\n",
        "plt.suptitle(\"Age distribution\", fontsize=16)\n",
        "ax[0].set_title(f\"Brexiteers\", fontsize=14)\n",
        "ax[0].hist(brexiteers['age'], color ='darkred')\n",
        "ax[0].set_xlabel(\"Age\", fontsize = 14)\n",
        "ax[0].set_ylabel(\"# (people)\", fontsize = 14)\n",
        "\n",
        "ax[1].set_title(f\"Remainers\", fontsize=14)\n",
        "ax[1].hist(remainers['age'], color ='darkblue')\n",
        "ax[1].set_xlabel(\"Age\", fontsize = 14)\n",
        "ax[1].set_ylabel(\"# (people)\", fontsize = 14)\n"
      ]
    },
    {
      "cell_type": "markdown",
      "metadata": {
        "id": "uV8-pYqVkZtp"
      },
      "source": [
        "Let's compute now the averages and compare them, using another well-known python package:"
      ]
    },
    {
      "cell_type": "code",
      "execution_count": 235,
      "metadata": {
        "colab": {
          "base_uri": "https://localhost:8080/"
        },
        "id": "m9a8H9BFkZtp",
        "outputId": "0cdde494-22e2-4465-c672-32f6947c7cf4"
      },
      "outputs": [
        {
          "output_type": "stream",
          "name": "stdout",
          "text": [
            "The difference in average age is 3.6998380833655773\n"
          ]
        }
      ],
      "source": [
        "import numpy as np\n",
        "\n",
        "avg_brex = np.mean(brexiteers['age'])\n",
        "avg_rem = np.mean(remainers['age'])\n",
        "\n",
        "dataset_property = avg_brex - avg_rem\n",
        "print(f\"The difference in average age is {dataset_property}\")"
      ]
    },
    {
      "cell_type": "markdown",
      "metadata": {
        "id": "IDib6OPOkZtq"
      },
      "source": [
        "### $\\color{darkblue}{\\text{Hypothesis testing}}$"
      ]
    },
    {
      "cell_type": "markdown",
      "metadata": {
        "id": "sezDyfcxkZtq"
      },
      "source": [
        "Let's answer the very first question we asked ourselves: how can we quantify our level of confidence in stating that this difference is $\\textbf{NOT}$ given by low sample-size effect?"
      ]
    },
    {
      "cell_type": "markdown",
      "metadata": {
        "id": "6Mft4epakZtq"
      },
      "source": [
        "The answer is incredibly fascinating in its simplicity and effectiveness. The idea is the following:\n",
        "* *Create new datasets by permuting randomly the labels*\n",
        "* *Compute the differences in this new randomly drawn datasets*\n",
        "* *See how many times the differences are higher than the experimental one*"
      ]
    },
    {
      "cell_type": "markdown",
      "metadata": {
        "id": "F0xqZkwekZtq"
      },
      "source": [
        "We must create equivalent datasets made of a randomized group of 541 people (Group A) and another made of 774 (Group B) corresponding to what previously were respectively brexiteers and remainers."
      ]
    },
    {
      "cell_type": "code",
      "execution_count": 236,
      "metadata": {
        "colab": {
          "base_uri": "https://localhost:8080/"
        },
        "id": "ahlEJprOkZtq",
        "outputId": "259f7fb1-4c5a-45dc-cc3f-57ef692d9355"
      },
      "outputs": [
        {
          "output_type": "stream",
          "name": "stdout",
          "text": [
            "1315\n"
          ]
        }
      ],
      "source": [
        "# Create a list with all ages\n",
        "\n",
        "global_stat = list(brexiteers['age']) +  list(remainers['age'])\n",
        "\n",
        "print(len(global_stat))"
      ]
    },
    {
      "cell_type": "markdown",
      "metadata": {
        "id": "kvZfqqNPkZtr"
      },
      "source": [
        "Import random package for computing random permutations"
      ]
    },
    {
      "cell_type": "code",
      "execution_count": 237,
      "metadata": {
        "id": "_jtXJJ2fkZtr"
      },
      "outputs": [],
      "source": [
        "import random"
      ]
    },
    {
      "cell_type": "markdown",
      "metadata": {
        "id": "acj_aQAAkZtr"
      },
      "source": [
        "Let's create 10000 new shuffled datasets and let's keep track when one difference in average ages is greater than the observed experimental one"
      ]
    },
    {
      "cell_type": "code",
      "execution_count": 238,
      "metadata": {
        "id": "RTwqupCBkZtr"
      },
      "outputs": [],
      "source": [
        "trials = 10000  ; count = 0\n",
        "\n",
        "for dumb in range(trials):\n",
        "    # Compute shuffled ages\n",
        "    random.shuffle(global_stat)\n",
        "    # Compute average of Group A\n",
        "    avg_A = sum(global_stat[:541])/541\n",
        "    # Compute average of Group B\n",
        "    avg_B = sum(global_stat[541:])/774\n",
        "    # Compute new shuffled difference\n",
        "    diff = avg_A - avg_B\n",
        "    if diff > dataset_property:\n",
        "        count +=1"
      ]
    },
    {
      "cell_type": "markdown",
      "metadata": {
        "id": "6ma70vUUkZtr"
      },
      "source": [
        "...and we finally arrive to the result"
      ]
    },
    {
      "cell_type": "code",
      "execution_count": 239,
      "metadata": {
        "id": "k4RYL1_pkZtr",
        "colab": {
          "base_uri": "https://localhost:8080/"
        },
        "outputId": "9ab3995f-1639-48a7-df50-69d369e3b650"
      },
      "outputs": [
        {
          "output_type": "stream",
          "name": "stdout",
          "text": [
            "The average age of Group A minus the one of Group B was greater than 3.6998380833655773 1 times\n"
          ]
        }
      ],
      "source": [
        "print(f\"The average age of Group A minus the one of Group B was greater than {dataset_property} {count} times\")"
      ]
    },
    {
      "cell_type": "markdown",
      "metadata": {
        "id": "LfxiGAGIkZts"
      },
      "source": [
        "We could safely $\\textbf{reject}$ the null hypothesis"
      ]
    },
    {
      "cell_type": "markdown",
      "metadata": {
        "id": "Ak3GTT6qk4rI"
      },
      "source": [
        "## $\\color{purple}{\\text{Bootstrap}}$"
      ]
    },
    {
      "cell_type": "markdown",
      "metadata": {
        "id": "p05uNZyMnxav"
      },
      "source": [
        "**Bootstrap** is a resampling strategy with replacement that requires no assumptions about the data distribution.\n",
        "\n",
        "It allows us to make inferences about the population statistics when we only have a finite number of samples. In the following we will see how to use it to evaluate the **confidence interval** and the **variance** of an estimator, but it has many other applications.\n",
        "\n",
        "Even when we only have one sample, the bootstrap method provides a good enough approximation of the true population statistics."
      ]
    },
    {
      "cell_type": "markdown",
      "metadata": {
        "id": "cxNaDN7Gn0g1"
      },
      "source": [
        "### $\\color{darkblue}{\\text{Bootstrap and Confidence Interval}}$"
      ]
    },
    {
      "cell_type": "markdown",
      "metadata": {
        "id": "eqJygVRRpaXv"
      },
      "source": [
        "Question: **With one sample, how can we calculate the Confidence Interval for the median age of the Brexiteers and Remainers?**"
      ]
    },
    {
      "cell_type": "markdown",
      "metadata": {
        "id": "BieSf161elNG"
      },
      "source": [
        "Let's recall the dataset and isolate the age feature."
      ]
    },
    {
      "cell_type": "markdown",
      "metadata": {
        "id": "s0nA7e8sh1Ci"
      },
      "source": [
        "To do so we take a single column of the dataset, which is an object called `Series`, and turn it into a `numpy.ndarray` using `pd.Series.to_numpy`"
      ]
    },
    {
      "cell_type": "code",
      "execution_count": 240,
      "metadata": {
        "id": "g4A_kIF-eogh"
      },
      "outputs": [],
      "source": [
        "brexit_ages = pd.Series.to_numpy(brexiteers['age'])\n",
        "remain_ages = pd.Series.to_numpy(remainers['age'])"
      ]
    },
    {
      "cell_type": "markdown",
      "metadata": {
        "id": "R59iurOsp-nc"
      },
      "source": [
        "First of all we compute the median for the two groups."
      ]
    },
    {
      "cell_type": "markdown",
      "metadata": {
        "id": "MhuANcdofDyx"
      },
      "source": [
        "Firstly try to do it by hand, building the function *median_value()*:"
      ]
    },
    {
      "cell_type": "code",
      "execution_count": 241,
      "metadata": {
        "id": "qd6OUEJvnI_Q"
      },
      "outputs": [],
      "source": [
        "def median_value(array):\n",
        "\n",
        "    sorted_arr = np.sort(array)\n",
        "    n = len(sorted_arr)\n",
        "\n",
        "    if n % 2 == 1:\n",
        "        median = sorted_arr[n // 2]\n",
        "    else:\n",
        "        middle1 = sorted_arr[n // 2 - 1]\n",
        "        middle2 = sorted_arr[n // 2]\n",
        "        median = (middle1 + middle2) / 2\n",
        "\n",
        "    return median"
      ]
    },
    {
      "cell_type": "code",
      "execution_count": 242,
      "metadata": {
        "id": "EUCT3MHdtcnB",
        "colab": {
          "base_uri": "https://localhost:8080/"
        },
        "outputId": "215f9286-98f4-4a00-a912-e6849e6bf894"
      },
      "outputs": [
        {
          "output_type": "stream",
          "name": "stdout",
          "text": [
            "The median age of brexiteers is 53 while the one of remainers is 47.0\n"
          ]
        }
      ],
      "source": [
        "#Try to print the median age of brexiteers and remainers\n",
        "\n",
        "print(f\"The median age of brexiteers is {median_value(brexit_ages)} while the one of remainers is {median_value(remain_ages)}\")"
      ]
    },
    {
      "cell_type": "markdown",
      "metadata": {
        "id": "OhEQuYMQfmYV"
      },
      "source": [
        "Alternatively, one can use the `numpy` library and directly compute the median"
      ]
    },
    {
      "cell_type": "code",
      "execution_count": 243,
      "metadata": {
        "id": "po3ocPhDBHj6",
        "colab": {
          "base_uri": "https://localhost:8080/"
        },
        "outputId": "b869bb6a-a12e-46e7-95c7-cb1f61785a40"
      },
      "outputs": [
        {
          "output_type": "stream",
          "name": "stdout",
          "text": [
            "The median age of brexiteers is 53.0 while the one of remainers is 47.0\n"
          ]
        }
      ],
      "source": [
        "print(f\"The median age of brexiteers is {np.median(brexit_ages)} while the one of remainers is {np.median(remain_ages)}\")"
      ]
    },
    {
      "cell_type": "markdown",
      "metadata": {
        "id": "DQM-yg3AgRKY"
      },
      "source": [
        "Now we use **bootstrap**: we repeatedly sample the two groups with replacement with the same sample size"
      ]
    },
    {
      "cell_type": "markdown",
      "metadata": {
        "id": "2baTznEsgwWg"
      },
      "source": [
        "Fist we start with Brexiteers, choosing $10000$ as the number of repetitions of the sampling"
      ]
    },
    {
      "cell_type": "code",
      "execution_count": 244,
      "metadata": {
        "id": "G4-MC0Qtf5_D"
      },
      "outputs": [],
      "source": [
        "n = len(brexit_ages)\n",
        "\n",
        "reps =10000"
      ]
    },
    {
      "cell_type": "markdown",
      "metadata": {
        "id": "dnq6SR7rhRdq"
      },
      "source": [
        "We then use\n",
        "\n",
        "```\n",
        "np.random.choice(a, size=None, replace=True, p=None)\n",
        "```\n",
        "\n",
        "which generates a random sample of a certain size from a given 1-D array `a`. If `replace=True`, then a value of `a` can be selected multiple times.\n"
      ]
    },
    {
      "cell_type": "code",
      "execution_count": 245,
      "metadata": {
        "id": "RYJFVQRthQI1"
      },
      "outputs": [],
      "source": [
        "np.random.seed(123)\n",
        "\n",
        "boot_brexit = np.random.choice(brexit_ages, (reps,n))\n",
        "boot_brexit_medians = np.median(boot_brexit, axis=1)"
      ]
    },
    {
      "cell_type": "markdown",
      "metadata": {
        "id": "qHKH_j_Eirgz"
      },
      "source": [
        "The results look like this"
      ]
    },
    {
      "cell_type": "code",
      "execution_count": 246,
      "metadata": {
        "colab": {
          "base_uri": "https://localhost:8080/"
        },
        "id": "UtTIR14aiZEj",
        "outputId": "bb5e56bb-2aad-467a-96a4-06142dd89e49"
      },
      "outputs": [
        {
          "output_type": "execute_result",
          "data": {
            "text/plain": [
              "array([[54, 52, 83, ..., 28, 37, 60],\n",
              "       [64, 70, 42, ..., 55, 33, 38],\n",
              "       [50, 78, 64, ..., 35, 65, 62],\n",
              "       [65, 59, 46, ..., 52, 57, 64],\n",
              "       [54, 72, 61, ..., 84, 24, 35]])"
            ]
          },
          "metadata": {},
          "execution_count": 246
        }
      ],
      "source": [
        "boot_brexit[:5]"
      ]
    },
    {
      "cell_type": "code",
      "execution_count": 247,
      "metadata": {
        "colab": {
          "base_uri": "https://localhost:8080/"
        },
        "id": "sjMup-3wiy7a",
        "outputId": "cece8c45-6082-4093-a60b-a4a4c3672528"
      },
      "outputs": [
        {
          "output_type": "execute_result",
          "data": {
            "text/plain": [
              "array([55., 53., 53., 54., 54.])"
            ]
          },
          "metadata": {},
          "execution_count": 247
        }
      ],
      "source": [
        "boot_brexit_medians[:5]"
      ]
    },
    {
      "cell_type": "markdown",
      "metadata": {
        "id": "sO6R_zyMjShf"
      },
      "source": [
        "Now we can compute the standard deviation and the confidence interval"
      ]
    },
    {
      "cell_type": "code",
      "execution_count": 248,
      "metadata": {
        "colab": {
          "base_uri": "https://localhost:8080/"
        },
        "id": "n-5MuUtJjKnh",
        "outputId": "77667bbb-3e32-49b4-bb70-2c0ba787d963"
      },
      "outputs": [
        {
          "output_type": "stream",
          "name": "stdout",
          "text": [
            "The mean of the median age of brexiteers computed with bootstrap is 53.3338 \n"
          ]
        }
      ],
      "source": [
        "print(f\"The mean of the median age of brexiteers computed with bootstrap is {boot_brexit_medians.mean()} \")"
      ]
    },
    {
      "cell_type": "code",
      "execution_count": 249,
      "metadata": {
        "colab": {
          "base_uri": "https://localhost:8080/"
        },
        "id": "glDhLqi9jUlJ",
        "outputId": "4d192258-bc93-4943-fae6-106ce65e8f82"
      },
      "outputs": [
        {
          "output_type": "stream",
          "name": "stdout",
          "text": [
            "The standard deviation of the median age of brexiteers computed with bootstrap is 1.2133332435897404 \n"
          ]
        }
      ],
      "source": [
        "print(f\"The standard deviation of the median age of brexiteers computed with bootstrap is {boot_brexit_medians.std()} \")"
      ]
    },
    {
      "cell_type": "markdown",
      "metadata": {
        "id": "dInY2hkEj5y5"
      },
      "source": [
        "For the C.I. we use `np.percentile` to compute which range of values you can be 95% confident contains the true mean of the median"
      ]
    },
    {
      "cell_type": "code",
      "execution_count": 250,
      "metadata": {
        "colab": {
          "base_uri": "https://localhost:8080/"
        },
        "id": "lshxU8UTj0pH",
        "outputId": "268ae3ea-2fb2-41d1-bb14-5a8b21e5c870"
      },
      "outputs": [
        {
          "output_type": "stream",
          "name": "stdout",
          "text": [
            "The C.I. for the median age of brexiteers computed with bootstrap is [51.0,55.0] \n"
          ]
        }
      ],
      "source": [
        "boot_brexit_median_CI = np.percentile(boot_brexit_medians, [2.5,97.5])\n",
        "print(f\"The C.I. for the median age of brexiteers computed with bootstrap is [{boot_brexit_median_CI[0]},{boot_brexit_median_CI[1]}] \")"
      ]
    },
    {
      "cell_type": "markdown",
      "metadata": {
        "id": "TPEOi5NklbOm"
      },
      "source": [
        "Now try to do the same for remainers"
      ]
    },
    {
      "cell_type": "code",
      "execution_count": 251,
      "metadata": {
        "id": "KoAh6KP8lJA9",
        "colab": {
          "base_uri": "https://localhost:8080/"
        },
        "outputId": "55ffbe6f-be95-41e4-e682-f06f56445174"
      },
      "outputs": [
        {
          "output_type": "stream",
          "name": "stdout",
          "text": [
            "Bootstrap samples:\n",
            " [[48 66 23 ... 69 19 63]\n",
            " [45 39 24 ... 67 52 54]\n",
            " [56 29 64 ... 62 71 56]\n",
            " [61 30 51 ... 76 83 81]\n",
            " [26 60 52 ... 25 70 24]]\n",
            "Medians of Bootstrap samples:  [50. 45. 49. 45. 45.]\n"
          ]
        }
      ],
      "source": [
        "boot_remain = np.random.choice(remain_ages, (reps,n))\n",
        "boot_remain_medians = np.median(boot_remain, axis=1)\n",
        "\n",
        "print(\"Bootstrap samples:\\n\", boot_remain[:5])\n",
        "print(\"Medians of Bootstrap samples: \", boot_remain_medians[:5])"
      ]
    },
    {
      "cell_type": "code",
      "execution_count": 252,
      "metadata": {
        "id": "rrZCOu87AQaZ",
        "colab": {
          "base_uri": "https://localhost:8080/"
        },
        "outputId": "e837ce6a-fc89-4b45-a27e-1f60825b7dc4"
      },
      "outputs": [
        {
          "output_type": "stream",
          "name": "stdout",
          "text": [
            "The mean of the median age of remainers computed with bootstrap is 47.5533 \n",
            "The standard deviation of the median age of remainers computed with bootstrap is 1.7686037176258567 \n",
            "The C.I. for the median age of remainers computed with bootstrap is [45.0,51.0] \n"
          ]
        }
      ],
      "source": [
        "print(f\"The mean of the median age of remainers computed with bootstrap is {boot_remain_medians.mean()} \")\n",
        "print(f\"The standard deviation of the median age of remainers computed with bootstrap is {boot_remain_medians.std()} \")\n",
        "\n",
        "boot_remain_median_CI = np.percentile(boot_remain_medians, [2.5,97.5])\n",
        "print(f\"The C.I. for the median age of remainers computed with bootstrap is [{boot_remain_median_CI[0]},{boot_remain_median_CI[1]}] \")"
      ]
    },
    {
      "cell_type": "markdown",
      "metadata": {
        "id": "NWuG8pUeAPtT"
      },
      "source": [
        "Now we plot the median age distributions with the respective confidence intervals"
      ]
    },
    {
      "cell_type": "code",
      "execution_count": 253,
      "metadata": {
        "colab": {
          "base_uri": "https://localhost:8080/",
          "height": 489
        },
        "id": "Vq4Aav1mmmAy",
        "outputId": "c94fecf0-a622-4398-f445-350f8cb3d649"
      },
      "outputs": [
        {
          "output_type": "display_data",
          "data": {
            "text/plain": [
              "<Figure size 900x500 with 1 Axes>"
            ],
            "image/png": "[encoded data removed]"
          },
          "metadata": {}
        }
      ],
      "source": [
        "fig = plt.figure(figsize=(9,5))\n",
        "ax = fig.add_subplot(111)\n",
        "plt.title(\"Median age distribution\", size = 16)\n",
        "ax.hist(boot_brexit_medians, color ='darkred', label = f\"Brexiteers\")\n",
        "plt.axvline(boot_brexit_median_CI[0],color = 'red',linewidth=2)\n",
        "plt.axvline(boot_brexit_median_CI[1],color = 'red',linewidth=2)\n",
        "ax.hist(boot_remain_medians, color ='darkblue', label = f\"Remainers\")\n",
        "plt.axvline(boot_remain_median_CI[0],color = 'blue',linewidth=2)\n",
        "plt.axvline(boot_remain_median_CI[1],color = 'blue',linewidth=2)\n",
        "ax.set(xlabel =\"Age\" , ylabel = \"#(occurrences)\")\n",
        "ax.legend();"
      ]
    },
    {
      "cell_type": "markdown",
      "metadata": {
        "id": "CEvMDVrvmSqq"
      },
      "source": [
        "We see that the two intervals are not overlapping"
      ]
    },
    {
      "cell_type": "markdown",
      "metadata": {
        "id": "-s5-6DbwvYQz"
      },
      "source": [
        "# $\\color{purple}{\\text{Your turn - Titanic}}$"
      ]
    },
    {
      "cell_type": "markdown",
      "metadata": {
        "id": "QVUYnv80nNXv"
      },
      "source": [
        "\n",
        "The sinking of the Titanic is one of the most infamous shipwrecks in history.\n",
        "\n",
        "On April 15, 1912, during her maiden voyage, the widely considered “unsinkable” RMS Titanic sank after colliding with an iceberg. Unfortunately, there weren’t enough lifeboats for everyone onboard, resulting in the death of the majority of passengers and crew.\n",
        "\n",
        "While there was some element of luck involved in surviving, it seems some groups of people were more likely to survive than others."
      ]
    },
    {
      "cell_type": "markdown",
      "metadata": {
        "id": "OWF0LOe_wl4a"
      },
      "source": [
        "**The data set:**"
      ]
    },
    {
      "cell_type": "markdown",
      "metadata": {
        "id": "4P4jtgfcwiXz"
      },
      "source": [
        "First of all, we need to import the data from the csv file you can find [in this github](https://raw.githubusercontent.com/datasciencedojo/datasets/master/titanic.csv)"
      ]
    },
    {
      "cell_type": "markdown",
      "metadata": {
        "id": "tK6F6Bgx8qsf"
      },
      "source": [
        "### $\\color{darkblue}{\\text{Exercises:}}$"
      ]
    },
    {
      "cell_type": "markdown",
      "metadata": {
        "id": "FqaTj9p-b3l_"
      },
      "source": [
        "#### **Age and Ticket fares**"
      ]
    },
    {
      "cell_type": "markdown",
      "metadata": {
        "id": "o208x4_uwM74"
      },
      "source": [
        "##### 0)\n",
        "\n",
        "*   Import the dataset using `pd.read_csv` and visualize the data\n",
        "*   How many features are there?"
      ]
    },
    {
      "cell_type": "code",
      "execution_count": 254,
      "metadata": {
        "id": "9AtLW7pqwPmZ",
        "colab": {
          "base_uri": "https://localhost:8080/"
        },
        "outputId": "d43fc927-26de-40c9-c5a9-fb1a4786c9e3"
      },
      "outputs": [
        {
          "output_type": "stream",
          "name": "stdout",
          "text": [
            "   PassengerId  Survived  Pclass  \\\n",
            "0            1         0       3   \n",
            "1            2         1       1   \n",
            "2            3         1       3   \n",
            "3            4         1       1   \n",
            "4            5         0       3   \n",
            "\n",
            "                                                Name     Sex   Age  SibSp  \\\n",
            "0                            Braund, Mr. Owen Harris    male  22.0      1   \n",
            "1  Cumings, Mrs. John Bradley (Florence Briggs Th...  female  38.0      1   \n",
            "2                             Heikkinen, Miss. Laina  female  26.0      0   \n",
            "3       Futrelle, Mrs. Jacques Heath (Lily May Peel)  female  35.0      1   \n",
            "4                           Allen, Mr. William Henry    male  35.0      0   \n",
            "\n",
            "   Parch            Ticket     Fare Cabin Embarked  \n",
            "0      0         A/5 21171   7.2500   NaN        S  \n",
            "1      0          PC 17599  71.2833   C85        C  \n",
            "2      0  STON/O2. 3101282   7.9250   NaN        S  \n",
            "3      0            113803  53.1000  C123        S  \n",
            "4      0            373450   8.0500   NaN        S  \n",
            "\n",
            "There are 12 features\n"
          ]
        }
      ],
      "source": [
        "# Import the dataset using pd.read_csv and visualize the data\n",
        "raw_data = pd.read_csv('https://raw.githubusercontent.com/datasciencedojo/datasets/master/titanic.csv', sep = ',')\n",
        "print(raw_data.head())\n",
        "\n",
        "# How many features are there?\n",
        "print(\"\\nThere are {0} features\".format(raw_data.shape[1]))"
      ]
    },
    {
      "cell_type": "markdown",
      "metadata": {
        "id": "C3nsTblVS8jc"
      },
      "source": [
        "##### 1)\n",
        "*   Select the features corresponding to the Age and to the Survival\n",
        "*   Eliminate artifacts (you can use `dropna(how='any')` to eliminate passengers with unknown data)\n",
        "*   Compute the percentage of survivors $P(Survived=1)$"
      ]
    },
    {
      "cell_type": "code",
      "execution_count": 255,
      "metadata": {
        "id": "6Va8RaSEXZBD",
        "colab": {
          "base_uri": "https://localhost:8080/"
        },
        "outputId": "10231503-8621-439e-c797-292de68a0527"
      },
      "outputs": [
        {
          "output_type": "stream",
          "name": "stdout",
          "text": [
            "First 5 rows of the data with only 'Age' and 'Survival' columns:\n",
            "     Age  Survived\n",
            "0  22.0         0\n",
            "1  38.0         1\n",
            "2  26.0         1\n",
            "3  35.0         1\n",
            "4  35.0         0\n",
            "There are 891 rows.\n",
            "\n",
            "First 5 rows of the data after eliminating rows with missing data (artifacts):\n",
            "     Age  Survived\n",
            "0  22.0         0\n",
            "1  38.0         1\n",
            "2  26.0         1\n",
            "3  35.0         1\n",
            "4  35.0         0\n",
            "There are 714 rows.\n",
            "\n",
            "Percentage of survivors: 40.62%\n"
          ]
        }
      ],
      "source": [
        "# Select the features corresponding to the Age and to the Survival\n",
        "age_and_survival_data = raw_data[['Age', 'Survived']]\n",
        "print(\"First 5 rows of the data with only 'Age' and 'Survival' columns:\\n\", age_and_survival_data.head())\n",
        "print(\"There are {0} rows.\".format(len(age_and_survival_data)))\n",
        "\n",
        "# Eliminate artifacts\n",
        "clean_age_and_survival_data = age_and_survival_data.dropna(how='any')\n",
        "print(\"\\nFirst 5 rows of the data after eliminating rows with missing data (artifacts):\\n\", clean_age_and_survival_data.head())\n",
        "print(\"There are {0} rows.\".format(len(clean_age_and_survival_data)))\n",
        "\n",
        "# Compute the percentage of survivors P(Survived=1)\n",
        "age_survivors = clean_age_and_survival_data[clean_age_and_survival_data['Survived'] == 1]\n",
        "age_victims = clean_age_and_survival_data[clean_age_and_survival_data['Survived'] == 0]\n",
        "\n",
        "percentage_survived = (len(age_survivors) / (len(age_survivors) + len(age_victims))) * 100\n",
        "print(\"\\nPercentage of survivors: {:.2f}%\".format(percentage_survived))"
      ]
    },
    {
      "cell_type": "markdown",
      "metadata": {
        "id": "bC61uafPzBYb"
      },
      "source": [
        "##### 2)\n",
        "\n",
        "*   Plot, using `hist`, the distribution of ages, separating the Survivers from the Dead\n",
        "*   Compute the difference between the average age of the two groups\n",
        "\n"
      ]
    },
    {
      "cell_type": "code",
      "execution_count": 256,
      "metadata": {
        "id": "zaOdzqFNXZBK",
        "colab": {
          "base_uri": "https://localhost:8080/",
          "height": 731
        },
        "outputId": "f55e7269-ab3a-4e0a-9258-e741c44a2abe"
      },
      "outputs": [
        {
          "output_type": "stream",
          "name": "stdout",
          "text": [
            "\n",
            "The difference (avg_victim_age - avg_survivor_age) in average age is:  2.282489590110604\n"
          ]
        },
        {
          "output_type": "display_data",
          "data": {
            "text/plain": [
              "<Figure size 2000x700 with 2 Axes>"
            ],
            "image/png": "[encoded data removed]"
          },
          "metadata": {}
        }
      ],
      "source": [
        "# Plot, using hist, the distribution of ages, separating the Survivers from the Dead\n",
        "%matplotlib inline\n",
        "fig, ax = plt.subplots(1,2, figsize=(20,7), sharex=True)\n",
        "plt.suptitle(\"Age distribution\", fontsize=16)\n",
        "ax[0].set_title(f\"Survivors\", fontsize=14)\n",
        "ax[0].hist(age_survivors['Age'], color ='darkred')\n",
        "ax[0].set_xlabel(\"Age\", fontsize = 14)\n",
        "ax[0].set_ylabel(\"# (people)\", fontsize = 14)\n",
        "\n",
        "ax[1].set_title(f\"Victims\", fontsize=14)\n",
        "ax[1].hist(age_victims['Age'], color ='darkblue')\n",
        "ax[1].set_xlabel(\"Age\", fontsize = 14)\n",
        "ax[1].set_ylabel(\"# (people)\", fontsize = 14)\n",
        "\n",
        "# Compute the difference between the average age of the two groups\n",
        "survivor_ages = age_survivors['Age']\n",
        "victim_ages = age_victims['Age']\n",
        "print(\"\\nThe difference (avg_victim_age - avg_survivor_age) in average age is: \", np.mean(victim_ages) - np.mean(survivor_ages))"
      ]
    },
    {
      "cell_type": "markdown",
      "metadata": {
        "id": "GC5uKfXqQDjs"
      },
      "source": [
        "##### 3)\n",
        "*   Select the features corresponding to the Fare and to the Survival\n",
        "*   Eliminate artifacts\n",
        "*   Compute the difference between the average fare of the two groups"
      ]
    },
    {
      "cell_type": "code",
      "execution_count": 257,
      "metadata": {
        "id": "RS8RpMGbP_Zt",
        "colab": {
          "base_uri": "https://localhost:8080/"
        },
        "outputId": "cf9d00d7-e5f8-4192-d816-35e17fe1ac61"
      },
      "outputs": [
        {
          "output_type": "stream",
          "name": "stdout",
          "text": [
            "First 5 rows of the data with only 'Fare' and 'Survival' columns:\n",
            "       Fare  Survived\n",
            "0   7.2500         0\n",
            "1  71.2833         1\n",
            "2   7.9250         1\n",
            "3  53.1000         1\n",
            "4   8.0500         0\n",
            "There are 891 rows.\n",
            "\n",
            "First 5 rows of the data after eliminating rows with missing data (artifacts):\n",
            "       Fare  Survived\n",
            "0   7.2500         0\n",
            "1  71.2833         1\n",
            "2   7.9250         1\n",
            "3  53.1000         1\n",
            "4   8.0500         0\n",
            "There are 891 rows.\n",
            "\n",
            "The difference (avg_survivor_fare - avg_victim_fare) in average age is:  26.27752071709328\n"
          ]
        }
      ],
      "source": [
        "# Select the features corresponding to the Fare and to the Survival\n",
        "fare_and_survival_data = raw_data[['Fare', 'Survived']]\n",
        "print(\"First 5 rows of the data with only 'Fare' and 'Survival' columns:\\n\", fare_and_survival_data.head())\n",
        "print(\"There are {0} rows.\".format(len(fare_and_survival_data)))\n",
        "\n",
        "# Eliminate artifacts (you can use dropna(how='any') to eliminate passengers with unknown data)\n",
        "clean_fare_and_survival_data = fare_and_survival_data.dropna(how='any')\n",
        "print(\"\\nFirst 5 rows of the data after eliminating rows with missing data (artifacts):\\n\", clean_fare_and_survival_data.head())\n",
        "print(\"There are {0} rows.\".format(len(clean_fare_and_survival_data)))\n",
        "\n",
        "# Compute the difference between the average fare of the two groups\n",
        "survivor_fares = clean_fare_and_survival_data[clean_fare_and_survival_data['Survived'] == 1]['Fare']\n",
        "victim_fares = clean_fare_and_survival_data[clean_fare_and_survival_data['Survived'] == 0]['Fare']\n",
        "dataset_property = np.mean(survivor_fares) - np.mean(victim_fares)\n",
        "print(\"\\nThe difference (avg_survivor_fare - avg_victim_fare) in average age is: \", dataset_property)"
      ]
    },
    {
      "cell_type": "markdown",
      "metadata": {
        "id": "8e5e01nhXZBQ"
      },
      "source": [
        "##### 4) Use Resampling to test the **Null hypothesis**"
      ]
    },
    {
      "cell_type": "code",
      "execution_count": 258,
      "metadata": {
        "id": "upAAfuCqXZBQ",
        "colab": {
          "base_uri": "https://localhost:8080/"
        },
        "outputId": "3b7f7add-2a2a-412e-b7b5-bca0563555c8"
      },
      "outputs": [
        {
          "output_type": "stream",
          "name": "stdout",
          "text": [
            "Null hypothesis: There is no difference in the average age between the two groups.\n",
            "There are 290 survivors.\n",
            "There are 424 victims.\n",
            "The length of the list with all ages is:  714\n",
            "The average age of Group A minus the one of Group B was greater than 26.27752071709328 0 times\n"
          ]
        }
      ],
      "source": [
        "print(\"Null hypothesis: There is no difference in the average age between the two groups.\")\n",
        "\n",
        "print(\"There are {0} survivors.\".format(len(age_survivors)))\n",
        "print(\"There are {0} victims.\".format(len(age_victims)))\n",
        "# Create a list with all ages\n",
        "all_ages = list(survivor_ages) +  list(victim_ages)\n",
        "print(\"The length of the list with all ages is: \", len(all_ages))\n",
        "\n",
        "trials = 10000 ; count = 0\n",
        "for dumb in range(trials):\n",
        "    random.shuffle(all_ages)\n",
        "    avg_A = sum(all_ages[:len(age_survivors)])/len(age_survivors)\n",
        "    avg_B = sum(all_ages[len(age_survivors):])/len(age_victims)\n",
        "    diff = avg_A - avg_B\n",
        "    if diff > dataset_property:\n",
        "        count +=1\n",
        "\n",
        "print(f\"The average age of Group A minus the one of Group B was greater than {dataset_property} {count} times\")"
      ]
    },
    {
      "cell_type": "markdown",
      "metadata": {
        "id": "Ih4zNu3rXZBU"
      },
      "source": [
        "We could safely $\\textbf{reject}$ the null hypothesis"
      ]
    },
    {
      "cell_type": "markdown",
      "metadata": {
        "id": "pvogP9w1faHA"
      },
      "source": [
        "##### 5) Concentrate on the Fare feature and compute the median correspondent to the two groups"
      ]
    },
    {
      "cell_type": "code",
      "execution_count": 259,
      "metadata": {
        "id": "1nZdUyp_faHB",
        "colab": {
          "base_uri": "https://localhost:8080/"
        },
        "outputId": "2d63eb56-54d0-4582-b9f9-3eed47a6b0c8"
      },
      "outputs": [
        {
          "output_type": "stream",
          "name": "stdout",
          "text": [
            "The median of the fares of survivors is:  26.0\n",
            "\n",
            "The median of the fares of victims is:  10.5\n"
          ]
        }
      ],
      "source": [
        "survivor_fares_np = pd.Series.to_numpy(survivor_fares)\n",
        "victim_fares_np = pd.Series.to_numpy(victim_fares)\n",
        "\n",
        "print(\"The median of the fares of survivors is: \", np.median(survivor_fares_np))\n",
        "print(\"\\nThe median of the fares of victims is: \", np.median(victim_fares_np))"
      ]
    },
    {
      "cell_type": "markdown",
      "metadata": {
        "id": "ccfakMOlfaHK"
      },
      "source": [
        "##### 6) Now we use **bootstrap** for each of the two groups:\n",
        "\n",
        "* Sample the Fares 10000 times with replacement (with the same sample size) using `np.random.choice`\n",
        "* Compute the Confidence Interval (95%) for the median using `np.percentile`"
      ]
    },
    {
      "cell_type": "code",
      "execution_count": 260,
      "metadata": {
        "id": "fkEPgn_2faHV",
        "colab": {
          "base_uri": "https://localhost:8080/"
        },
        "outputId": "83a521f1-6a88-4bf7-f2a1-171990cef2b4"
      },
      "outputs": [
        {
          "output_type": "stream",
          "name": "stdout",
          "text": [
            "Bootstrap survivor samples:\n",
            " [[ 15.75     7.7333 263.     ...   0.      23.      56.4958]\n",
            " [ 80.      12.35    57.     ...  26.3875  78.2667  15.9   ]\n",
            " [ 21.      26.      15.75   ... 512.3292  23.25     7.925 ]\n",
            " [ 91.0792  63.3583   7.75   ...   7.55    26.     108.9   ]\n",
            " [110.8833  55.9      7.75   ...   7.7875  52.5542   9.5   ]]\n",
            "Medians of Bootstrap survivor samples:  [23.625 26.    26.    26.    26.   ]\n",
            "The mean of the median fare of survivors computed with bootstrap is 25.78103805 \n",
            "The standard deviation of the median fare of survivors computed with bootstrap is 0.9519839552086463 \n",
            "The C.I. for the median fare of survivors computed with bootstrap is [23.0, 26.55] \n",
            "-----------------------------------------------------------------------------------------------------------\n",
            "Bootstrap victim samples:\n",
            " [[  7.8958  53.1      0.     ...   7.2292 151.55     7.8958]\n",
            " [ 16.1     13.      90.     ...   7.75     8.05     7.225 ]\n",
            " [ 13.      14.4542  10.5    ...   7.75    61.3792  25.925 ]\n",
            " [  0.       7.75     7.75   ...  12.525    7.0542  34.375 ]\n",
            " [  8.05     7.0542   7.7958 ...   8.05     7.775   32.3208]]\n",
            "Medians of Bootstrap victim samples:  [10.5    10.4625 10.5    10.5    13.    ]\n",
            "The mean of the median fare of victims computed with bootstrap is 10.383236199999999 \n",
            "The standard deviation of the median fare of victims computed with bootstrap is 0.8622085570264076 \n",
            "The C.I. for the median fare of victims computed with bootstrap is [9.2112825, 13.0] \n"
          ]
        }
      ],
      "source": [
        "reps = 1000\n",
        "\n",
        "boot_survivor = np.random.choice(survivor_fares_np, (reps,len(survivor_fares_np)))\n",
        "boot_survivor_medians = np.median(boot_survivor, axis=1)\n",
        "print(\"Bootstrap survivor samples:\\n\", boot_survivor[:5])\n",
        "print(\"Medians of Bootstrap survivor samples: \", boot_survivor_medians[:5])\n",
        "print(f\"The mean of the median fare of survivors computed with bootstrap is {boot_survivor_medians.mean()} \")\n",
        "print(f\"The standard deviation of the median fare of survivors computed with bootstrap is {boot_survivor_medians.std()} \")\n",
        "boot_survivor_median_CI = np.percentile(boot_survivor_medians, [2.5,97.5])\n",
        "print(f\"The C.I. for the median fare of survivors computed with bootstrap is [{boot_survivor_median_CI[0]}, {boot_survivor_median_CI[1]}] \")\n",
        "\n",
        "print(\"-----------------------------------------------------------------------------------------------------------\")\n",
        "\n",
        "boot_victim = np.random.choice(victim_fares_np, (reps,len(victim_fares_np)))\n",
        "boot_victim_medians = np.median(boot_victim, axis=1)\n",
        "print(\"Bootstrap victim samples:\\n\", boot_victim[:5])\n",
        "print(\"Medians of Bootstrap victim samples: \", boot_victim_medians[:5])\n",
        "print(f\"The mean of the median fare of victims computed with bootstrap is {boot_victim_medians.mean()} \")\n",
        "print(f\"The standard deviation of the median fare of victims computed with bootstrap is {boot_victim_medians.std()} \")\n",
        "boot_victim_median_CI = np.percentile(boot_victim_medians, [2.5,97.5])\n",
        "print(f\"The C.I. for the median fare of victims computed with bootstrap is [{boot_victim_median_CI[0]}, {boot_victim_median_CI[1]}] \")"
      ]
    },
    {
      "cell_type": "markdown",
      "metadata": {
        "id": "YBlXh4CG6INX"
      },
      "source": [
        "##### 7)\n",
        "\n",
        "* Plot the median rate distribution, including the relative confidence intervals\n",
        "* What can we say?"
      ]
    },
    {
      "cell_type": "code",
      "execution_count": 261,
      "metadata": {
        "id": "qbvv5undfaHb",
        "colab": {
          "base_uri": "https://localhost:8080/",
          "height": 544
        },
        "outputId": "e326b8fd-63b5-48ab-c66a-52f9505946a9"
      },
      "outputs": [
        {
          "output_type": "stream",
          "name": "stdout",
          "text": [
            "The confidence intervals don't overlap, indicating that there's likely a statistically significant difference between the median fares of the two groups.\n",
            "Passengers who paid higher fares had a higher likelihood of survival.\n",
            "We could safely reject the null hypothesis.\n"
          ]
        },
        {
          "output_type": "display_data",
          "data": {
            "text/plain": [
              "<Figure size 900x500 with 1 Axes>"
            ],
            "image/png": "[encoded data removed]"
          },
          "metadata": {}
        }
      ],
      "source": [
        "# Plot the median rate distribution, including the relative confidence intervals\n",
        "fig = plt.figure(figsize=(9,5))\n",
        "ax = fig.add_subplot(111)\n",
        "plt.title(\"Median fare distribution\", size = 16)\n",
        "ax.hist(boot_survivor_medians, color ='darkred', label = f\"Survivors\")\n",
        "plt.axvline(boot_survivor_median_CI[0],color = 'red',linewidth=2)\n",
        "plt.axvline(boot_survivor_median_CI[1],color = 'red',linewidth=2)\n",
        "ax.hist(boot_victim_medians, color ='darkblue', label = f\"Victims\")\n",
        "plt.axvline(boot_victim_median_CI[0],color = 'blue',linewidth=2)\n",
        "plt.axvline(boot_victim_median_CI[1],color = 'blue',linewidth=2)\n",
        "ax.set(xlabel =\"Fare\" , ylabel = \"#(occurrences)\")\n",
        "ax.legend();\n",
        "\n",
        "# What can we say?\n",
        "print(\"The confidence intervals don't overlap, indicating that there's likely a \"\n",
        "  + \"statistically significant difference between the median fares of the two groups.\\n\"\n",
        "  + \"Passengers who paid higher fares had a higher likelihood of survival.\\n\"\n",
        "  + \"We could safely reject the null hypothesis.\")"
      ]
    },
    {
      "cell_type": "markdown",
      "metadata": {
        "id": "i_mLhDls6n64"
      },
      "source": [
        "##### 8) Use bootstrap to compute the variance of the medians of the two groups"
      ]
    },
    {
      "cell_type": "code",
      "execution_count": 262,
      "metadata": {
        "id": "9MglV32z6qPu",
        "colab": {
          "base_uri": "https://localhost:8080/"
        },
        "outputId": "d34d8ee5-0f8f-4d65-f962-7e38d9fe5e64"
      },
      "outputs": [
        {
          "output_type": "stream",
          "name": "stdout",
          "text": [
            "The variance of the median fare of survivors computed with bootstrap is: 0.9062734509746979\n",
            "The variance of the median fare of victims computed with bootstrap is: 0.7434035958095601\n"
          ]
        }
      ],
      "source": [
        "print(f\"The variance of the median fare of survivors computed with bootstrap is:\", boot_survivor_medians.var())\n",
        "print(f\"The variance of the median fare of victims computed with bootstrap is:\", boot_victim_medians.var())"
      ]
    },
    {
      "cell_type": "markdown",
      "metadata": {
        "id": "D0Cq4krkcRKp"
      },
      "source": [
        "#### **Other features**"
      ]
    },
    {
      "cell_type": "markdown",
      "metadata": {
        "id": "mLgob8Qnc7IX"
      },
      "source": [
        "Now we analyse the impact of other features on the survival of the passengers:\n",
        "\n",
        "* **Sex**\n",
        "* **Pclass**$\\;\\in\\{1,2,3\\}$ is the passenger-class"
      ]
    },
    {
      "cell_type": "markdown",
      "metadata": {
        "id": "zw3kZCjicdx-"
      },
      "source": [
        "##### Compute the following conditional probabilities:\n",
        "\n",
        "* $P(Survived=1\\;|\\; Sex = female)$\n",
        "* $P(Survived=1\\;|\\; Sex = male)$"
      ]
    },
    {
      "cell_type": "code",
      "execution_count": 263,
      "metadata": {
        "id": "RJmt-V2dbTjq",
        "colab": {
          "base_uri": "https://localhost:8080/"
        },
        "outputId": "b3adc8a9-f2b6-4f7a-abc5-5a0038571014"
      },
      "outputs": [
        {
          "output_type": "stream",
          "name": "stdout",
          "text": [
            "P(Survived = 1 | Sex = female): 0.74\n",
            "P(Survived = 1 | Sex = male): 0.19\n",
            "Thus, females are more likely to survive than males.\n"
          ]
        }
      ],
      "source": [
        "# Clean the data\n",
        "sex_and_survival_data = raw_data[['Sex', 'Survived']]\n",
        "clean_sex_and_survival_data = sex_and_survival_data.dropna(how='any')\n",
        "\n",
        "female_passengers = clean_sex_and_survival_data[clean_sex_and_survival_data['Sex'] == 'female']\n",
        "female_survivors = female_passengers[female_passengers['Survived'] == 1]\n",
        "p_female_survived = len(female_survivors) / len(female_passengers)\n",
        "print(f\"P(Survived = 1 | Sex = female): {p_female_survived:.2f}\")\n",
        "\n",
        "male_passengers = clean_sex_and_survival_data[clean_sex_and_survival_data['Sex'] == 'male']\n",
        "male_survivors = male_passengers[male_passengers['Survived'] == 1]\n",
        "p_male_survived = len(male_survivors) / len(male_passengers)\n",
        "print(f\"P(Survived = 1 | Sex = male): {p_male_survived:.2f}\")\n",
        "\n",
        "print(\"Thus, females are more likely to survive than males.\")"
      ]
    },
    {
      "cell_type": "markdown",
      "metadata": {
        "id": "tINBXYm3sfHt"
      },
      "source": [
        "##### Compute the following conditional probabilities:\n",
        "\n",
        "* $P(Survived=1\\;|\\; Sex = male\\;,\\; Pclass = 1)$\n",
        "* $P(Survived=1\\;|\\; Sex = male\\;,\\; Pclass = 2)$\n",
        "* $P(Survived=1\\;|\\; Sex = male\\;,\\; Pclass = 3)$\n",
        "\n",
        "After finding the values of $Pclass$ corresponding to the highest and the lowest value of survival rate, test the hypothesis that the difference is due to the limited number of data."
      ]
    },
    {
      "cell_type": "code",
      "execution_count": 264,
      "metadata": {
        "id": "yH59SQgtsrIu",
        "colab": {
          "base_uri": "https://localhost:8080/"
        },
        "outputId": "949cd560-cf93-4e88-8c12-ae28f71f9ab6"
      },
      "outputs": [
        {
          "output_type": "stream",
          "name": "stdout",
          "text": [
            "P(Survived = 1 | Sex = male, Pclass = 1):  0.36885245901639346\n",
            "P(Survived = 1 | Sex = male, Pclass = 2):  0.1574074074074074\n",
            "P(Survived = 1 | Sex = male, Pclass = 3):  0.13544668587896252\n",
            "\n",
            "Contingency Table:\n",
            " Survived    0   1\n",
            "Pclass           \n",
            "1          77  45\n",
            "2          91  17\n",
            "3         300  47\n",
            "\n",
            "Chi-square test statistic: 32.95412946850851\n",
            "p-value: 6.98395943118492e-08\n",
            "p-value < 0.05. We could safely reject the null hypothesis. Males in higher classes are more likely to survive.\n"
          ]
        }
      ],
      "source": [
        "# Clean the data\n",
        "sex_and_class_and_survival_data = raw_data[['Sex', 'Pclass', 'Survived']]\n",
        "clean_sex_and_class_and_survival_data = sex_and_class_and_survival_data.dropna(how='any')\n",
        "\n",
        "male_passengers = clean_sex_and_class_and_survival_data[clean_sex_and_class_and_survival_data['Sex'] == 'male']\n",
        "male_1class_passengers = male_passengers[male_passengers['Pclass'] == 1]\n",
        "male_1class_survivors = male_1class_passengers[male_1class_passengers['Survived'] == 1]\n",
        "p_male_1class_passengers_survived = len(male_1class_survivors) / len(male_1class_passengers)\n",
        "print(f\"P(Survived = 1 | Sex = male, Pclass = 1): \", p_male_1class_passengers_survived)\n",
        "\n",
        "male_passengers = clean_sex_and_class_and_survival_data[clean_sex_and_class_and_survival_data['Sex'] == 'male']\n",
        "male_2class_passengers = male_passengers[male_passengers['Pclass'] == 2]\n",
        "male_2class_survivors = male_2class_passengers[male_2class_passengers['Survived'] == 1]\n",
        "p_male_2class_passengers_survived = len(male_2class_survivors) / len(male_2class_passengers)\n",
        "print(f\"P(Survived = 1 | Sex = male, Pclass = 2): \", p_male_2class_passengers_survived)\n",
        "\n",
        "male_passengers = clean_sex_and_class_and_survival_data[clean_sex_and_class_and_survival_data['Sex'] == 'male']\n",
        "male_3class_passengers = male_passengers[male_passengers['Pclass'] == 3]\n",
        "male_3class_survivors = male_3class_passengers[male_3class_passengers['Survived'] == 1]\n",
        "p_male_3class_passengers_survived = len(male_3class_survivors) / len(male_3class_passengers)\n",
        "print(f\"P(Survived = 1 | Sex = male, Pclass = 3): \", p_male_3class_passengers_survived)\n",
        "\n",
        "# Use chi-square test to test the hypothesis that the difference is due to the limited number of data.\n",
        "import scipy.stats as stats\n",
        "contingency_table = pd.crosstab(clean_sex_and_class_and_survival_data[clean_sex_and_class_and_survival_data['Sex'] == 'male']['Pclass'], clean_sex_and_class_and_survival_data[clean_sex_and_class_and_survival_data['Sex'] == 'male']['Survived'])\n",
        "print(\"\\nContingency Table:\\n\", contingency_table)\n",
        "\n",
        "# Perform the Chi-square test\n",
        "chi2, p, _, _ = stats.chi2_contingency(contingency_table)\n",
        "print(\"\\nChi-square test statistic:\", chi2)\n",
        "print(\"p-value:\", p)\n",
        "print(\"p-value < 0.05. We could safely reject the null hypothesis. Males in higher classes are more likely to survive.\")"
      ]
    }
  ],
  "metadata": {
    "colab": {
      "provenance": [],
      "include_colab_link": true
    },
    "interpreter": {
      "hash": "582665e005205e644d403bc592ba93d87a6a83a74c3df9237a83d39250e0e3aa"
    },
    "kernelspec": {
      "display_name": "Python 3.8.13 ('Epi38')",
      "language": "python",
      "name": "python3"
    },
    "language_info": {
      "codemirror_mode": {
        "name": "ipython",
        "version": 3
      },
      "file_extension": ".py",
      "mimetype": "text/x-python",
      "name": "python",
      "nbconvert_exporter": "python",
      "pygments_lexer": "ipython3",
      "version": "3.8.8"
    }
  },
  "nbformat": 4,
  "nbformat_minor": 0
}
